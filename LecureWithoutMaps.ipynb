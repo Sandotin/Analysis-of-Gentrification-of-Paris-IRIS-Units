{
 "cells": [
  {
   "cell_type": "markdown",
   "metadata": {},
   "source": [
    "# French 43 - Introduction to Jupyter Notebook"
   ]
  },
  {
   "cell_type": "markdown",
   "metadata": {},
   "source": [
    "## The Jupyter Notebook\n",
    "\n",
    "First of all, note that this page is divided into what are called *cells*. You can navigate cells by clicking on them or by using the up and down arrows. Cells will be highlighted as you navigate them.\n",
    "\n",
    "### Text cells\n",
    "\n",
    "Text cells (like this one) can be edited by double-clicking on them. They're written in a simple format called [Markdown](http://daringfireball.net/projects/markdown/syntax) to add formatting and section headings.  You don't need to learn Markdown, but know the difference between Text Cells and Code Cells."
   ]
  },
  {
   "cell_type": "markdown",
   "metadata": {},
   "source": [
    "### Code cells\n",
    "Other cells contain code in the Python 3 language. Don't worry -- we'll show you everything you need to know to succeed in this part of the class. \n",
    "\n",
    "The fundamental building block of Python code is an **expression**. Cells can contain multiple lines with multiple expressions.  We'll explain what exactly we mean by \"expressions\" in just a moment: first, let's learn how to \"run\" cells."
   ]
  },
  {
   "cell_type": "markdown",
   "metadata": {},
   "source": [
    "### Running cells\n",
    "\n",
    "\"Running a cell\" is equivalent to pressing \"Enter\" on a calculator once you've typed in the expression you want to evaluate: it produces an **output**. When you run a text cell, it outputs clean, organized writing. When you run a code cell, it **computes** all of the expressions you want to evaluate, and can **output** the result of the computation.\n",
    "\n",
    "<p></p>\n",
    "\n",
    "<div class=\"alert alert-info\">\n",
    "To run the code in a code cell, first click on that cell to activate it.  It'll be highlighted with a little green or blue rectangle.  Next, you can either press the <code><b>▶|</b> Run </code> button above or press <b><code>Shift + Return</code></b> or <b><code>Shift + Enter</code></b>. This will run the current cell and select the next one.\n",
    "</div>\n",
    "\n",
    "Text cells are useful for taking notes and keeping your notebook organized, but your data analysis will be done in code cells. We will focus on code cells for the rest of the class."
   ]
  },
  {
   "cell_type": "code",
   "execution_count": 1,
   "metadata": {},
   "outputs": [
    {
     "name": "stdout",
     "output_type": "stream",
     "text": [
      "Hello world!\n"
     ]
    }
   ],
   "source": [
    "print(\"Hello world!\")"
   ]
  },
  {
   "cell_type": "markdown",
   "metadata": {},
   "source": [
    "### Expressions\n",
    "\n",
    "An expression is a combination of numbers, variables, operators, and/or other Python elements that the language interprets and acts upon. Expressions act as a set of **instructions** to be followed, with the goal of generating specific outcomes.\n",
    "\n",
    "You can start by thinking of code cells as really smart calculators that computes these expressions. For instance, code cells can evaluate simple arithmetic:"
   ]
  },
  {
   "cell_type": "code",
   "execution_count": 2,
   "metadata": {},
   "outputs": [
    {
     "data": {
      "text/plain": [
       "20"
      ]
     },
     "execution_count": 2,
     "metadata": {},
     "output_type": "execute_result"
    }
   ],
   "source": [
    "#Run me!\n",
    "#This is an expression\n",
    "10 + 10"
   ]
  },
  {
   "cell_type": "code",
   "execution_count": 3,
   "metadata": {},
   "outputs": [
    {
     "data": {
      "text/plain": [
       "4.0"
      ]
     },
     "execution_count": 3,
     "metadata": {},
     "output_type": "execute_result"
    }
   ],
   "source": [
    "#Run me too!\n",
    "#This is another expression\n",
    "(10 + 10) / 5"
   ]
  },
  {
   "cell_type": "markdown",
   "metadata": {},
   "source": [
    "### Variables!\n",
    "\n",
    "But the point of coding is that you can save these outputs to be used later without computing it again. So, we set **variables** to these values! Just like in your standard algebra class, you can set the letter `x` to be 10. You can set letter `y` to be 5. You can add variables `x` and `y` to get 15."
   ]
  },
  {
   "cell_type": "code",
   "execution_count": 4,
   "metadata": {},
   "outputs": [],
   "source": [
    "#this won't output anything: you're just telling the cell to set x to 10\n",
    "x = 10"
   ]
  },
  {
   "cell_type": "code",
   "execution_count": 5,
   "metadata": {},
   "outputs": [],
   "source": [
    "y = 5"
   ]
  },
  {
   "cell_type": "code",
   "execution_count": 6,
   "metadata": {},
   "outputs": [
    {
     "data": {
      "text/plain": [
       "15"
      ]
     },
     "execution_count": 6,
     "metadata": {},
     "output_type": "execute_result"
    }
   ],
   "source": [
    "#This will output the answer to the addition: you're asking it to compute the number\n",
    "x + y"
   ]
  },
  {
   "cell_type": "markdown",
   "metadata": {},
   "source": [
    "You can then **redefine** variables you have used before to hold **new** values; in other words, it replaces the old values. If you run the following cell, `x` and `y` will now hold different values:"
   ]
  },
  {
   "cell_type": "code",
   "execution_count": 7,
   "metadata": {},
   "outputs": [
    {
     "data": {
      "text/plain": [
       "11"
      ]
     },
     "execution_count": 7,
     "metadata": {},
     "output_type": "execute_result"
    }
   ],
   "source": [
    "#You can put all of the different expressions above into one code cell.\n",
    "#When you run this code cell, everything will be evaluated in order, from top to bottom.\n",
    "x = 3\n",
    "y = 8\n",
    "x+y"
   ]
  },
  {
   "cell_type": "code",
   "execution_count": 8,
   "metadata": {},
   "outputs": [
    {
     "data": {
      "text/plain": [
       "4"
      ]
     },
     "execution_count": 8,
     "metadata": {},
     "output_type": "execute_result"
    }
   ],
   "source": [
    "#Adding the variable name on the line below prints it out!\n",
    "test = 4\n",
    "test"
   ]
  },
  {
   "cell_type": "code",
   "execution_count": 9,
   "metadata": {},
   "outputs": [
    {
     "data": {
      "text/plain": [
       "234"
      ]
     },
     "execution_count": 9,
     "metadata": {},
     "output_type": "execute_result"
    }
   ],
   "source": [
    "another_test = 234\n",
    "another_test"
   ]
  },
  {
   "cell_type": "markdown",
   "metadata": {},
   "source": [
    "Variables are assigned to some value. This means everything to the right side of the equals sign is **first evaluated** and **then saved** as the variable:"
   ]
  },
  {
   "cell_type": "code",
   "execution_count": 10,
   "metadata": {},
   "outputs": [
    {
     "data": {
      "text/plain": [
       "12"
      ]
     },
     "execution_count": 10,
     "metadata": {},
     "output_type": "execute_result"
    }
   ],
   "source": [
    "#Notice y is still the same value as before\n",
    "# test + y is evaluated to 12\n",
    "# 12 is set to the varible answer_to_above\n",
    "\n",
    "answer_to_above = test+y\n",
    "answer_to_above"
   ]
  },
  {
   "cell_type": "markdown",
   "metadata": {},
   "source": [
    "**You Try:** What should be the answer to \"2 times `test` plus `answer_to_above`\"? \n",
    "\n",
    "*Hint:* the astrisk symbol \\* is used for the multiplication sign"
   ]
  },
  {
   "cell_type": "code",
   "execution_count": 11,
   "metadata": {},
   "outputs": [],
   "source": [
    "#Calculate your answer in this code block\n"
   ]
  },
  {
   "cell_type": "markdown",
   "metadata": {},
   "source": [
    "Does your answer make sense?"
   ]
  },
  {
   "cell_type": "markdown",
   "metadata": {},
   "source": [
    "### Variables vs. Strings\n",
    "We have to be careful when working with words in a code cell. Words carry different meanings and uses when they are **in quotes** and **not in quotes**.\n",
    "\n",
    "When words are in quotes, they often signify some sort of **identification**. In this lab (and future notebooks), you'll use identification to specify **column names of tables**. In quotes, words have meaning: Python understands these as the name of something. If a table has a column named \"Gender\", we can ask the notebook to find the column named \"Gender\" and the data contained in this column. Therefore, these quotations are **values**, just like numbers. In Python, this value type is called a **string**."
   ]
  },
  {
   "cell_type": "code",
   "execution_count": 12,
   "metadata": {},
   "outputs": [
    {
     "data": {
      "text/plain": [
       "123"
      ]
     },
     "execution_count": 12,
     "metadata": {},
     "output_type": "execute_result"
    }
   ],
   "source": [
    "#I output a number\n",
    "123"
   ]
  },
  {
   "cell_type": "code",
   "execution_count": 13,
   "metadata": {},
   "outputs": [
    {
     "data": {
      "text/plain": [
       "'Woohoo'"
      ]
     },
     "execution_count": 13,
     "metadata": {},
     "output_type": "execute_result"
    }
   ],
   "source": [
    "#I output a string\n",
    "\"Woohoo\""
   ]
  },
  {
   "cell_type": "markdown",
   "metadata": {},
   "source": [
    "What if we try to type a random word in a code cell **without** putting it in quotes?"
   ]
  },
  {
   "cell_type": "code",
   "execution_count": 14,
   "metadata": {},
   "outputs": [
    {
     "ename": "NameError",
     "evalue": "name 'Woohoo' is not defined",
     "output_type": "error",
     "traceback": [
      "\u001b[0;31m---------------------------------------------------------------------------\u001b[0m",
      "\u001b[0;31mNameError\u001b[0m                                 Traceback (most recent call last)",
      "\u001b[0;32m<ipython-input-14-ef692140c666>\u001b[0m in \u001b[0;36m<module>\u001b[0;34m\u001b[0m\n\u001b[1;32m      1\u001b[0m \u001b[0;31m#This will Error!\u001b[0m\u001b[0;34m\u001b[0m\u001b[0;34m\u001b[0m\u001b[0;34m\u001b[0m\u001b[0m\n\u001b[0;32m----> 2\u001b[0;31m \u001b[0mWoohoo\u001b[0m\u001b[0;34m\u001b[0m\u001b[0;34m\u001b[0m\u001b[0m\n\u001b[0m",
      "\u001b[0;31mNameError\u001b[0m: name 'Woohoo' is not defined"
     ]
    }
   ],
   "source": [
    "#This will Error!\n",
    "Woohoo"
   ]
  },
  {
   "cell_type": "markdown",
   "metadata": {},
   "source": [
    "It throws out an error! Why? Because code cells think in terms of math, and any word **not** in quotes is considered to be a **variable** that stores information or means something. In this notebook, we haven't told it what `Woohoo` means -- it's just an empty variable holding no information, so it complains and says \"I don't know what `Woohoo` is supposed to be.\" It's like taking an algebra exam and telling your teacher: \"The answer is `x`\". Your teacher would write back, \"...and what, exactly, is `x`?\" That's essentially what the notebook is saying."
   ]
  },
  {
   "cell_type": "markdown",
   "metadata": {},
   "source": [
    "Now run this cell to `import` some code we'll use today, nothing will `print` out, don't worry!"
   ]
  },
  {
   "cell_type": "code",
   "execution_count": 15,
   "metadata": {},
   "outputs": [],
   "source": [
    "!pip install -I -q folium==0.8.3\n",
    "import numpy as np\n",
    "import matplotlib.pyplot as plt\n",
    "from datascience import *\n",
    "%matplotlib inline \n",
    "plt.style.use(\"fivethirtyeight\")\n",
    "import pandas as pd\n",
    "import folium\n",
    "import geojson\n",
    "import geopandas as gpd\n",
    "from IPython.display import IFrame"
   ]
  },
  {
   "cell_type": "markdown",
   "metadata": {
    "collapsed": true
   },
   "source": [
    "### Importing\n",
    "\n",
    "In data analytics, there is almost always a file holding your data that already exists. There are thousands of databases online that contain information on topics from all domains. In general, to import data from a file, we write:\n",
    "\n",
    "```python\n",
    "Table.read_table(\"file_name\")\n",
    "```\n",
    "\n",
    "Most often, these file names end in `.csv` to show the data format. `.csv` format is popular for spreadsheets and can be imported/exported from programs such as Microsoft Excel, OpenOffice Calc, or Google spreadsheets. \n",
    " \n",
    "An example is shown below using [IRIS_SOCIOLOGIE](http://opendata.apur.org/datasets/iris-sociologie/data)"
   ]
  },
  {
   "cell_type": "code",
   "execution_count": 16,
   "metadata": {
    "scrolled": true
   },
   "outputs": [
    {
     "data": {
      "text/html": [
       "<table border=\"1\" class=\"dataframe\">\n",
       "    <thead>\n",
       "        <tr>\n",
       "            <th>OBJECTID</th> <th>N_SQ_IR</th> <th>C_CAINSEE</th> <th>N_QU</th> <th>C_IR</th> <th>C_TYPEIR</th> <th>L_IR</th> <th>M2_IP</th> <th>M2_POP</th> <th>M2_EMP</th> <th>NOM_EPT</th> <th>EPT</th> <th>IRIS</th> <th>IRIS_NUM</th> <th>DEP</th> <th>UU2010</th> <th>COM</th> <th>LIBCOM</th> <th>LIBIRIS</th> <th>TYP_IRIS</th> <th>MODIF_IRIS</th> <th>LAB_IRIS</th> <th>SHAPE_ha</th> <th>P12_RP_VOIT1P</th> <th>TX12_RP_VOIT1P</th> <th>C12_MEN</th> <th>C12_MENPSEUL</th> <th>TX12_MENPSEUL</th> <th>C12_NE24F1</th> <th>C12_NE24F2</th> <th>C12_NE24F3</th> <th>C12_NE24F4P</th> <th>C12_NE24F</th> <th>TX12_NE24F</th> <th>SHAPE_Length</th> <th>SHAPE_Area</th>\n",
       "        </tr>\n",
       "    </thead>\n",
       "    <tbody>\n",
       "        <tr>\n",
       "            <td>1       </td> <td>750004511</td> <td>75101    </td> <td>1   </td> <td>751010101</td> <td>H       </td> <td>Saint-Germain L'Auxerrois 1</td> <td>35395.5</td> <td>22312.5 </td> <td>33459.7 </td> <td>Paris  </td> <td>T1  </td> <td>751010101</td> <td>751010101</td> <td>75  </td> <td>851   </td> <td>75101</td> <td>Paris 1er Arrondissement</td> <td>Saint-Germain l'Auxerrois 1</td> <td>H       </td> <td>00        </td> <td>1       </td> <td>6.44942 </td> <td>193.142      </td> <td>nan           </td> <td>501.223</td> <td>249.284     </td> <td>49.7352      </td> <td>63.2679   </td> <td>42.0458   </td> <td>4.10618   </td> <td>0          </td> <td>109.42   </td> <td>21.8306   </td> <td>1083.99     </td> <td>64488.1   </td>\n",
       "        </tr>\n",
       "        <tr>\n",
       "            <td>2       </td> <td>750004559</td> <td>75101    </td> <td>1   </td> <td>751010102</td> <td>A       </td> <td>Saint-Germain l'Auxerrois 2</td> <td>45971.8</td> <td>4728.31 </td> <td>42976.7 </td> <td>Paris  </td> <td>T1  </td> <td>751010102</td> <td>751010102</td> <td>75  </td> <td>851   </td> <td>75101</td> <td>Paris 1er Arrondissement</td> <td>Saint-Germain l'Auxerrois 2</td> <td>A       </td> <td>00        </td> <td>3       </td> <td>6.19873 </td> <td>45.0733      </td> <td>nan           </td> <td>84.4898</td> <td>50.0393     </td> <td>59.2253      </td> <td>6.54643   </td> <td>0         </td> <td>2.54837   </td> <td>0          </td> <td>9.09479  </td> <td>10.7644   </td> <td>1057.13     </td> <td>61981.2   </td>\n",
       "        </tr>\n",
       "        <tr>\n",
       "            <td>3       </td> <td>750004497</td> <td>75101    </td> <td>1   </td> <td>751010103</td> <td>A       </td> <td>Saint-Germain L'Auxerrois 3</td> <td>29246.6</td> <td>17775.1 </td> <td>26203.9 </td> <td>Paris  </td> <td>T1  </td> <td>751010103</td> <td>751010103</td> <td>75  </td> <td>851   </td> <td>75101</td> <td>Paris 1er Arrondissement</td> <td>Saint-Germain l'Auxerrois 3</td> <td>A       </td> <td>00        </td> <td>3       </td> <td>4.60627 </td> <td>75.0171      </td> <td>nan           </td> <td>201.637</td> <td>112.363     </td> <td>55.7254      </td> <td>26.0243   </td> <td>7.99613   </td> <td>8.88347   </td> <td>0          </td> <td>42.9039  </td> <td>21.2777   </td> <td>877.312     </td> <td>46058.5   </td>\n",
       "        </tr>\n",
       "        <tr>\n",
       "            <td>4       </td> <td>750004460</td> <td>75101    </td> <td>1   </td> <td>751010104</td> <td>A       </td> <td>Saint-Germain L'Auxerrois 4</td> <td>181709 </td> <td>26416.3 </td> <td>109150  </td> <td>Paris  </td> <td>T1  </td> <td>751010104</td> <td>751010104</td> <td>75  </td> <td>851   </td> <td>75101</td> <td>Paris 1er Arrondissement</td> <td>Saint-Germain l'Auxerrois 4</td> <td>A       </td> <td>00        </td> <td>3       </td> <td>22.4808 </td> <td>3.54936      </td> <td>nan           </td> <td>4.4367 </td> <td>1.77468     </td> <td>40           </td> <td>0.88734   </td> <td>0         </td> <td>0         </td> <td>0          </td> <td>0.88734  </td> <td>20        </td> <td>2052.89     </td> <td>224788    </td>\n",
       "        </tr>\n",
       "        <tr>\n",
       "            <td>5       </td> <td>750004388</td> <td>75101    </td> <td>1   </td> <td>751010105</td> <td>D       </td> <td>Tuileries                  </td> <td>225540 </td> <td>11.5994 </td> <td>2736.06 </td> <td>Paris  </td> <td>T1  </td> <td>751010105</td> <td>751010105</td> <td>75  </td> <td>851   </td> <td>75101</td> <td>Paris 1er Arrondissement</td> <td>Tuileries                  </td> <td>D       </td> <td>00        </td> <td>3       </td> <td>24.8896 </td> <td>nan          </td> <td>nan           </td> <td>nan    </td> <td>nan         </td> <td>nan          </td> <td>nan       </td> <td>nan       </td> <td>nan       </td> <td>nan        </td> <td>0        </td> <td>nan       </td> <td>2112.53     </td> <td>248875    </td>\n",
       "        </tr>\n",
       "        <tr>\n",
       "            <td>6       </td> <td>750004461</td> <td>75101    </td> <td>1   </td> <td>751010199</td> <td>D       </td> <td>Seine et Berges            </td> <td>21293.3</td> <td>0.209782</td> <td>0.209782</td> <td>Paris  </td> <td>T1  </td> <td>751010199</td> <td>751010199</td> <td>75  </td> <td>851   </td> <td>75101</td> <td>Paris 1er Arrondissement</td> <td>Seine et Berges            </td> <td>D       </td> <td>00        </td> <td>3       </td> <td>22.2792 </td> <td>nan          </td> <td>nan           </td> <td>nan    </td> <td>nan         </td> <td>nan          </td> <td>nan       </td> <td>nan       </td> <td>nan       </td> <td>nan        </td> <td>0        </td> <td>nan       </td> <td>5146.54     </td> <td>222771    </td>\n",
       "        </tr>\n",
       "        <tr>\n",
       "            <td>7       </td> <td>750004421</td> <td>75101    </td> <td>2   </td> <td>751010201</td> <td>H       </td> <td>Les Halles 1               </td> <td>44086.6</td> <td>40507.3 </td> <td>41712.2 </td> <td>Paris  </td> <td>T1  </td> <td>751010201</td> <td>751010201</td> <td>75  </td> <td>851   </td> <td>75101</td> <td>Paris 1er Arrondissement</td> <td>Les Halles 1               </td> <td>H       </td> <td>00        </td> <td>1       </td> <td>7.83812 </td> <td>266.519      </td> <td>nan           </td> <td>1530.2 </td> <td>981.135     </td> <td>64.1181      </td> <td>65.5406   </td> <td>65.7735   </td> <td>15.9704   </td> <td>0          </td> <td>147.284  </td> <td>9.62519   </td> <td>1483.01     </td> <td>78374.2   </td>\n",
       "        </tr>\n",
       "        <tr>\n",
       "            <td>8       </td> <td>750004483</td> <td>75101    </td> <td>2   </td> <td>751010202</td> <td>H       </td> <td>Les Halles 2               </td> <td>46064.5</td> <td>41030.7 </td> <td>45448   </td> <td>Paris  </td> <td>T1  </td> <td>751010202</td> <td>751010202</td> <td>75  </td> <td>851   </td> <td>75101</td> <td>Paris 1er Arrondissement</td> <td>Les Halles 2               </td> <td>H       </td> <td>00        </td> <td>1       </td> <td>7.0183  </td> <td>267.455      </td> <td>nan           </td> <td>1035.95</td> <td>615.693     </td> <td>59.4324      </td> <td>62.1218   </td> <td>71.7292   </td> <td>14.6645   </td> <td>0          </td> <td>148.515  </td> <td>14.3361   </td> <td>1509.74     </td> <td>70176.7   </td>\n",
       "        </tr>\n",
       "        <tr>\n",
       "            <td>9       </td> <td>750004406</td> <td>75101    </td> <td>2   </td> <td>751010203</td> <td>H       </td> <td>Les Halles 3               </td> <td>55295.9</td> <td>54574.5 </td> <td>55024.4 </td> <td>Paris  </td> <td>T1  </td> <td>751010203</td> <td>751010203</td> <td>75  </td> <td>851   </td> <td>75101</td> <td>Paris 1er Arrondissement</td> <td>Les Halles 3               </td> <td>H       </td> <td>00        </td> <td>1       </td> <td>8.99698 </td> <td>372.092      </td> <td>nan           </td> <td>1405.89</td> <td>836.911     </td> <td>59.5289      </td> <td>110.564   </td> <td>86.4571   </td> <td>14.6706   </td> <td>2.85019    </td> <td>214.542  </td> <td>15.2602   </td> <td>1915.56     </td> <td>89961.9   </td>\n",
       "        </tr>\n",
       "        <tr>\n",
       "            <td>10      </td> <td>750004404</td> <td>75101    </td> <td>2   </td> <td>751010204</td> <td>H       </td> <td>Les Halles 4               </td> <td>43697.1</td> <td>38179.1 </td> <td>43578.7 </td> <td>Paris  </td> <td>T1  </td> <td>751010204</td> <td>751010204</td> <td>75  </td> <td>851   </td> <td>75101</td> <td>Paris 1er Arrondissement</td> <td>Les Halles 4               </td> <td>H       </td> <td>00        </td> <td>2       </td> <td>6.59916 </td> <td>350.386      </td> <td>nan           </td> <td>1260.72</td> <td>659.555     </td> <td>52.3157      </td> <td>143.562   </td> <td>98.0972   </td> <td>42.7924   </td> <td>5.4563     </td> <td>289.908  </td> <td>22.9954   </td> <td>1136.64     </td> <td>65986     </td>\n",
       "        </tr>\n",
       "    </tbody>\n",
       "</table>\n",
       "<p>... (2831 rows omitted)</p>"
      ],
      "text/plain": [
       "OBJECTID | N_SQ_IR   | C_CAINSEE | N_QU | C_IR      | C_TYPEIR | L_IR                        | M2_IP   | M2_POP   | M2_EMP   | NOM_EPT | EPT  | IRIS      | IRIS_NUM  | DEP  | UU2010 | COM   | LIBCOM                   | LIBIRIS                     | TYP_IRIS | MODIF_IRIS | LAB_IRIS | SHAPE_ha | P12_RP_VOIT1P | TX12_RP_VOIT1P | C12_MEN | C12_MENPSEUL | TX12_MENPSEUL | C12_NE24F1 | C12_NE24F2 | C12_NE24F3 | C12_NE24F4P | C12_NE24F | TX12_NE24F | SHAPE_Length | SHAPE_Area\n",
       "1        | 750004511 | 75101     | 1    | 751010101 | H        | Saint-Germain L'Auxerrois 1 | 35395.5 | 22312.5  | 33459.7  | Paris   | T1   | 751010101 | 751010101 | 75   | 851    | 75101 | Paris 1er Arrondissement | Saint-Germain l'Auxerrois 1 | H        | 00         | 1        | 6.44942  | 193.142       | nan            | 501.223 | 249.284      | 49.7352       | 63.2679    | 42.0458    | 4.10618    | 0           | 109.42    | 21.8306    | 1083.99      | 64488.1\n",
       "2        | 750004559 | 75101     | 1    | 751010102 | A        | Saint-Germain l'Auxerrois 2 | 45971.8 | 4728.31  | 42976.7  | Paris   | T1   | 751010102 | 751010102 | 75   | 851    | 75101 | Paris 1er Arrondissement | Saint-Germain l'Auxerrois 2 | A        | 00         | 3        | 6.19873  | 45.0733       | nan            | 84.4898 | 50.0393      | 59.2253       | 6.54643    | 0          | 2.54837    | 0           | 9.09479   | 10.7644    | 1057.13      | 61981.2\n",
       "3        | 750004497 | 75101     | 1    | 751010103 | A        | Saint-Germain L'Auxerrois 3 | 29246.6 | 17775.1  | 26203.9  | Paris   | T1   | 751010103 | 751010103 | 75   | 851    | 75101 | Paris 1er Arrondissement | Saint-Germain l'Auxerrois 3 | A        | 00         | 3        | 4.60627  | 75.0171       | nan            | 201.637 | 112.363      | 55.7254       | 26.0243    | 7.99613    | 8.88347    | 0           | 42.9039   | 21.2777    | 877.312      | 46058.5\n",
       "4        | 750004460 | 75101     | 1    | 751010104 | A        | Saint-Germain L'Auxerrois 4 | 181709  | 26416.3  | 109150   | Paris   | T1   | 751010104 | 751010104 | 75   | 851    | 75101 | Paris 1er Arrondissement | Saint-Germain l'Auxerrois 4 | A        | 00         | 3        | 22.4808  | 3.54936       | nan            | 4.4367  | 1.77468      | 40            | 0.88734    | 0          | 0          | 0           | 0.88734   | 20         | 2052.89      | 224788\n",
       "5        | 750004388 | 75101     | 1    | 751010105 | D        | Tuileries                   | 225540  | 11.5994  | 2736.06  | Paris   | T1   | 751010105 | 751010105 | 75   | 851    | 75101 | Paris 1er Arrondissement | Tuileries                   | D        | 00         | 3        | 24.8896  | nan           | nan            | nan     | nan          | nan           | nan        | nan        | nan        | nan         | 0         | nan        | 2112.53      | 248875\n",
       "6        | 750004461 | 75101     | 1    | 751010199 | D        | Seine et Berges             | 21293.3 | 0.209782 | 0.209782 | Paris   | T1   | 751010199 | 751010199 | 75   | 851    | 75101 | Paris 1er Arrondissement | Seine et Berges             | D        | 00         | 3        | 22.2792  | nan           | nan            | nan     | nan          | nan           | nan        | nan        | nan        | nan         | 0         | nan        | 5146.54      | 222771\n",
       "7        | 750004421 | 75101     | 2    | 751010201 | H        | Les Halles 1                | 44086.6 | 40507.3  | 41712.2  | Paris   | T1   | 751010201 | 751010201 | 75   | 851    | 75101 | Paris 1er Arrondissement | Les Halles 1                | H        | 00         | 1        | 7.83812  | 266.519       | nan            | 1530.2  | 981.135      | 64.1181       | 65.5406    | 65.7735    | 15.9704    | 0           | 147.284   | 9.62519    | 1483.01      | 78374.2\n",
       "8        | 750004483 | 75101     | 2    | 751010202 | H        | Les Halles 2                | 46064.5 | 41030.7  | 45448    | Paris   | T1   | 751010202 | 751010202 | 75   | 851    | 75101 | Paris 1er Arrondissement | Les Halles 2                | H        | 00         | 1        | 7.0183   | 267.455       | nan            | 1035.95 | 615.693      | 59.4324       | 62.1218    | 71.7292    | 14.6645    | 0           | 148.515   | 14.3361    | 1509.74      | 70176.7\n",
       "9        | 750004406 | 75101     | 2    | 751010203 | H        | Les Halles 3                | 55295.9 | 54574.5  | 55024.4  | Paris   | T1   | 751010203 | 751010203 | 75   | 851    | 75101 | Paris 1er Arrondissement | Les Halles 3                | H        | 00         | 1        | 8.99698  | 372.092       | nan            | 1405.89 | 836.911      | 59.5289       | 110.564    | 86.4571    | 14.6706    | 2.85019     | 214.542   | 15.2602    | 1915.56      | 89961.9\n",
       "10       | 750004404 | 75101     | 2    | 751010204 | H        | Les Halles 4                | 43697.1 | 38179.1  | 43578.7  | Paris   | T1   | 751010204 | 751010204 | 75   | 851    | 75101 | Paris 1er Arrondissement | Les Halles 4                | H        | 00         | 2        | 6.59916  | 350.386       | nan            | 1260.72 | 659.555      | 52.3157       | 143.562    | 98.0972    | 42.7924    | 5.4563      | 289.908   | 22.9954    | 1136.64      | 65986\n",
       "... (2831 rows omitted)"
      ]
     },
     "execution_count": 16,
     "metadata": {},
     "output_type": "execute_result"
    }
   ],
   "source": [
    "Table.read_table(\"IRIS_SOCIOLOGIE.csv\")"
   ]
  },
  {
   "cell_type": "markdown",
   "metadata": {},
   "source": [
    "Now we are going to upload the other tables, Activite and Demographie"
   ]
  },
  {
   "cell_type": "code",
   "execution_count": 19,
   "metadata": {
    "scrolled": true
   },
   "outputs": [],
   "source": [
    "dem_data = Table.read_table(\"IRIS_DEMOGRAPHIE-2.csv\")"
   ]
  },
  {
   "cell_type": "code",
   "execution_count": 20,
   "metadata": {},
   "outputs": [],
   "source": [
    "act_data = Table.read_table(\"IRIS_ACTIVITE.csv\")"
   ]
  },
  {
   "cell_type": "markdown",
   "metadata": {},
   "source": [
    "## Renaming Columns\n",
    "\n",
    "That's a lot of information in one table using abbreviations that can be difficult to understand. In order to make it more readable, we will rename the columns by creating a new table with the data we want to use and adding more explicit column names."
   ]
  },
  {
   "cell_type": "code",
   "execution_count": 21,
   "metadata": {},
   "outputs": [
    {
     "data": {
      "text/html": [
       "<table border=\"1\" class=\"dataframe\">\n",
       "    <thead>\n",
       "        <tr>\n",
       "            <th>OBJECTID</th> <th>N_SQ_IR</th> <th>C_CAINSEE</th> <th>N_QU</th> <th>C_IR</th> <th>C_TYPEIR</th> <th>L_IR</th> <th>M2_IP</th> <th>M2_POP</th> <th>M2_EMP</th> <th>NOM_EPT</th> <th>EPT</th> <th>IRIS</th> <th>IRIS_NUM</th> <th>DEP</th> <th>UU2010</th> <th>COM</th> <th>LIBCOM</th> <th>LIBIRIS</th> <th>TYP_IRIS</th> <th>MODIF_IRIS</th> <th>LAB_IRIS</th> <th>SHAPE_ha</th> <th>P12_POP1564</th> <th>P12_ACT1564</th> <th>TX12_ACT1564</th> <th>P12_ACTOCC1564</th> <th>TX12_ACTOCC1564</th> <th>C12_ACTOCC15P</th> <th>C12_ACTOCC15P_TCOM</th> <th>TX12_ACTOCC15P_TCOM</th> <th>C12_ACT1564_CS1</th> <th>C12_ACT1564_CS2</th> <th>C12_ACT1564_CS3</th> <th>C12_ACT1564_CS4</th> <th>C12_ACT1564_CS5</th> <th>C12_ACT1564_CS6</th> <th>SHAPE_Length</th> <th>SHAPE_Area</th>\n",
       "        </tr>\n",
       "    </thead>\n",
       "    <tbody>\n",
       "        <tr>\n",
       "            <td>1       </td> <td>750004511</td> <td>75101    </td> <td>1   </td> <td>751010101</td> <td>H       </td> <td>Saint-Germain L'Auxerrois 1</td> <td>35395.5</td> <td>22312.5 </td> <td>33459.7 </td> <td>Paris  </td> <td>T1  </td> <td>751010101</td> <td>751010101</td> <td>75  </td> <td>851   </td> <td>75101</td> <td>Paris 1er Arrondissement</td> <td>Saint-Germain l'Auxerrois 1</td> <td>H       </td> <td>00        </td> <td>1       </td> <td>6.44942 </td> <td>667.196    </td> <td>548.28     </td> <td>82.1768     </td> <td>498.977       </td> <td>74.7871        </td> <td>512.116      </td> <td>369.906           </td> <td>72.2309            </td> <td>0              </td> <td>41.0005        </td> <td>315.838        </td> <td>107.449        </td> <td>73.2291        </td> <td>7.38814        </td> <td>1083.99     </td> <td>64488.1   </td>\n",
       "        </tr>\n",
       "        <tr>\n",
       "            <td>2       </td> <td>750004559</td> <td>75101    </td> <td>1   </td> <td>751010102</td> <td>A       </td> <td>Saint-Germain l'Auxerrois 2</td> <td>45971.8</td> <td>4728.31 </td> <td>42976.7 </td> <td>Paris  </td> <td>T1  </td> <td>751010102</td> <td>751010102</td> <td>75  </td> <td>851   </td> <td>75101</td> <td>Paris 1er Arrondissement</td> <td>Saint-Germain l'Auxerrois 2</td> <td>A       </td> <td>00        </td> <td>3       </td> <td>6.19873 </td> <td>98.3124    </td> <td>45.8584    </td> <td>46.6456     </td> <td>40.2278       </td> <td>40.9183        </td> <td>51.8709      </td> <td>16.7211           </td> <td>32.236             </td> <td>0              </td> <td>2.44385        </td> <td>28.8981        </td> <td>9.1805         </td> <td>5.33589        </td> <td>0              </td> <td>1057.13     </td> <td>61981.2   </td>\n",
       "        </tr>\n",
       "        <tr>\n",
       "            <td>3       </td> <td>750004497</td> <td>75101    </td> <td>1   </td> <td>751010103</td> <td>A       </td> <td>Saint-Germain L'Auxerrois 3</td> <td>29246.6</td> <td>17775.1 </td> <td>26203.9 </td> <td>Paris  </td> <td>T1  </td> <td>751010103</td> <td>751010103</td> <td>75  </td> <td>851   </td> <td>75101</td> <td>Paris 1er Arrondissement</td> <td>Saint-Germain l'Auxerrois 3</td> <td>A       </td> <td>00        </td> <td>3       </td> <td>4.60627 </td> <td>297.772    </td> <td>196.398    </td> <td>65.9559     </td> <td>183.735       </td> <td>61.7033        </td> <td>200.886      </td> <td>113.987           </td> <td>56.7424            </td> <td>0              </td> <td>19.571         </td> <td>100.647        </td> <td>45.6372        </td> <td>25.5187        </td> <td>9.62402        </td> <td>877.312     </td> <td>46058.5   </td>\n",
       "        </tr>\n",
       "        <tr>\n",
       "            <td>4       </td> <td>750004460</td> <td>75101    </td> <td>1   </td> <td>751010104</td> <td>A       </td> <td>Saint-Germain L'Auxerrois 4</td> <td>181709 </td> <td>26416.3 </td> <td>109150  </td> <td>Paris  </td> <td>T1  </td> <td>751010104</td> <td>751010104</td> <td>75  </td> <td>851   </td> <td>75101</td> <td>Paris 1er Arrondissement</td> <td>Saint-Germain l'Auxerrois 4</td> <td>A       </td> <td>00        </td> <td>3       </td> <td>22.4808 </td> <td>10.6481    </td> <td>9.76074    </td> <td>91.6667     </td> <td>8.8734        </td> <td>83.3333        </td> <td>8.8734       </td> <td>3.54936           </td> <td>40                 </td> <td>0              </td> <td>0              </td> <td>7.09872        </td> <td>2.66202        </td> <td>0              </td> <td>0              </td> <td>2052.89     </td> <td>224788    </td>\n",
       "        </tr>\n",
       "        <tr>\n",
       "            <td>5       </td> <td>750004388</td> <td>75101    </td> <td>1   </td> <td>751010105</td> <td>D       </td> <td>Tuileries                  </td> <td>225540 </td> <td>11.5994 </td> <td>2736.06 </td> <td>Paris  </td> <td>T1  </td> <td>751010105</td> <td>751010105</td> <td>75  </td> <td>851   </td> <td>75101</td> <td>Paris 1er Arrondissement</td> <td>Tuileries                  </td> <td>D       </td> <td>00        </td> <td>3       </td> <td>24.8896 </td> <td>nan        </td> <td>nan        </td> <td>nan         </td> <td>nan           </td> <td>nan            </td> <td>nan          </td> <td>nan               </td> <td>nan                </td> <td>nan            </td> <td>nan            </td> <td>nan            </td> <td>nan            </td> <td>nan            </td> <td>nan            </td> <td>2112.53     </td> <td>248875    </td>\n",
       "        </tr>\n",
       "        <tr>\n",
       "            <td>6       </td> <td>750004461</td> <td>75101    </td> <td>1   </td> <td>751010199</td> <td>D       </td> <td>Seine et Berges            </td> <td>21293.3</td> <td>0.209782</td> <td>0.209782</td> <td>Paris  </td> <td>T1  </td> <td>751010199</td> <td>751010199</td> <td>75  </td> <td>851   </td> <td>75101</td> <td>Paris 1er Arrondissement</td> <td>Seine et Berges            </td> <td>D       </td> <td>00        </td> <td>3       </td> <td>22.2792 </td> <td>nan        </td> <td>nan        </td> <td>nan         </td> <td>nan           </td> <td>nan            </td> <td>nan          </td> <td>nan               </td> <td>nan                </td> <td>nan            </td> <td>nan            </td> <td>nan            </td> <td>nan            </td> <td>nan            </td> <td>nan            </td> <td>5146.54     </td> <td>222771    </td>\n",
       "        </tr>\n",
       "        <tr>\n",
       "            <td>7       </td> <td>750004421</td> <td>75101    </td> <td>2   </td> <td>751010201</td> <td>H       </td> <td>Les Halles 1               </td> <td>44086.6</td> <td>40507.3 </td> <td>41712.2 </td> <td>Paris  </td> <td>T1  </td> <td>751010201</td> <td>751010201</td> <td>75  </td> <td>851   </td> <td>75101</td> <td>Paris 1er Arrondissement</td> <td>Les Halles 1               </td> <td>H       </td> <td>00        </td> <td>1       </td> <td>7.83812 </td> <td>1922.38    </td> <td>1633.2     </td> <td>84.957      </td> <td>1451.47       </td> <td>75.5036        </td> <td>1465.5       </td> <td>1114.82           </td> <td>76.0709            </td> <td>3.46707        </td> <td>105.192        </td> <td>883.263        </td> <td>337.524        </td> <td>206.992        </td> <td>84.434         </td> <td>1483.01     </td> <td>78374.2   </td>\n",
       "        </tr>\n",
       "        <tr>\n",
       "            <td>8       </td> <td>750004483</td> <td>75101    </td> <td>2   </td> <td>751010202</td> <td>H       </td> <td>Les Halles 2               </td> <td>46064.5</td> <td>41030.7 </td> <td>45448   </td> <td>Paris  </td> <td>T1  </td> <td>751010202</td> <td>751010202</td> <td>75  </td> <td>851   </td> <td>75101</td> <td>Paris 1er Arrondissement</td> <td>Les Halles 2               </td> <td>H       </td> <td>00        </td> <td>1       </td> <td>7.0183  </td> <td>1259.04    </td> <td>1060.45    </td> <td>84.2266     </td> <td>966.864       </td> <td>76.7935        </td> <td>986.083      </td> <td>605.955           </td> <td>61.4507            </td> <td>0              </td> <td>83.109         </td> <td>591.343        </td> <td>188.963        </td> <td>172.848        </td> <td>17.3852        </td> <td>1509.74     </td> <td>70176.7   </td>\n",
       "        </tr>\n",
       "        <tr>\n",
       "            <td>9       </td> <td>750004406</td> <td>75101    </td> <td>2   </td> <td>751010203</td> <td>H       </td> <td>Les Halles 3               </td> <td>55295.9</td> <td>54574.5 </td> <td>55024.4 </td> <td>Paris  </td> <td>T1  </td> <td>751010203</td> <td>751010203</td> <td>75  </td> <td>851   </td> <td>75101</td> <td>Paris 1er Arrondissement</td> <td>Les Halles 3               </td> <td>H       </td> <td>00        </td> <td>1       </td> <td>8.99698 </td> <td>1718.35    </td> <td>1395.58    </td> <td>81.2162     </td> <td>1245.48       </td> <td>72.4811        </td> <td>1274.82      </td> <td>661.996           </td> <td>51.9287            </td> <td>8.32198        </td> <td>108.081        </td> <td>712.537        </td> <td>285.324        </td> <td>223.233        </td> <td>50.7081        </td> <td>1915.56     </td> <td>89961.9   </td>\n",
       "        </tr>\n",
       "        <tr>\n",
       "            <td>10      </td> <td>750004404</td> <td>75101    </td> <td>2   </td> <td>751010204</td> <td>H       </td> <td>Les Halles 4               </td> <td>43697.1</td> <td>38179.1 </td> <td>43578.7 </td> <td>Paris  </td> <td>T1  </td> <td>751010204</td> <td>751010204</td> <td>75  </td> <td>851   </td> <td>75101</td> <td>Paris 1er Arrondissement</td> <td>Les Halles 4               </td> <td>H       </td> <td>00        </td> <td>2       </td> <td>6.59916 </td> <td>1798.77    </td> <td>1420.14    </td> <td>78.9506     </td> <td>1275.28       </td> <td>70.8973        </td> <td>1312.8       </td> <td>692.835           </td> <td>52.7755            </td> <td>3.36795        </td> <td>57.3445        </td> <td>696.357        </td> <td>307.347        </td> <td>250.197        </td> <td>96.4389        </td> <td>1136.64     </td> <td>65986     </td>\n",
       "        </tr>\n",
       "    </tbody>\n",
       "</table>\n",
       "<p>... (2831 rows omitted)</p>"
      ],
      "text/plain": [
       "OBJECTID | N_SQ_IR   | C_CAINSEE | N_QU | C_IR      | C_TYPEIR | L_IR                        | M2_IP   | M2_POP   | M2_EMP   | NOM_EPT | EPT  | IRIS      | IRIS_NUM  | DEP  | UU2010 | COM   | LIBCOM                   | LIBIRIS                     | TYP_IRIS | MODIF_IRIS | LAB_IRIS | SHAPE_ha | P12_POP1564 | P12_ACT1564 | TX12_ACT1564 | P12_ACTOCC1564 | TX12_ACTOCC1564 | C12_ACTOCC15P | C12_ACTOCC15P_TCOM | TX12_ACTOCC15P_TCOM | C12_ACT1564_CS1 | C12_ACT1564_CS2 | C12_ACT1564_CS3 | C12_ACT1564_CS4 | C12_ACT1564_CS5 | C12_ACT1564_CS6 | SHAPE_Length | SHAPE_Area\n",
       "1        | 750004511 | 75101     | 1    | 751010101 | H        | Saint-Germain L'Auxerrois 1 | 35395.5 | 22312.5  | 33459.7  | Paris   | T1   | 751010101 | 751010101 | 75   | 851    | 75101 | Paris 1er Arrondissement | Saint-Germain l'Auxerrois 1 | H        | 00         | 1        | 6.44942  | 667.196     | 548.28      | 82.1768      | 498.977        | 74.7871         | 512.116       | 369.906            | 72.2309             | 0               | 41.0005         | 315.838         | 107.449         | 73.2291         | 7.38814         | 1083.99      | 64488.1\n",
       "2        | 750004559 | 75101     | 1    | 751010102 | A        | Saint-Germain l'Auxerrois 2 | 45971.8 | 4728.31  | 42976.7  | Paris   | T1   | 751010102 | 751010102 | 75   | 851    | 75101 | Paris 1er Arrondissement | Saint-Germain l'Auxerrois 2 | A        | 00         | 3        | 6.19873  | 98.3124     | 45.8584     | 46.6456      | 40.2278        | 40.9183         | 51.8709       | 16.7211            | 32.236              | 0               | 2.44385         | 28.8981         | 9.1805          | 5.33589         | 0               | 1057.13      | 61981.2\n",
       "3        | 750004497 | 75101     | 1    | 751010103 | A        | Saint-Germain L'Auxerrois 3 | 29246.6 | 17775.1  | 26203.9  | Paris   | T1   | 751010103 | 751010103 | 75   | 851    | 75101 | Paris 1er Arrondissement | Saint-Germain l'Auxerrois 3 | A        | 00         | 3        | 4.60627  | 297.772     | 196.398     | 65.9559      | 183.735        | 61.7033         | 200.886       | 113.987            | 56.7424             | 0               | 19.571          | 100.647         | 45.6372         | 25.5187         | 9.62402         | 877.312      | 46058.5\n",
       "4        | 750004460 | 75101     | 1    | 751010104 | A        | Saint-Germain L'Auxerrois 4 | 181709  | 26416.3  | 109150   | Paris   | T1   | 751010104 | 751010104 | 75   | 851    | 75101 | Paris 1er Arrondissement | Saint-Germain l'Auxerrois 4 | A        | 00         | 3        | 22.4808  | 10.6481     | 9.76074     | 91.6667      | 8.8734         | 83.3333         | 8.8734        | 3.54936            | 40                  | 0               | 0               | 7.09872         | 2.66202         | 0               | 0               | 2052.89      | 224788\n",
       "5        | 750004388 | 75101     | 1    | 751010105 | D        | Tuileries                   | 225540  | 11.5994  | 2736.06  | Paris   | T1   | 751010105 | 751010105 | 75   | 851    | 75101 | Paris 1er Arrondissement | Tuileries                   | D        | 00         | 3        | 24.8896  | nan         | nan         | nan          | nan            | nan             | nan           | nan                | nan                 | nan             | nan             | nan             | nan             | nan             | nan             | 2112.53      | 248875\n",
       "6        | 750004461 | 75101     | 1    | 751010199 | D        | Seine et Berges             | 21293.3 | 0.209782 | 0.209782 | Paris   | T1   | 751010199 | 751010199 | 75   | 851    | 75101 | Paris 1er Arrondissement | Seine et Berges             | D        | 00         | 3        | 22.2792  | nan         | nan         | nan          | nan            | nan             | nan           | nan                | nan                 | nan             | nan             | nan             | nan             | nan             | nan             | 5146.54      | 222771\n",
       "7        | 750004421 | 75101     | 2    | 751010201 | H        | Les Halles 1                | 44086.6 | 40507.3  | 41712.2  | Paris   | T1   | 751010201 | 751010201 | 75   | 851    | 75101 | Paris 1er Arrondissement | Les Halles 1                | H        | 00         | 1        | 7.83812  | 1922.38     | 1633.2      | 84.957       | 1451.47        | 75.5036         | 1465.5        | 1114.82            | 76.0709             | 3.46707         | 105.192         | 883.263         | 337.524         | 206.992         | 84.434          | 1483.01      | 78374.2\n",
       "8        | 750004483 | 75101     | 2    | 751010202 | H        | Les Halles 2                | 46064.5 | 41030.7  | 45448    | Paris   | T1   | 751010202 | 751010202 | 75   | 851    | 75101 | Paris 1er Arrondissement | Les Halles 2                | H        | 00         | 1        | 7.0183   | 1259.04     | 1060.45     | 84.2266      | 966.864        | 76.7935         | 986.083       | 605.955            | 61.4507             | 0               | 83.109          | 591.343         | 188.963         | 172.848         | 17.3852         | 1509.74      | 70176.7\n",
       "9        | 750004406 | 75101     | 2    | 751010203 | H        | Les Halles 3                | 55295.9 | 54574.5  | 55024.4  | Paris   | T1   | 751010203 | 751010203 | 75   | 851    | 75101 | Paris 1er Arrondissement | Les Halles 3                | H        | 00         | 1        | 8.99698  | 1718.35     | 1395.58     | 81.2162      | 1245.48        | 72.4811         | 1274.82       | 661.996            | 51.9287             | 8.32198         | 108.081         | 712.537         | 285.324         | 223.233         | 50.7081         | 1915.56      | 89961.9\n",
       "10       | 750004404 | 75101     | 2    | 751010204 | H        | Les Halles 4                | 43697.1 | 38179.1  | 43578.7  | Paris   | T1   | 751010204 | 751010204 | 75   | 851    | 75101 | Paris 1er Arrondissement | Les Halles 4                | H        | 00         | 2        | 6.59916  | 1798.77     | 1420.14     | 78.9506      | 1275.28        | 70.8973         | 1312.8        | 692.835            | 52.7755             | 3.36795         | 57.3445         | 696.357         | 307.347         | 250.197         | 96.4389         | 1136.64      | 65986\n",
       "... (2831 rows omitted)"
      ]
     },
     "execution_count": 21,
     "metadata": {},
     "output_type": "execute_result"
    }
   ],
   "source": [
    "act_data"
   ]
  },
  {
   "cell_type": "markdown",
   "metadata": {},
   "source": [
    "#### First we will select the data we want to use."
   ]
  },
  {
   "cell_type": "code",
   "execution_count": 22,
   "metadata": {},
   "outputs": [
    {
     "data": {
      "text/html": [
       "<table border=\"1\" class=\"dataframe\">\n",
       "    <thead>\n",
       "        <tr>\n",
       "            <th>P12_POP1564</th> <th>P12_ACT1564</th> <th>P12_ACTOCC1564</th>\n",
       "        </tr>\n",
       "    </thead>\n",
       "    <tbody>\n",
       "        <tr>\n",
       "            <td>667.196    </td> <td>548.28     </td> <td>498.977       </td>\n",
       "        </tr>\n",
       "        <tr>\n",
       "            <td>98.3124    </td> <td>45.8584    </td> <td>40.2278       </td>\n",
       "        </tr>\n",
       "        <tr>\n",
       "            <td>297.772    </td> <td>196.398    </td> <td>183.735       </td>\n",
       "        </tr>\n",
       "        <tr>\n",
       "            <td>10.6481    </td> <td>9.76074    </td> <td>8.8734        </td>\n",
       "        </tr>\n",
       "        <tr>\n",
       "            <td>nan        </td> <td>nan        </td> <td>nan           </td>\n",
       "        </tr>\n",
       "        <tr>\n",
       "            <td>nan        </td> <td>nan        </td> <td>nan           </td>\n",
       "        </tr>\n",
       "        <tr>\n",
       "            <td>1922.38    </td> <td>1633.2     </td> <td>1451.47       </td>\n",
       "        </tr>\n",
       "        <tr>\n",
       "            <td>1259.04    </td> <td>1060.45    </td> <td>966.864       </td>\n",
       "        </tr>\n",
       "        <tr>\n",
       "            <td>1718.35    </td> <td>1395.58    </td> <td>1245.48       </td>\n",
       "        </tr>\n",
       "        <tr>\n",
       "            <td>1798.77    </td> <td>1420.14    </td> <td>1275.28       </td>\n",
       "        </tr>\n",
       "    </tbody>\n",
       "</table>\n",
       "<p>... (2831 rows omitted)</p>"
      ],
      "text/plain": [
       "P12_POP1564 | P12_ACT1564 | P12_ACTOCC1564\n",
       "667.196     | 548.28      | 498.977\n",
       "98.3124     | 45.8584     | 40.2278\n",
       "297.772     | 196.398     | 183.735\n",
       "10.6481     | 9.76074     | 8.8734\n",
       "nan         | nan         | nan\n",
       "nan         | nan         | nan\n",
       "1922.38     | 1633.2      | 1451.47\n",
       "1259.04     | 1060.45     | 966.864\n",
       "1718.35     | 1395.58     | 1245.48\n",
       "1798.77     | 1420.14     | 1275.28\n",
       "... (2831 rows omitted)"
      ]
     },
     "execution_count": 22,
     "metadata": {},
     "output_type": "execute_result"
    }
   ],
   "source": [
    "act_data_select = act_data.select(\"P12_POP1564\", \"P12_ACT1564\", \"P12_ACTOCC1564\")\n",
    "act_data_select"
   ]
  },
  {
   "cell_type": "markdown",
   "metadata": {},
   "source": [
    "#### Now we will replace the names by creating a new table."
   ]
  },
  {
   "cell_type": "code",
   "execution_count": 23,
   "metadata": {},
   "outputs": [
    {
     "data": {
      "text/html": [
       "<table border=\"1\" class=\"dataframe\">\n",
       "    <thead>\n",
       "        <tr>\n",
       "            <th>Number of People 15-64</th> <th>Number of Active People 15-64</th> <th>Number of Employed People 15-64</th>\n",
       "        </tr>\n",
       "    </thead>\n",
       "    <tbody>\n",
       "        <tr>\n",
       "            <td>667.196               </td> <td>548.28                       </td> <td>498.977                        </td>\n",
       "        </tr>\n",
       "        <tr>\n",
       "            <td>98.3124               </td> <td>45.8584                      </td> <td>40.2278                        </td>\n",
       "        </tr>\n",
       "        <tr>\n",
       "            <td>297.772               </td> <td>196.398                      </td> <td>183.735                        </td>\n",
       "        </tr>\n",
       "        <tr>\n",
       "            <td>10.6481               </td> <td>9.76074                      </td> <td>8.8734                         </td>\n",
       "        </tr>\n",
       "        <tr>\n",
       "            <td>nan                   </td> <td>nan                          </td> <td>nan                            </td>\n",
       "        </tr>\n",
       "        <tr>\n",
       "            <td>nan                   </td> <td>nan                          </td> <td>nan                            </td>\n",
       "        </tr>\n",
       "        <tr>\n",
       "            <td>1922.38               </td> <td>1633.2                       </td> <td>1451.47                        </td>\n",
       "        </tr>\n",
       "        <tr>\n",
       "            <td>1259.04               </td> <td>1060.45                      </td> <td>966.864                        </td>\n",
       "        </tr>\n",
       "        <tr>\n",
       "            <td>1718.35               </td> <td>1395.58                      </td> <td>1245.48                        </td>\n",
       "        </tr>\n",
       "        <tr>\n",
       "            <td>1798.77               </td> <td>1420.14                      </td> <td>1275.28                        </td>\n",
       "        </tr>\n",
       "    </tbody>\n",
       "</table>\n",
       "<p>... (2831 rows omitted)</p>"
      ],
      "text/plain": [
       "Number of People 15-64 | Number of Active People 15-64 | Number of Employed People 15-64\n",
       "667.196                | 548.28                        | 498.977\n",
       "98.3124                | 45.8584                       | 40.2278\n",
       "297.772                | 196.398                       | 183.735\n",
       "10.6481                | 9.76074                       | 8.8734\n",
       "nan                    | nan                           | nan\n",
       "nan                    | nan                           | nan\n",
       "1922.38                | 1633.2                        | 1451.47\n",
       "1259.04                | 1060.45                       | 966.864\n",
       "1718.35                | 1395.58                       | 1245.48\n",
       "1798.77                | 1420.14                       | 1275.28\n",
       "... (2831 rows omitted)"
      ]
     },
     "execution_count": 23,
     "metadata": {},
     "output_type": "execute_result"
    }
   ],
   "source": [
    "act_data_renamed = Table().with_columns(\"Number of People 15-64\", act_data_select.column(\"P12_POP1564\"),\n",
    "                                        \"Number of Active People 15-64\", act_data_select.column(\"P12_ACT1564\"),\n",
    "                                        \"Number of Employed People 15-64\", act_data_select.column(\"P12_ACTOCC1564\"))\n",
    "act_data_renamed"
   ]
  },
  {
   "cell_type": "markdown",
   "metadata": {},
   "source": [
    "Now we have a table with more specific names, it is easier to work with the data. You will see this technique when we show you plots later in the notebook."
   ]
  },
  {
   "cell_type": "markdown",
   "metadata": {},
   "source": [
    "## Using Tables\n",
    "\n",
    "We can make criteria to cut down tables. Accessing only the rows, columns, or values specfic to our purpose makes information easier understood. Analysis and conclusions can be made when data is more digestible. \n",
    "\n",
    "We need to access the census table above and name it for further use. We assign the table to a variable so that we can reference it later!"
   ]
  },
  {
   "cell_type": "code",
   "execution_count": 24,
   "metadata": {},
   "outputs": [
    {
     "data": {
      "text/html": [
       "<table border=\"1\" class=\"dataframe\">\n",
       "    <thead>\n",
       "        <tr>\n",
       "            <th>OBJECTID</th> <th>N_SQ_IR</th> <th>C_CAINSEE</th> <th>N_QU</th> <th>C_IR</th> <th>C_TYPEIR</th> <th>L_IR</th> <th>M2_IP</th> <th>M2_POP</th> <th>M2_EMP</th> <th>NOM_EPT</th> <th>EPT</th> <th>IRIS</th> <th>IRIS_NUM</th> <th>DEP</th> <th>UU2010</th> <th>COM</th> <th>LIBCOM</th> <th>LIBIRIS</th> <th>TYP_IRIS</th> <th>MODIF_IRIS</th> <th>LAB_IRIS</th> <th>SHAPE_ha</th> <th>P12_RP_VOIT1P</th> <th>TX12_RP_VOIT1P</th> <th>C12_MEN</th> <th>C12_MENPSEUL</th> <th>TX12_MENPSEUL</th> <th>C12_NE24F1</th> <th>C12_NE24F2</th> <th>C12_NE24F3</th> <th>C12_NE24F4P</th> <th>C12_NE24F</th> <th>TX12_NE24F</th> <th>SHAPE_Length</th> <th>SHAPE_Area</th>\n",
       "        </tr>\n",
       "    </thead>\n",
       "    <tbody>\n",
       "        <tr>\n",
       "            <td>1       </td> <td>750004511</td> <td>75101    </td> <td>1   </td> <td>751010101</td> <td>H       </td> <td>Saint-Germain L'Auxerrois 1</td> <td>35395.5</td> <td>22312.5 </td> <td>33459.7 </td> <td>Paris  </td> <td>T1  </td> <td>751010101</td> <td>751010101</td> <td>75  </td> <td>851   </td> <td>75101</td> <td>Paris 1er Arrondissement</td> <td>Saint-Germain l'Auxerrois 1</td> <td>H       </td> <td>00        </td> <td>1       </td> <td>6.44942 </td> <td>193.142      </td> <td>nan           </td> <td>501.223</td> <td>249.284     </td> <td>49.7352      </td> <td>63.2679   </td> <td>42.0458   </td> <td>4.10618   </td> <td>0          </td> <td>109.42   </td> <td>21.8306   </td> <td>1083.99     </td> <td>64488.1   </td>\n",
       "        </tr>\n",
       "        <tr>\n",
       "            <td>2       </td> <td>750004559</td> <td>75101    </td> <td>1   </td> <td>751010102</td> <td>A       </td> <td>Saint-Germain l'Auxerrois 2</td> <td>45971.8</td> <td>4728.31 </td> <td>42976.7 </td> <td>Paris  </td> <td>T1  </td> <td>751010102</td> <td>751010102</td> <td>75  </td> <td>851   </td> <td>75101</td> <td>Paris 1er Arrondissement</td> <td>Saint-Germain l'Auxerrois 2</td> <td>A       </td> <td>00        </td> <td>3       </td> <td>6.19873 </td> <td>45.0733      </td> <td>nan           </td> <td>84.4898</td> <td>50.0393     </td> <td>59.2253      </td> <td>6.54643   </td> <td>0         </td> <td>2.54837   </td> <td>0          </td> <td>9.09479  </td> <td>10.7644   </td> <td>1057.13     </td> <td>61981.2   </td>\n",
       "        </tr>\n",
       "        <tr>\n",
       "            <td>3       </td> <td>750004497</td> <td>75101    </td> <td>1   </td> <td>751010103</td> <td>A       </td> <td>Saint-Germain L'Auxerrois 3</td> <td>29246.6</td> <td>17775.1 </td> <td>26203.9 </td> <td>Paris  </td> <td>T1  </td> <td>751010103</td> <td>751010103</td> <td>75  </td> <td>851   </td> <td>75101</td> <td>Paris 1er Arrondissement</td> <td>Saint-Germain l'Auxerrois 3</td> <td>A       </td> <td>00        </td> <td>3       </td> <td>4.60627 </td> <td>75.0171      </td> <td>nan           </td> <td>201.637</td> <td>112.363     </td> <td>55.7254      </td> <td>26.0243   </td> <td>7.99613   </td> <td>8.88347   </td> <td>0          </td> <td>42.9039  </td> <td>21.2777   </td> <td>877.312     </td> <td>46058.5   </td>\n",
       "        </tr>\n",
       "        <tr>\n",
       "            <td>4       </td> <td>750004460</td> <td>75101    </td> <td>1   </td> <td>751010104</td> <td>A       </td> <td>Saint-Germain L'Auxerrois 4</td> <td>181709 </td> <td>26416.3 </td> <td>109150  </td> <td>Paris  </td> <td>T1  </td> <td>751010104</td> <td>751010104</td> <td>75  </td> <td>851   </td> <td>75101</td> <td>Paris 1er Arrondissement</td> <td>Saint-Germain l'Auxerrois 4</td> <td>A       </td> <td>00        </td> <td>3       </td> <td>22.4808 </td> <td>3.54936      </td> <td>nan           </td> <td>4.4367 </td> <td>1.77468     </td> <td>40           </td> <td>0.88734   </td> <td>0         </td> <td>0         </td> <td>0          </td> <td>0.88734  </td> <td>20        </td> <td>2052.89     </td> <td>224788    </td>\n",
       "        </tr>\n",
       "        <tr>\n",
       "            <td>5       </td> <td>750004388</td> <td>75101    </td> <td>1   </td> <td>751010105</td> <td>D       </td> <td>Tuileries                  </td> <td>225540 </td> <td>11.5994 </td> <td>2736.06 </td> <td>Paris  </td> <td>T1  </td> <td>751010105</td> <td>751010105</td> <td>75  </td> <td>851   </td> <td>75101</td> <td>Paris 1er Arrondissement</td> <td>Tuileries                  </td> <td>D       </td> <td>00        </td> <td>3       </td> <td>24.8896 </td> <td>nan          </td> <td>nan           </td> <td>nan    </td> <td>nan         </td> <td>nan          </td> <td>nan       </td> <td>nan       </td> <td>nan       </td> <td>nan        </td> <td>0        </td> <td>nan       </td> <td>2112.53     </td> <td>248875    </td>\n",
       "        </tr>\n",
       "        <tr>\n",
       "            <td>6       </td> <td>750004461</td> <td>75101    </td> <td>1   </td> <td>751010199</td> <td>D       </td> <td>Seine et Berges            </td> <td>21293.3</td> <td>0.209782</td> <td>0.209782</td> <td>Paris  </td> <td>T1  </td> <td>751010199</td> <td>751010199</td> <td>75  </td> <td>851   </td> <td>75101</td> <td>Paris 1er Arrondissement</td> <td>Seine et Berges            </td> <td>D       </td> <td>00        </td> <td>3       </td> <td>22.2792 </td> <td>nan          </td> <td>nan           </td> <td>nan    </td> <td>nan         </td> <td>nan          </td> <td>nan       </td> <td>nan       </td> <td>nan       </td> <td>nan        </td> <td>0        </td> <td>nan       </td> <td>5146.54     </td> <td>222771    </td>\n",
       "        </tr>\n",
       "        <tr>\n",
       "            <td>7       </td> <td>750004421</td> <td>75101    </td> <td>2   </td> <td>751010201</td> <td>H       </td> <td>Les Halles 1               </td> <td>44086.6</td> <td>40507.3 </td> <td>41712.2 </td> <td>Paris  </td> <td>T1  </td> <td>751010201</td> <td>751010201</td> <td>75  </td> <td>851   </td> <td>75101</td> <td>Paris 1er Arrondissement</td> <td>Les Halles 1               </td> <td>H       </td> <td>00        </td> <td>1       </td> <td>7.83812 </td> <td>266.519      </td> <td>nan           </td> <td>1530.2 </td> <td>981.135     </td> <td>64.1181      </td> <td>65.5406   </td> <td>65.7735   </td> <td>15.9704   </td> <td>0          </td> <td>147.284  </td> <td>9.62519   </td> <td>1483.01     </td> <td>78374.2   </td>\n",
       "        </tr>\n",
       "        <tr>\n",
       "            <td>8       </td> <td>750004483</td> <td>75101    </td> <td>2   </td> <td>751010202</td> <td>H       </td> <td>Les Halles 2               </td> <td>46064.5</td> <td>41030.7 </td> <td>45448   </td> <td>Paris  </td> <td>T1  </td> <td>751010202</td> <td>751010202</td> <td>75  </td> <td>851   </td> <td>75101</td> <td>Paris 1er Arrondissement</td> <td>Les Halles 2               </td> <td>H       </td> <td>00        </td> <td>1       </td> <td>7.0183  </td> <td>267.455      </td> <td>nan           </td> <td>1035.95</td> <td>615.693     </td> <td>59.4324      </td> <td>62.1218   </td> <td>71.7292   </td> <td>14.6645   </td> <td>0          </td> <td>148.515  </td> <td>14.3361   </td> <td>1509.74     </td> <td>70176.7   </td>\n",
       "        </tr>\n",
       "        <tr>\n",
       "            <td>9       </td> <td>750004406</td> <td>75101    </td> <td>2   </td> <td>751010203</td> <td>H       </td> <td>Les Halles 3               </td> <td>55295.9</td> <td>54574.5 </td> <td>55024.4 </td> <td>Paris  </td> <td>T1  </td> <td>751010203</td> <td>751010203</td> <td>75  </td> <td>851   </td> <td>75101</td> <td>Paris 1er Arrondissement</td> <td>Les Halles 3               </td> <td>H       </td> <td>00        </td> <td>1       </td> <td>8.99698 </td> <td>372.092      </td> <td>nan           </td> <td>1405.89</td> <td>836.911     </td> <td>59.5289      </td> <td>110.564   </td> <td>86.4571   </td> <td>14.6706   </td> <td>2.85019    </td> <td>214.542  </td> <td>15.2602   </td> <td>1915.56     </td> <td>89961.9   </td>\n",
       "        </tr>\n",
       "        <tr>\n",
       "            <td>10      </td> <td>750004404</td> <td>75101    </td> <td>2   </td> <td>751010204</td> <td>H       </td> <td>Les Halles 4               </td> <td>43697.1</td> <td>38179.1 </td> <td>43578.7 </td> <td>Paris  </td> <td>T1  </td> <td>751010204</td> <td>751010204</td> <td>75  </td> <td>851   </td> <td>75101</td> <td>Paris 1er Arrondissement</td> <td>Les Halles 4               </td> <td>H       </td> <td>00        </td> <td>2       </td> <td>6.59916 </td> <td>350.386      </td> <td>nan           </td> <td>1260.72</td> <td>659.555     </td> <td>52.3157      </td> <td>143.562   </td> <td>98.0972   </td> <td>42.7924   </td> <td>5.4563     </td> <td>289.908  </td> <td>22.9954   </td> <td>1136.64     </td> <td>65986     </td>\n",
       "        </tr>\n",
       "    </tbody>\n",
       "</table>\n",
       "<p>... (2831 rows omitted)</p>"
      ],
      "text/plain": [
       "OBJECTID | N_SQ_IR   | C_CAINSEE | N_QU | C_IR      | C_TYPEIR | L_IR                        | M2_IP   | M2_POP   | M2_EMP   | NOM_EPT | EPT  | IRIS      | IRIS_NUM  | DEP  | UU2010 | COM   | LIBCOM                   | LIBIRIS                     | TYP_IRIS | MODIF_IRIS | LAB_IRIS | SHAPE_ha | P12_RP_VOIT1P | TX12_RP_VOIT1P | C12_MEN | C12_MENPSEUL | TX12_MENPSEUL | C12_NE24F1 | C12_NE24F2 | C12_NE24F3 | C12_NE24F4P | C12_NE24F | TX12_NE24F | SHAPE_Length | SHAPE_Area\n",
       "1        | 750004511 | 75101     | 1    | 751010101 | H        | Saint-Germain L'Auxerrois 1 | 35395.5 | 22312.5  | 33459.7  | Paris   | T1   | 751010101 | 751010101 | 75   | 851    | 75101 | Paris 1er Arrondissement | Saint-Germain l'Auxerrois 1 | H        | 00         | 1        | 6.44942  | 193.142       | nan            | 501.223 | 249.284      | 49.7352       | 63.2679    | 42.0458    | 4.10618    | 0           | 109.42    | 21.8306    | 1083.99      | 64488.1\n",
       "2        | 750004559 | 75101     | 1    | 751010102 | A        | Saint-Germain l'Auxerrois 2 | 45971.8 | 4728.31  | 42976.7  | Paris   | T1   | 751010102 | 751010102 | 75   | 851    | 75101 | Paris 1er Arrondissement | Saint-Germain l'Auxerrois 2 | A        | 00         | 3        | 6.19873  | 45.0733       | nan            | 84.4898 | 50.0393      | 59.2253       | 6.54643    | 0          | 2.54837    | 0           | 9.09479   | 10.7644    | 1057.13      | 61981.2\n",
       "3        | 750004497 | 75101     | 1    | 751010103 | A        | Saint-Germain L'Auxerrois 3 | 29246.6 | 17775.1  | 26203.9  | Paris   | T1   | 751010103 | 751010103 | 75   | 851    | 75101 | Paris 1er Arrondissement | Saint-Germain l'Auxerrois 3 | A        | 00         | 3        | 4.60627  | 75.0171       | nan            | 201.637 | 112.363      | 55.7254       | 26.0243    | 7.99613    | 8.88347    | 0           | 42.9039   | 21.2777    | 877.312      | 46058.5\n",
       "4        | 750004460 | 75101     | 1    | 751010104 | A        | Saint-Germain L'Auxerrois 4 | 181709  | 26416.3  | 109150   | Paris   | T1   | 751010104 | 751010104 | 75   | 851    | 75101 | Paris 1er Arrondissement | Saint-Germain l'Auxerrois 4 | A        | 00         | 3        | 22.4808  | 3.54936       | nan            | 4.4367  | 1.77468      | 40            | 0.88734    | 0          | 0          | 0           | 0.88734   | 20         | 2052.89      | 224788\n",
       "5        | 750004388 | 75101     | 1    | 751010105 | D        | Tuileries                   | 225540  | 11.5994  | 2736.06  | Paris   | T1   | 751010105 | 751010105 | 75   | 851    | 75101 | Paris 1er Arrondissement | Tuileries                   | D        | 00         | 3        | 24.8896  | nan           | nan            | nan     | nan          | nan           | nan        | nan        | nan        | nan         | 0         | nan        | 2112.53      | 248875\n",
       "6        | 750004461 | 75101     | 1    | 751010199 | D        | Seine et Berges             | 21293.3 | 0.209782 | 0.209782 | Paris   | T1   | 751010199 | 751010199 | 75   | 851    | 75101 | Paris 1er Arrondissement | Seine et Berges             | D        | 00         | 3        | 22.2792  | nan           | nan            | nan     | nan          | nan           | nan        | nan        | nan        | nan         | 0         | nan        | 5146.54      | 222771\n",
       "7        | 750004421 | 75101     | 2    | 751010201 | H        | Les Halles 1                | 44086.6 | 40507.3  | 41712.2  | Paris   | T1   | 751010201 | 751010201 | 75   | 851    | 75101 | Paris 1er Arrondissement | Les Halles 1                | H        | 00         | 1        | 7.83812  | 266.519       | nan            | 1530.2  | 981.135      | 64.1181       | 65.5406    | 65.7735    | 15.9704    | 0           | 147.284   | 9.62519    | 1483.01      | 78374.2\n",
       "8        | 750004483 | 75101     | 2    | 751010202 | H        | Les Halles 2                | 46064.5 | 41030.7  | 45448    | Paris   | T1   | 751010202 | 751010202 | 75   | 851    | 75101 | Paris 1er Arrondissement | Les Halles 2                | H        | 00         | 1        | 7.0183   | 267.455       | nan            | 1035.95 | 615.693      | 59.4324       | 62.1218    | 71.7292    | 14.6645    | 0           | 148.515   | 14.3361    | 1509.74      | 70176.7\n",
       "9        | 750004406 | 75101     | 2    | 751010203 | H        | Les Halles 3                | 55295.9 | 54574.5  | 55024.4  | Paris   | T1   | 751010203 | 751010203 | 75   | 851    | 75101 | Paris 1er Arrondissement | Les Halles 3                | H        | 00         | 1        | 8.99698  | 372.092       | nan            | 1405.89 | 836.911      | 59.5289       | 110.564    | 86.4571    | 14.6706    | 2.85019     | 214.542   | 15.2602    | 1915.56      | 89961.9\n",
       "10       | 750004404 | 75101     | 2    | 751010204 | H        | Les Halles 4                | 43697.1 | 38179.1  | 43578.7  | Paris   | T1   | 751010204 | 751010204 | 75   | 851    | 75101 | Paris 1er Arrondissement | Les Halles 4                | H        | 00         | 2        | 6.59916  | 350.386       | nan            | 1260.72 | 659.555      | 52.3157       | 143.562    | 98.0972    | 42.7924    | 5.4563      | 289.908   | 22.9954    | 1136.64      | 65986\n",
       "... (2831 rows omitted)"
      ]
     },
     "execution_count": 24,
     "metadata": {},
     "output_type": "execute_result"
    }
   ],
   "source": [
    "soc_data = Table.read_table(\"IRIS_SOCIOLOGIE.csv\")\n",
    "soc_data"
   ]
  },
  {
   "cell_type": "code",
   "execution_count": 25,
   "metadata": {},
   "outputs": [
    {
     "data": {
      "text/plain": [
       "{'ACTEP',\n",
       " 'Boucle Nord 92',\n",
       " 'Est Ensemble',\n",
       " 'GPSO',\n",
       " 'Grand-Paris Est',\n",
       " 'Paris',\n",
       " 'Plaine Centrale - Haut 94 - Plateau Briard',\n",
       " 'Plaine Commune',\n",
       " 'Sud 92',\n",
       " 'Territoire des aéroports',\n",
       " 'Val de Bièvre - Seine Amont - Grand Orly',\n",
       " 'la Défense'}"
      ]
     },
     "execution_count": 25,
     "metadata": {},
     "output_type": "execute_result"
    }
   ],
   "source": [
    "set(soc_data.column(\"NOM_EPT\"))"
   ]
  },
  {
   "cell_type": "markdown",
   "metadata": {},
   "source": [
    "This notebook can calculate how large this table is with two functions: num_rows and num_columns. The general form for these functions are table.num_rows and table.num_columns. \n",
    "\n",
    "Let's use these on the table above. "
   ]
  },
  {
   "cell_type": "code",
   "execution_count": 26,
   "metadata": {},
   "outputs": [
    {
     "data": {
      "text/plain": [
       "2841"
      ]
     },
     "execution_count": 26,
     "metadata": {},
     "output_type": "execute_result"
    }
   ],
   "source": [
    "soc_data.num_rows"
   ]
  },
  {
   "cell_type": "code",
   "execution_count": 27,
   "metadata": {},
   "outputs": [
    {
     "data": {
      "text/plain": [
       "36"
      ]
     },
     "execution_count": 27,
     "metadata": {},
     "output_type": "execute_result"
    }
   ],
   "source": [
    "soc_data.num_columns"
   ]
  },
  {
   "cell_type": "markdown",
   "metadata": {},
   "source": [
    "That's a 2841 x 36 table! We can first start to cut down this table using only some columns. Let's only include biological sex, age and the estimated base for 2010 census data. \n",
    "\n",
    "There are two methods to make a table with select columns included. We could either use the 'select' function or the 'drop' function. \n",
    "\n",
    "- `select` can create a new table with only the columns indicated in the parameters \n",
    "- `drop` can create a new table with columns NOT indicated in the parameters\n",
    "\n",
    "\n",
    "Here's an example of code that results in smaller tables: (keep in mind that we assign each new table to a new variable, to make organization easier). "
   ]
  },
  {
   "cell_type": "code",
   "execution_count": 28,
   "metadata": {},
   "outputs": [
    {
     "data": {
      "text/html": [
       "<table border=\"1\" class=\"dataframe\">\n",
       "    <thead>\n",
       "        <tr>\n",
       "            <th>C12_MEN</th> <th>TX12_MENPSEUL</th> <th>C12_NE24F2</th> <th>SHAPE_ha</th> <th>SHAPE_Length</th> <th>NOM_EPT</th>\n",
       "        </tr>\n",
       "    </thead>\n",
       "    <tbody>\n",
       "        <tr>\n",
       "            <td>501.223</td> <td>49.7352      </td> <td>42.0458   </td> <td>6.44942 </td> <td>1083.99     </td> <td>Paris  </td>\n",
       "        </tr>\n",
       "        <tr>\n",
       "            <td>84.4898</td> <td>59.2253      </td> <td>0         </td> <td>6.19873 </td> <td>1057.13     </td> <td>Paris  </td>\n",
       "        </tr>\n",
       "        <tr>\n",
       "            <td>201.637</td> <td>55.7254      </td> <td>7.99613   </td> <td>4.60627 </td> <td>877.312     </td> <td>Paris  </td>\n",
       "        </tr>\n",
       "        <tr>\n",
       "            <td>4.4367 </td> <td>40           </td> <td>0         </td> <td>22.4808 </td> <td>2052.89     </td> <td>Paris  </td>\n",
       "        </tr>\n",
       "        <tr>\n",
       "            <td>nan    </td> <td>nan          </td> <td>nan       </td> <td>24.8896 </td> <td>2112.53     </td> <td>Paris  </td>\n",
       "        </tr>\n",
       "        <tr>\n",
       "            <td>nan    </td> <td>nan          </td> <td>nan       </td> <td>22.2792 </td> <td>5146.54     </td> <td>Paris  </td>\n",
       "        </tr>\n",
       "        <tr>\n",
       "            <td>1530.2 </td> <td>64.1181      </td> <td>65.7735   </td> <td>7.83812 </td> <td>1483.01     </td> <td>Paris  </td>\n",
       "        </tr>\n",
       "        <tr>\n",
       "            <td>1035.95</td> <td>59.4324      </td> <td>71.7292   </td> <td>7.0183  </td> <td>1509.74     </td> <td>Paris  </td>\n",
       "        </tr>\n",
       "        <tr>\n",
       "            <td>1405.89</td> <td>59.5289      </td> <td>86.4571   </td> <td>8.99698 </td> <td>1915.56     </td> <td>Paris  </td>\n",
       "        </tr>\n",
       "        <tr>\n",
       "            <td>1260.72</td> <td>52.3157      </td> <td>98.0972   </td> <td>6.59916 </td> <td>1136.64     </td> <td>Paris  </td>\n",
       "        </tr>\n",
       "    </tbody>\n",
       "</table>\n",
       "<p>... (2831 rows omitted)</p>"
      ],
      "text/plain": [
       "C12_MEN | TX12_MENPSEUL | C12_NE24F2 | SHAPE_ha | SHAPE_Length | NOM_EPT\n",
       "501.223 | 49.7352       | 42.0458    | 6.44942  | 1083.99      | Paris\n",
       "84.4898 | 59.2253       | 0          | 6.19873  | 1057.13      | Paris\n",
       "201.637 | 55.7254       | 7.99613    | 4.60627  | 877.312      | Paris\n",
       "4.4367  | 40            | 0          | 22.4808  | 2052.89      | Paris\n",
       "nan     | nan           | nan        | 24.8896  | 2112.53      | Paris\n",
       "nan     | nan           | nan        | 22.2792  | 5146.54      | Paris\n",
       "1530.2  | 64.1181       | 65.7735    | 7.83812  | 1483.01      | Paris\n",
       "1035.95 | 59.4324       | 71.7292    | 7.0183   | 1509.74      | Paris\n",
       "1405.89 | 59.5289       | 86.4571    | 8.99698  | 1915.56      | Paris\n",
       "1260.72 | 52.3157       | 98.0972    | 6.59916  | 1136.64      | Paris\n",
       "... (2831 rows omitted)"
      ]
     },
     "execution_count": 28,
     "metadata": {},
     "output_type": "execute_result"
    }
   ],
   "source": [
    "select_soc_data = soc_data.select(\"C12_MEN\", \"TX12_MENPSEUL\", \"C12_NE24F2\", \"SHAPE_ha\", \"SHAPE_Length\", \"NOM_EPT\")\n",
    "select_soc_data"
   ]
  },
  {
   "cell_type": "markdown",
   "metadata": {},
   "source": [
    "As you can see underneath the table, there are still 2831 rows omitted! Our next step is to only include the data with larger populations (larger than 4000).\n",
    "\n",
    "To do this, we need to use a new function `where`. The general form of this function is:\n",
    "\n",
    "```python\n",
    "table_name.where(column_name, predicate)\n",
    "```\n",
    "\n",
    "We only want to look at the values in our table from Paris so let's include the columns where the `NOM_EPT = Paris` or `NOM_EPT = Grand-Paris Est`, we may use the predicate `are.equal_to()`. Note that we are assigning the new table to a new variable. We are referencing the table stored in an older variable (`select_soc_data`), and modifying it. That modification is what is stored in the new variable. "
   ]
  },
  {
   "cell_type": "code",
   "execution_count": 96,
   "metadata": {
    "scrolled": true
   },
   "outputs": [
    {
     "data": {
      "text/html": [
       "<table border=\"1\" class=\"dataframe\">\n",
       "    <thead>\n",
       "        <tr>\n",
       "            <th>OBJECTID</th> <th>N_SQ_IR</th> <th>C_CAINSEE</th> <th>N_QU</th> <th>C_IR</th> <th>C_TYPEIR</th> <th>L_IR</th> <th>M2_IP</th> <th>M2_POP</th> <th>M2_EMP</th> <th>NOM_EPT</th> <th>EPT</th> <th>IRIS</th> <th>IRIS_NUM</th> <th>DEP</th> <th>UU2010</th> <th>COM</th> <th>LIBCOM</th> <th>LIBIRIS</th> <th>TYP_IRIS</th> <th>MODIF_IRIS</th> <th>LAB_IRIS</th> <th>SHAPE_ha</th> <th>P12_POP1564</th> <th>P12_ACT1564</th> <th>TX12_ACT1564</th> <th>P12_ACTOCC1564</th> <th>TX12_ACTOCC1564</th> <th>C12_ACTOCC15P</th> <th>C12_ACTOCC15P_TCOM</th> <th>TX12_ACTOCC15P_TCOM</th> <th>C12_ACT1564_CS1</th> <th>C12_ACT1564_CS2</th> <th>C12_ACT1564_CS3</th> <th>C12_ACT1564_CS4</th> <th>C12_ACT1564_CS5</th> <th>C12_ACT1564_CS6</th> <th>SHAPE_Length</th> <th>SHAPE_Area</th>\n",
       "        </tr>\n",
       "    </thead>\n",
       "    <tbody>\n",
       "        <tr>\n",
       "            <td>1       </td> <td>750004511</td> <td>75101    </td> <td>1   </td> <td>751010101</td> <td>H       </td> <td>Saint-Germain L'Auxerrois 1</td> <td>35395.5</td> <td>22312.5 </td> <td>33459.7 </td> <td>Paris  </td> <td>T1  </td> <td>751010101</td> <td>751010101</td> <td>75  </td> <td>851   </td> <td>75101</td> <td>Paris 1er Arrondissement</td> <td>Saint-Germain l'Auxerrois 1</td> <td>H       </td> <td>00        </td> <td>1       </td> <td>6.44942 </td> <td>667.196    </td> <td>548.28     </td> <td>82.1768     </td> <td>498.977       </td> <td>74.7871        </td> <td>512.116      </td> <td>369.906           </td> <td>72.2309            </td> <td>0              </td> <td>41.0005        </td> <td>315.838        </td> <td>107.449        </td> <td>73.2291        </td> <td>7.38814        </td> <td>1083.99     </td> <td>64488.1   </td>\n",
       "        </tr>\n",
       "        <tr>\n",
       "            <td>2       </td> <td>750004559</td> <td>75101    </td> <td>1   </td> <td>751010102</td> <td>A       </td> <td>Saint-Germain l'Auxerrois 2</td> <td>45971.8</td> <td>4728.31 </td> <td>42976.7 </td> <td>Paris  </td> <td>T1  </td> <td>751010102</td> <td>751010102</td> <td>75  </td> <td>851   </td> <td>75101</td> <td>Paris 1er Arrondissement</td> <td>Saint-Germain l'Auxerrois 2</td> <td>A       </td> <td>00        </td> <td>3       </td> <td>6.19873 </td> <td>98.3124    </td> <td>45.8584    </td> <td>46.6456     </td> <td>40.2278       </td> <td>40.9183        </td> <td>51.8709      </td> <td>16.7211           </td> <td>32.236             </td> <td>0              </td> <td>2.44385        </td> <td>28.8981        </td> <td>9.1805         </td> <td>5.33589        </td> <td>0              </td> <td>1057.13     </td> <td>61981.2   </td>\n",
       "        </tr>\n",
       "        <tr>\n",
       "            <td>3       </td> <td>750004497</td> <td>75101    </td> <td>1   </td> <td>751010103</td> <td>A       </td> <td>Saint-Germain L'Auxerrois 3</td> <td>29246.6</td> <td>17775.1 </td> <td>26203.9 </td> <td>Paris  </td> <td>T1  </td> <td>751010103</td> <td>751010103</td> <td>75  </td> <td>851   </td> <td>75101</td> <td>Paris 1er Arrondissement</td> <td>Saint-Germain l'Auxerrois 3</td> <td>A       </td> <td>00        </td> <td>3       </td> <td>4.60627 </td> <td>297.772    </td> <td>196.398    </td> <td>65.9559     </td> <td>183.735       </td> <td>61.7033        </td> <td>200.886      </td> <td>113.987           </td> <td>56.7424            </td> <td>0              </td> <td>19.571         </td> <td>100.647        </td> <td>45.6372        </td> <td>25.5187        </td> <td>9.62402        </td> <td>877.312     </td> <td>46058.5   </td>\n",
       "        </tr>\n",
       "        <tr>\n",
       "            <td>4       </td> <td>750004460</td> <td>75101    </td> <td>1   </td> <td>751010104</td> <td>A       </td> <td>Saint-Germain L'Auxerrois 4</td> <td>181709 </td> <td>26416.3 </td> <td>109150  </td> <td>Paris  </td> <td>T1  </td> <td>751010104</td> <td>751010104</td> <td>75  </td> <td>851   </td> <td>75101</td> <td>Paris 1er Arrondissement</td> <td>Saint-Germain l'Auxerrois 4</td> <td>A       </td> <td>00        </td> <td>3       </td> <td>22.4808 </td> <td>10.6481    </td> <td>9.76074    </td> <td>91.6667     </td> <td>8.8734        </td> <td>83.3333        </td> <td>8.8734       </td> <td>3.54936           </td> <td>40                 </td> <td>0              </td> <td>0              </td> <td>7.09872        </td> <td>2.66202        </td> <td>0              </td> <td>0              </td> <td>2052.89     </td> <td>224788    </td>\n",
       "        </tr>\n",
       "        <tr>\n",
       "            <td>5       </td> <td>750004388</td> <td>75101    </td> <td>1   </td> <td>751010105</td> <td>D       </td> <td>Tuileries                  </td> <td>225540 </td> <td>11.5994 </td> <td>2736.06 </td> <td>Paris  </td> <td>T1  </td> <td>751010105</td> <td>751010105</td> <td>75  </td> <td>851   </td> <td>75101</td> <td>Paris 1er Arrondissement</td> <td>Tuileries                  </td> <td>D       </td> <td>00        </td> <td>3       </td> <td>24.8896 </td> <td>nan        </td> <td>nan        </td> <td>nan         </td> <td>nan           </td> <td>nan            </td> <td>nan          </td> <td>nan               </td> <td>nan                </td> <td>nan            </td> <td>nan            </td> <td>nan            </td> <td>nan            </td> <td>nan            </td> <td>nan            </td> <td>2112.53     </td> <td>248875    </td>\n",
       "        </tr>\n",
       "        <tr>\n",
       "            <td>6       </td> <td>750004461</td> <td>75101    </td> <td>1   </td> <td>751010199</td> <td>D       </td> <td>Seine et Berges            </td> <td>21293.3</td> <td>0.209782</td> <td>0.209782</td> <td>Paris  </td> <td>T1  </td> <td>751010199</td> <td>751010199</td> <td>75  </td> <td>851   </td> <td>75101</td> <td>Paris 1er Arrondissement</td> <td>Seine et Berges            </td> <td>D       </td> <td>00        </td> <td>3       </td> <td>22.2792 </td> <td>nan        </td> <td>nan        </td> <td>nan         </td> <td>nan           </td> <td>nan            </td> <td>nan          </td> <td>nan               </td> <td>nan                </td> <td>nan            </td> <td>nan            </td> <td>nan            </td> <td>nan            </td> <td>nan            </td> <td>nan            </td> <td>5146.54     </td> <td>222771    </td>\n",
       "        </tr>\n",
       "        <tr>\n",
       "            <td>7       </td> <td>750004421</td> <td>75101    </td> <td>2   </td> <td>751010201</td> <td>H       </td> <td>Les Halles 1               </td> <td>44086.6</td> <td>40507.3 </td> <td>41712.2 </td> <td>Paris  </td> <td>T1  </td> <td>751010201</td> <td>751010201</td> <td>75  </td> <td>851   </td> <td>75101</td> <td>Paris 1er Arrondissement</td> <td>Les Halles 1               </td> <td>H       </td> <td>00        </td> <td>1       </td> <td>7.83812 </td> <td>1922.38    </td> <td>1633.2     </td> <td>84.957      </td> <td>1451.47       </td> <td>75.5036        </td> <td>1465.5       </td> <td>1114.82           </td> <td>76.0709            </td> <td>3.46707        </td> <td>105.192        </td> <td>883.263        </td> <td>337.524        </td> <td>206.992        </td> <td>84.434         </td> <td>1483.01     </td> <td>78374.2   </td>\n",
       "        </tr>\n",
       "        <tr>\n",
       "            <td>8       </td> <td>750004483</td> <td>75101    </td> <td>2   </td> <td>751010202</td> <td>H       </td> <td>Les Halles 2               </td> <td>46064.5</td> <td>41030.7 </td> <td>45448   </td> <td>Paris  </td> <td>T1  </td> <td>751010202</td> <td>751010202</td> <td>75  </td> <td>851   </td> <td>75101</td> <td>Paris 1er Arrondissement</td> <td>Les Halles 2               </td> <td>H       </td> <td>00        </td> <td>1       </td> <td>7.0183  </td> <td>1259.04    </td> <td>1060.45    </td> <td>84.2266     </td> <td>966.864       </td> <td>76.7935        </td> <td>986.083      </td> <td>605.955           </td> <td>61.4507            </td> <td>0              </td> <td>83.109         </td> <td>591.343        </td> <td>188.963        </td> <td>172.848        </td> <td>17.3852        </td> <td>1509.74     </td> <td>70176.7   </td>\n",
       "        </tr>\n",
       "        <tr>\n",
       "            <td>9       </td> <td>750004406</td> <td>75101    </td> <td>2   </td> <td>751010203</td> <td>H       </td> <td>Les Halles 3               </td> <td>55295.9</td> <td>54574.5 </td> <td>55024.4 </td> <td>Paris  </td> <td>T1  </td> <td>751010203</td> <td>751010203</td> <td>75  </td> <td>851   </td> <td>75101</td> <td>Paris 1er Arrondissement</td> <td>Les Halles 3               </td> <td>H       </td> <td>00        </td> <td>1       </td> <td>8.99698 </td> <td>1718.35    </td> <td>1395.58    </td> <td>81.2162     </td> <td>1245.48       </td> <td>72.4811        </td> <td>1274.82      </td> <td>661.996           </td> <td>51.9287            </td> <td>8.32198        </td> <td>108.081        </td> <td>712.537        </td> <td>285.324        </td> <td>223.233        </td> <td>50.7081        </td> <td>1915.56     </td> <td>89961.9   </td>\n",
       "        </tr>\n",
       "        <tr>\n",
       "            <td>10      </td> <td>750004404</td> <td>75101    </td> <td>2   </td> <td>751010204</td> <td>H       </td> <td>Les Halles 4               </td> <td>43697.1</td> <td>38179.1 </td> <td>43578.7 </td> <td>Paris  </td> <td>T1  </td> <td>751010204</td> <td>751010204</td> <td>75  </td> <td>851   </td> <td>75101</td> <td>Paris 1er Arrondissement</td> <td>Les Halles 4               </td> <td>H       </td> <td>00        </td> <td>2       </td> <td>6.59916 </td> <td>1798.77    </td> <td>1420.14    </td> <td>78.9506     </td> <td>1275.28       </td> <td>70.8973        </td> <td>1312.8       </td> <td>692.835           </td> <td>52.7755            </td> <td>3.36795        </td> <td>57.3445        </td> <td>696.357        </td> <td>307.347        </td> <td>250.197        </td> <td>96.4389        </td> <td>1136.64     </td> <td>65986     </td>\n",
       "        </tr>\n",
       "    </tbody>\n",
       "</table>\n",
       "<p>... (982 rows omitted)</p>"
      ],
      "text/plain": [
       "OBJECTID | N_SQ_IR   | C_CAINSEE | N_QU | C_IR      | C_TYPEIR | L_IR                        | M2_IP   | M2_POP   | M2_EMP   | NOM_EPT | EPT  | IRIS      | IRIS_NUM  | DEP  | UU2010 | COM   | LIBCOM                   | LIBIRIS                     | TYP_IRIS | MODIF_IRIS | LAB_IRIS | SHAPE_ha | P12_POP1564 | P12_ACT1564 | TX12_ACT1564 | P12_ACTOCC1564 | TX12_ACTOCC1564 | C12_ACTOCC15P | C12_ACTOCC15P_TCOM | TX12_ACTOCC15P_TCOM | C12_ACT1564_CS1 | C12_ACT1564_CS2 | C12_ACT1564_CS3 | C12_ACT1564_CS4 | C12_ACT1564_CS5 | C12_ACT1564_CS6 | SHAPE_Length | SHAPE_Area\n",
       "1        | 750004511 | 75101     | 1    | 751010101 | H        | Saint-Germain L'Auxerrois 1 | 35395.5 | 22312.5  | 33459.7  | Paris   | T1   | 751010101 | 751010101 | 75   | 851    | 75101 | Paris 1er Arrondissement | Saint-Germain l'Auxerrois 1 | H        | 00         | 1        | 6.44942  | 667.196     | 548.28      | 82.1768      | 498.977        | 74.7871         | 512.116       | 369.906            | 72.2309             | 0               | 41.0005         | 315.838         | 107.449         | 73.2291         | 7.38814         | 1083.99      | 64488.1\n",
       "2        | 750004559 | 75101     | 1    | 751010102 | A        | Saint-Germain l'Auxerrois 2 | 45971.8 | 4728.31  | 42976.7  | Paris   | T1   | 751010102 | 751010102 | 75   | 851    | 75101 | Paris 1er Arrondissement | Saint-Germain l'Auxerrois 2 | A        | 00         | 3        | 6.19873  | 98.3124     | 45.8584     | 46.6456      | 40.2278        | 40.9183         | 51.8709       | 16.7211            | 32.236              | 0               | 2.44385         | 28.8981         | 9.1805          | 5.33589         | 0               | 1057.13      | 61981.2\n",
       "3        | 750004497 | 75101     | 1    | 751010103 | A        | Saint-Germain L'Auxerrois 3 | 29246.6 | 17775.1  | 26203.9  | Paris   | T1   | 751010103 | 751010103 | 75   | 851    | 75101 | Paris 1er Arrondissement | Saint-Germain l'Auxerrois 3 | A        | 00         | 3        | 4.60627  | 297.772     | 196.398     | 65.9559      | 183.735        | 61.7033         | 200.886       | 113.987            | 56.7424             | 0               | 19.571          | 100.647         | 45.6372         | 25.5187         | 9.62402         | 877.312      | 46058.5\n",
       "4        | 750004460 | 75101     | 1    | 751010104 | A        | Saint-Germain L'Auxerrois 4 | 181709  | 26416.3  | 109150   | Paris   | T1   | 751010104 | 751010104 | 75   | 851    | 75101 | Paris 1er Arrondissement | Saint-Germain l'Auxerrois 4 | A        | 00         | 3        | 22.4808  | 10.6481     | 9.76074     | 91.6667      | 8.8734         | 83.3333         | 8.8734        | 3.54936            | 40                  | 0               | 0               | 7.09872         | 2.66202         | 0               | 0               | 2052.89      | 224788\n",
       "5        | 750004388 | 75101     | 1    | 751010105 | D        | Tuileries                   | 225540  | 11.5994  | 2736.06  | Paris   | T1   | 751010105 | 751010105 | 75   | 851    | 75101 | Paris 1er Arrondissement | Tuileries                   | D        | 00         | 3        | 24.8896  | nan         | nan         | nan          | nan            | nan             | nan           | nan                | nan                 | nan             | nan             | nan             | nan             | nan             | nan             | 2112.53      | 248875\n",
       "6        | 750004461 | 75101     | 1    | 751010199 | D        | Seine et Berges             | 21293.3 | 0.209782 | 0.209782 | Paris   | T1   | 751010199 | 751010199 | 75   | 851    | 75101 | Paris 1er Arrondissement | Seine et Berges             | D        | 00         | 3        | 22.2792  | nan         | nan         | nan          | nan            | nan             | nan           | nan                | nan                 | nan             | nan             | nan             | nan             | nan             | nan             | 5146.54      | 222771\n",
       "7        | 750004421 | 75101     | 2    | 751010201 | H        | Les Halles 1                | 44086.6 | 40507.3  | 41712.2  | Paris   | T1   | 751010201 | 751010201 | 75   | 851    | 75101 | Paris 1er Arrondissement | Les Halles 1                | H        | 00         | 1        | 7.83812  | 1922.38     | 1633.2      | 84.957       | 1451.47        | 75.5036         | 1465.5        | 1114.82            | 76.0709             | 3.46707         | 105.192         | 883.263         | 337.524         | 206.992         | 84.434          | 1483.01      | 78374.2\n",
       "8        | 750004483 | 75101     | 2    | 751010202 | H        | Les Halles 2                | 46064.5 | 41030.7  | 45448    | Paris   | T1   | 751010202 | 751010202 | 75   | 851    | 75101 | Paris 1er Arrondissement | Les Halles 2                | H        | 00         | 1        | 7.0183   | 1259.04     | 1060.45     | 84.2266      | 966.864        | 76.7935         | 986.083       | 605.955            | 61.4507             | 0               | 83.109          | 591.343         | 188.963         | 172.848         | 17.3852         | 1509.74      | 70176.7\n",
       "9        | 750004406 | 75101     | 2    | 751010203 | H        | Les Halles 3                | 55295.9 | 54574.5  | 55024.4  | Paris   | T1   | 751010203 | 751010203 | 75   | 851    | 75101 | Paris 1er Arrondissement | Les Halles 3                | H        | 00         | 1        | 8.99698  | 1718.35     | 1395.58     | 81.2162      | 1245.48        | 72.4811         | 1274.82       | 661.996            | 51.9287             | 8.32198         | 108.081         | 712.537         | 285.324         | 223.233         | 50.7081         | 1915.56      | 89961.9\n",
       "10       | 750004404 | 75101     | 2    | 751010204 | H        | Les Halles 4                | 43697.1 | 38179.1  | 43578.7  | Paris   | T1   | 751010204 | 751010204 | 75   | 851    | 75101 | Paris 1er Arrondissement | Les Halles 4                | H        | 00         | 2        | 6.59916  | 1798.77     | 1420.14     | 78.9506      | 1275.28        | 70.8973         | 1312.8        | 692.835            | 52.7755             | 3.36795         | 57.3445         | 696.357         | 307.347         | 250.197         | 96.4389         | 1136.64      | 65986\n",
       "... (982 rows omitted)"
      ]
     },
     "execution_count": 96,
     "metadata": {},
     "output_type": "execute_result"
    }
   ],
   "source": [
    "act_data_paris = act_data.where(\"NOM_EPT\", are.equal_to(\"Paris\"))\n",
    "act_data_paris"
   ]
  },
  {
   "cell_type": "code",
   "execution_count": 99,
   "metadata": {
    "scrolled": true
   },
   "outputs": [
    {
     "data": {
      "text/html": [
       "<table border=\"1\" class=\"dataframe\">\n",
       "    <thead>\n",
       "        <tr>\n",
       "            <th>OBJECTID</th> <th>N_SQ_IR</th> <th>C_CAINSEE</th> <th>N_QU</th> <th>C_IR</th> <th>C_TYPEIR</th> <th>L_IR</th> <th>M2_IP</th> <th>M2_POP</th> <th>M2_EMP</th> <th>NOM_EPT</th> <th>EPT</th> <th>IRIS</th> <th>IRIS_NUM</th> <th>DEP</th> <th>UU2010</th> <th>COM</th> <th>LIBCOM</th> <th>LIBIRIS</th> <th>TYP_IRIS</th> <th>MODIF_IRIS</th> <th>LAB_IRIS</th> <th>SHAPE_ha</th> <th>P12_POP</th> <th>P07_POP</th> <th>TXAN0712_POP</th> <th>DENSPOP12</th> <th>P12_H0014</th> <th>P12_H1529</th> <th>P12_H3044</th> <th>P12_H4559</th> <th>P12_H6074</th> <th>P12_H75P</th> <th>P12_F0014</th> <th>P12_F1529</th> <th>P12_F3044</th> <th>P12_F4559</th> <th>P12_F6074</th> <th>P12_F75P</th> <th>P12_POP60P</th> <th>P12_POP0019</th> <th>INDJEUN2012</th> <th>C12_POP15P_CS1</th> <th>C12_POP15P_CS2</th> <th>C12_POP15P_CS3</th> <th>C12_POP15P_CS4</th> <th>C12_POP15P_CS5</th> <th>C12_POP15P_CS6</th> <th>C12_POP15P_CS</th> <th>CS3_CS56</th> <th>P12_POP_ETR</th> <th>TX12_POP_ETR</th> <th>P12_POP_IMM</th> <th>TX12_POP_IMM</th> <th>SHAPE_Length</th> <th>SHAPE_Area</th>\n",
       "        </tr>\n",
       "    </thead>\n",
       "    <tbody>\n",
       "        <tr>\n",
       "            <td>1       </td> <td>750004651</td> <td>75112    </td> <td>48  </td> <td>751124806</td> <td>H       </td> <td>Quinze Vingts 6    </td> <td>35663.3</td> <td>31569.3</td> <td>32907.2</td> <td>Paris  </td> <td>T1  </td> <td>751124806</td> <td>751124806</td> <td>75  </td> <td>851   </td> <td>75112</td> <td>Paris 12e Arrondissement</td> <td>Quinze Vingts 6    </td> <td>H       </td> <td>00        </td> <td>1       </td> <td>5.48232 </td> <td>2331.14</td> <td>2240.98</td> <td>0.792041    </td> <td>425.211  </td> <td>140.398  </td> <td>297.83   </td> <td>316.185  </td> <td>184.187  </td> <td>119.718  </td> <td>34.448  </td> <td>194.748  </td> <td>309.071  </td> <td>305.635  </td> <td>221.903  </td> <td>131.698  </td> <td>75.3209 </td> <td>361.185   </td> <td>435.447    </td> <td>1.20561    </td> <td>3.11209       </td> <td>58.4986       </td> <td>825.018       </td> <td>282.598       </td> <td>216.699       </td> <td>55.4651       </td> <td>1441.39      </td> <td>3.03133 </td> <td>271.077    </td> <td>11.6285     </td> <td>326.122    </td> <td>13.9898     </td> <td>1074.4      </td> <td>54817     </td>\n",
       "        </tr>\n",
       "        <tr>\n",
       "            <td>2       </td> <td>750004611</td> <td>75112    </td> <td>48  </td> <td>751124807</td> <td>H       </td> <td>Quinze Vingts 7    </td> <td>63724.2</td> <td>57681.5</td> <td>59621.6</td> <td>Paris  </td> <td>T1  </td> <td>751124807</td> <td>751124807</td> <td>75  </td> <td>851   </td> <td>75112</td> <td>Paris 12e Arrondissement</td> <td>Quinze Vingts 7    </td> <td>H       </td> <td>00        </td> <td>1       </td> <td>9.16297 </td> <td>3250.54</td> <td>3324.56</td> <td>-0.449337   </td> <td>354.748  </td> <td>185.264  </td> <td>384.585  </td> <td>415.936  </td> <td>278.232  </td> <td>131.675  </td> <td>86.343  </td> <td>164.347  </td> <td>417.803  </td> <td>452.533  </td> <td>332.768  </td> <td>248.754  </td> <td>152.299 </td> <td>619.072   </td> <td>461.625    </td> <td>0.745672   </td> <td>0             </td> <td>123.775       </td> <td>945.426       </td> <td>480.001       </td> <td>407.954       </td> <td>107.882       </td> <td>2065.04      </td> <td>1.8328  </td> <td>361.338    </td> <td>11.1162     </td> <td>505.602    </td> <td>15.5544     </td> <td>1621.89     </td> <td>91619.7   </td>\n",
       "        </tr>\n",
       "        <tr>\n",
       "            <td>3       </td> <td>750004683</td> <td>75112    </td> <td>48  </td> <td>751124808</td> <td>H       </td> <td>Quinze Vingts 8    </td> <td>36888.6</td> <td>32368.1</td> <td>32368.1</td> <td>Paris  </td> <td>T1  </td> <td>751124808</td> <td>751124808</td> <td>75  </td> <td>851   </td> <td>75112</td> <td>Paris 12e Arrondissement</td> <td>Quinze Vingts 8    </td> <td>H       </td> <td>00        </td> <td>1       </td> <td>6.44037 </td> <td>2340.69</td> <td>2357.9 </td> <td>-0.146388   </td> <td>363.44   </td> <td>181.641  </td> <td>252.512  </td> <td>237.221  </td> <td>216.859  </td> <td>135.377  </td> <td>71.055  </td> <td>165.349  </td> <td>229.426  </td> <td>305.841  </td> <td>271.299  </td> <td>156.193  </td> <td>117.917 </td> <td>480.542   </td> <td>453.399    </td> <td>0.943517   </td> <td>2.92464       </td> <td>32.9731       </td> <td>774.322       </td> <td>251.879       </td> <td>223.437       </td> <td>65.8081       </td> <td>1351.34      </td> <td>2.67704 </td> <td>262.573    </td> <td>11.2178     </td> <td>378.304    </td> <td>16.1621     </td> <td>1297.31     </td> <td>64396.2   </td>\n",
       "        </tr>\n",
       "        <tr>\n",
       "            <td>4       </td> <td>750004647</td> <td>75112    </td> <td>48  </td> <td>751124809</td> <td>H       </td> <td>Quinze Vingts 9    </td> <td>41811.6</td> <td>34551.6</td> <td>41092.4</td> <td>Paris  </td> <td>T1  </td> <td>751124809</td> <td>751124809</td> <td>75  </td> <td>851   </td> <td>75112</td> <td>Paris 12e Arrondissement</td> <td>Quinze Vingts 9    </td> <td>H       </td> <td>00        </td> <td>2       </td> <td>6.01925 </td> <td>2664.48</td> <td>2719.87</td> <td>-0.410667   </td> <td>442.659  </td> <td>155.019  </td> <td>368.61   </td> <td>376.646  </td> <td>239.718  </td> <td>158.071  </td> <td>43.7465 </td> <td>149.32   </td> <td>366.844  </td> <td>332.787  </td> <td>237.957  </td> <td>165.568  </td> <td>70.1899 </td> <td>437.575   </td> <td>414.125    </td> <td>0.946409   </td> <td>0             </td> <td>76.8941       </td> <td>701.067       </td> <td>434.838       </td> <td>286.183       </td> <td>124.914       </td> <td>1623.9       </td> <td>1.70536 </td> <td>391.649    </td> <td>14.6989     </td> <td>513.75     </td> <td>19.2815     </td> <td>1263.59     </td> <td>60185.7   </td>\n",
       "        </tr>\n",
       "        <tr>\n",
       "            <td>5       </td> <td>750004652</td> <td>75112    </td> <td>48  </td> <td>751124810</td> <td>H       </td> <td>Quinze Vingts 10   </td> <td>51443  </td> <td>47254.6</td> <td>50562.4</td> <td>Paris  </td> <td>T1  </td> <td>751124810</td> <td>751124810</td> <td>75  </td> <td>851   </td> <td>75112</td> <td>Paris 12e Arrondissement</td> <td>Quinze Vingts 10   </td> <td>H       </td> <td>00        </td> <td>1       </td> <td>7.13827 </td> <td>3179.32</td> <td>3056.62</td> <td>0.790206    </td> <td>445.391  </td> <td>190.888  </td> <td>399.95   </td> <td>385.161  </td> <td>231.506  </td> <td>282.423  </td> <td>94.627  </td> <td>187.314  </td> <td>446.473  </td> <td>386.286  </td> <td>244.832  </td> <td>178.998  </td> <td>150.86  </td> <td>706.908   </td> <td>490.26     </td> <td>0.693527   </td> <td>0             </td> <td>79.576        </td> <td>796.773       </td> <td>412.154       </td> <td>256.603       </td> <td>106.84        </td> <td>1651.95      </td> <td>2.1923  </td> <td>505.074    </td> <td>15.8862     </td> <td>649.501    </td> <td>20.429      </td> <td>1254.21     </td> <td>71374.6   </td>\n",
       "        </tr>\n",
       "        <tr>\n",
       "            <td>6       </td> <td>750004727</td> <td>75112    </td> <td>48  </td> <td>751124811</td> <td>A       </td> <td>Quinze Vingts 11   </td> <td>103681 </td> <td>5712.56</td> <td>103675 </td> <td>Paris  </td> <td>T1  </td> <td>751124811</td> <td>751124811</td> <td>75  </td> <td>851   </td> <td>75112</td> <td>Paris 12e Arrondissement</td> <td>Quinze Vingts 11   </td> <td>A       </td> <td>00        </td> <td>3       </td> <td>11.6408 </td> <td>nan    </td> <td>0      </td> <td>nan         </td> <td>0        </td> <td>nan      </td> <td>nan      </td> <td>nan      </td> <td>nan      </td> <td>nan      </td> <td>nan     </td> <td>nan      </td> <td>nan      </td> <td>nan      </td> <td>nan      </td> <td>nan      </td> <td>nan     </td> <td>0         </td> <td>nan        </td> <td>nan        </td> <td>nan           </td> <td>nan           </td> <td>nan           </td> <td>nan           </td> <td>nan           </td> <td>nan           </td> <td>0            </td> <td>nan     </td> <td>nan        </td> <td>nan         </td> <td>nan        </td> <td>nan         </td> <td>1659.48     </td> <td>116394    </td>\n",
       "        </tr>\n",
       "        <tr>\n",
       "            <td>7       </td> <td>750004731</td> <td>75112    </td> <td>48  </td> <td>751124812</td> <td>A       </td> <td>Quinze Vingts 12   </td> <td>82607.1</td> <td>61499.7</td> <td>81427.1</td> <td>Paris  </td> <td>T1  </td> <td>751124812</td> <td>751124812</td> <td>75  </td> <td>851   </td> <td>75112</td> <td>Paris 12e Arrondissement</td> <td>Quinze Vingts 12   </td> <td>A       </td> <td>00        </td> <td>3       </td> <td>10.9894 </td> <td>1202.3 </td> <td>952.507</td> <td>4.76807     </td> <td>109.405  </td> <td>120.986  </td> <td>140.588  </td> <td>160.723  </td> <td>114.032  </td> <td>61.486   </td> <td>14.707  </td> <td>95.2862  </td> <td>168.78   </td> <td>122.989  </td> <td>104.801  </td> <td>58.6481  </td> <td>39.2745 </td> <td>174.116   </td> <td>292.714    </td> <td>1.68115    </td> <td>0             </td> <td>17.924        </td> <td>178.781       </td> <td>133.843       </td> <td>155.487       </td> <td>116.027       </td> <td>602.062      </td> <td>0.658458</td> <td>258.512    </td> <td>21.5014     </td> <td>286.174    </td> <td>23.8022     </td> <td>1621.27     </td> <td>109881    </td>\n",
       "        </tr>\n",
       "        <tr>\n",
       "            <td>8       </td> <td>750004657</td> <td>75112    </td> <td>48  </td> <td>751124813</td> <td>A       </td> <td>Quinze Vingts 13   </td> <td>70576.3</td> <td>7417.01</td> <td>70538.6</td> <td>Paris  </td> <td>T1  </td> <td>751124813</td> <td>751124813</td> <td>75  </td> <td>851   </td> <td>75112</td> <td>Paris 12e Arrondissement</td> <td>Quinze Vingts 13   </td> <td>A       </td> <td>00        </td> <td>3       </td> <td>8.25468 </td> <td>716.246</td> <td>753.659</td> <td>-1.01318    </td> <td>86.7684  </td> <td>48.8827  </td> <td>66.2034  </td> <td>118.311  </td> <td>81.2794  </td> <td>32.8207  </td> <td>0       </td> <td>52.4445  </td> <td>124.045  </td> <td>96.6547  </td> <td>65.1564  </td> <td>24.4225  </td> <td>6.02513 </td> <td>63.2683   </td> <td>138.841    </td> <td>2.19447    </td> <td>0             </td> <td>36.8908       </td> <td>207.974       </td> <td>126.513       </td> <td>104.187       </td> <td>22.789        </td> <td>498.354      </td> <td>1.6379  </td> <td>100.442    </td> <td>14.0234     </td> <td>108.926    </td> <td>15.208      </td> <td>1148.53     </td> <td>82537.5   </td>\n",
       "        </tr>\n",
       "        <tr>\n",
       "            <td>9       </td> <td>750004619</td> <td>75112    </td> <td>48  </td> <td>751124888</td> <td>D       </td> <td>Bassin de l'Arsenal</td> <td>15935.6</td> <td>86.6777</td> <td>914.185</td> <td>Paris  </td> <td>T1  </td> <td>751124888</td> <td>751124888</td> <td>75  </td> <td>851   </td> <td>75112</td> <td>Paris 12e Arrondissement</td> <td>Bassin de l'Arsenal</td> <td>D       </td> <td>00        </td> <td>3       </td> <td>4.12737 </td> <td>nan    </td> <td>0      </td> <td>nan         </td> <td>0        </td> <td>nan      </td> <td>nan      </td> <td>nan      </td> <td>nan      </td> <td>nan      </td> <td>nan     </td> <td>nan      </td> <td>nan      </td> <td>nan      </td> <td>nan      </td> <td>nan      </td> <td>nan     </td> <td>0         </td> <td>nan        </td> <td>nan        </td> <td>nan           </td> <td>nan           </td> <td>nan           </td> <td>nan           </td> <td>nan           </td> <td>nan           </td> <td>0            </td> <td>nan     </td> <td>nan        </td> <td>nan         </td> <td>nan        </td> <td>nan         </td> <td>1516.61     </td> <td>41269.1   </td>\n",
       "        </tr>\n",
       "        <tr>\n",
       "            <td>10      </td> <td>750004708</td> <td>75112    </td> <td>48  </td> <td>751124899</td> <td>D       </td> <td>Seine et Berges    </td> <td>28187.1</td> <td>358.546</td> <td>7701.76</td> <td>Paris  </td> <td>T1  </td> <td>751124899</td> <td>751124899</td> <td>75  </td> <td>851   </td> <td>75112</td> <td>Paris 12e Arrondissement</td> <td>Seine et Berges    </td> <td>D       </td> <td>00        </td> <td>3       </td> <td>13.0191 </td> <td>nan    </td> <td>0      </td> <td>nan         </td> <td>0        </td> <td>nan      </td> <td>nan      </td> <td>nan      </td> <td>nan      </td> <td>nan      </td> <td>nan     </td> <td>nan      </td> <td>nan      </td> <td>nan      </td> <td>nan      </td> <td>nan      </td> <td>nan     </td> <td>0         </td> <td>nan        </td> <td>nan        </td> <td>nan           </td> <td>nan           </td> <td>nan           </td> <td>nan           </td> <td>nan           </td> <td>nan           </td> <td>0            </td> <td>nan     </td> <td>nan        </td> <td>nan         </td> <td>nan        </td> <td>nan         </td> <td>2061.05     </td> <td>130175    </td>\n",
       "        </tr>\n",
       "    </tbody>\n",
       "</table>\n",
       "<p>... (982 rows omitted)</p>"
      ],
      "text/plain": [
       "OBJECTID | N_SQ_IR   | C_CAINSEE | N_QU | C_IR      | C_TYPEIR | L_IR                | M2_IP   | M2_POP  | M2_EMP  | NOM_EPT | EPT  | IRIS      | IRIS_NUM  | DEP  | UU2010 | COM   | LIBCOM                   | LIBIRIS             | TYP_IRIS | MODIF_IRIS | LAB_IRIS | SHAPE_ha | P12_POP | P07_POP | TXAN0712_POP | DENSPOP12 | P12_H0014 | P12_H1529 | P12_H3044 | P12_H4559 | P12_H6074 | P12_H75P | P12_F0014 | P12_F1529 | P12_F3044 | P12_F4559 | P12_F6074 | P12_F75P | P12_POP60P | P12_POP0019 | INDJEUN2012 | C12_POP15P_CS1 | C12_POP15P_CS2 | C12_POP15P_CS3 | C12_POP15P_CS4 | C12_POP15P_CS5 | C12_POP15P_CS6 | C12_POP15P_CS | CS3_CS56 | P12_POP_ETR | TX12_POP_ETR | P12_POP_IMM | TX12_POP_IMM | SHAPE_Length | SHAPE_Area\n",
       "1        | 750004651 | 75112     | 48   | 751124806 | H        | Quinze Vingts 6     | 35663.3 | 31569.3 | 32907.2 | Paris   | T1   | 751124806 | 751124806 | 75   | 851    | 75112 | Paris 12e Arrondissement | Quinze Vingts 6     | H        | 00         | 1        | 5.48232  | 2331.14 | 2240.98 | 0.792041     | 425.211   | 140.398   | 297.83    | 316.185   | 184.187   | 119.718   | 34.448   | 194.748   | 309.071   | 305.635   | 221.903   | 131.698   | 75.3209  | 361.185    | 435.447     | 1.20561     | 3.11209        | 58.4986        | 825.018        | 282.598        | 216.699        | 55.4651        | 1441.39       | 3.03133  | 271.077     | 11.6285      | 326.122     | 13.9898      | 1074.4       | 54817\n",
       "2        | 750004611 | 75112     | 48   | 751124807 | H        | Quinze Vingts 7     | 63724.2 | 57681.5 | 59621.6 | Paris   | T1   | 751124807 | 751124807 | 75   | 851    | 75112 | Paris 12e Arrondissement | Quinze Vingts 7     | H        | 00         | 1        | 9.16297  | 3250.54 | 3324.56 | -0.449337    | 354.748   | 185.264   | 384.585   | 415.936   | 278.232   | 131.675   | 86.343   | 164.347   | 417.803   | 452.533   | 332.768   | 248.754   | 152.299  | 619.072    | 461.625     | 0.745672    | 0              | 123.775        | 945.426        | 480.001        | 407.954        | 107.882        | 2065.04       | 1.8328   | 361.338     | 11.1162      | 505.602     | 15.5544      | 1621.89      | 91619.7\n",
       "3        | 750004683 | 75112     | 48   | 751124808 | H        | Quinze Vingts 8     | 36888.6 | 32368.1 | 32368.1 | Paris   | T1   | 751124808 | 751124808 | 75   | 851    | 75112 | Paris 12e Arrondissement | Quinze Vingts 8     | H        | 00         | 1        | 6.44037  | 2340.69 | 2357.9  | -0.146388    | 363.44    | 181.641   | 252.512   | 237.221   | 216.859   | 135.377   | 71.055   | 165.349   | 229.426   | 305.841   | 271.299   | 156.193   | 117.917  | 480.542    | 453.399     | 0.943517    | 2.92464        | 32.9731        | 774.322        | 251.879        | 223.437        | 65.8081        | 1351.34       | 2.67704  | 262.573     | 11.2178      | 378.304     | 16.1621      | 1297.31      | 64396.2\n",
       "4        | 750004647 | 75112     | 48   | 751124809 | H        | Quinze Vingts 9     | 41811.6 | 34551.6 | 41092.4 | Paris   | T1   | 751124809 | 751124809 | 75   | 851    | 75112 | Paris 12e Arrondissement | Quinze Vingts 9     | H        | 00         | 2        | 6.01925  | 2664.48 | 2719.87 | -0.410667    | 442.659   | 155.019   | 368.61    | 376.646   | 239.718   | 158.071   | 43.7465  | 149.32    | 366.844   | 332.787   | 237.957   | 165.568   | 70.1899  | 437.575    | 414.125     | 0.946409    | 0              | 76.8941        | 701.067        | 434.838        | 286.183        | 124.914        | 1623.9        | 1.70536  | 391.649     | 14.6989      | 513.75      | 19.2815      | 1263.59      | 60185.7\n",
       "5        | 750004652 | 75112     | 48   | 751124810 | H        | Quinze Vingts 10    | 51443   | 47254.6 | 50562.4 | Paris   | T1   | 751124810 | 751124810 | 75   | 851    | 75112 | Paris 12e Arrondissement | Quinze Vingts 10    | H        | 00         | 1        | 7.13827  | 3179.32 | 3056.62 | 0.790206     | 445.391   | 190.888   | 399.95    | 385.161   | 231.506   | 282.423   | 94.627   | 187.314   | 446.473   | 386.286   | 244.832   | 178.998   | 150.86   | 706.908    | 490.26      | 0.693527    | 0              | 79.576         | 796.773        | 412.154        | 256.603        | 106.84         | 1651.95       | 2.1923   | 505.074     | 15.8862      | 649.501     | 20.429       | 1254.21      | 71374.6\n",
       "6        | 750004727 | 75112     | 48   | 751124811 | A        | Quinze Vingts 11    | 103681  | 5712.56 | 103675  | Paris   | T1   | 751124811 | 751124811 | 75   | 851    | 75112 | Paris 12e Arrondissement | Quinze Vingts 11    | A        | 00         | 3        | 11.6408  | nan     | 0       | nan          | 0         | nan       | nan       | nan       | nan       | nan       | nan      | nan       | nan       | nan       | nan       | nan       | nan      | 0          | nan         | nan         | nan            | nan            | nan            | nan            | nan            | nan            | 0             | nan      | nan         | nan          | nan         | nan          | 1659.48      | 116394\n",
       "7        | 750004731 | 75112     | 48   | 751124812 | A        | Quinze Vingts 12    | 82607.1 | 61499.7 | 81427.1 | Paris   | T1   | 751124812 | 751124812 | 75   | 851    | 75112 | Paris 12e Arrondissement | Quinze Vingts 12    | A        | 00         | 3        | 10.9894  | 1202.3  | 952.507 | 4.76807      | 109.405   | 120.986   | 140.588   | 160.723   | 114.032   | 61.486    | 14.707   | 95.2862   | 168.78    | 122.989   | 104.801   | 58.6481   | 39.2745  | 174.116    | 292.714     | 1.68115     | 0              | 17.924         | 178.781        | 133.843        | 155.487        | 116.027        | 602.062       | 0.658458 | 258.512     | 21.5014      | 286.174     | 23.8022      | 1621.27      | 109881\n",
       "8        | 750004657 | 75112     | 48   | 751124813 | A        | Quinze Vingts 13    | 70576.3 | 7417.01 | 70538.6 | Paris   | T1   | 751124813 | 751124813 | 75   | 851    | 75112 | Paris 12e Arrondissement | Quinze Vingts 13    | A        | 00         | 3        | 8.25468  | 716.246 | 753.659 | -1.01318     | 86.7684   | 48.8827   | 66.2034   | 118.311   | 81.2794   | 32.8207   | 0        | 52.4445   | 124.045   | 96.6547   | 65.1564   | 24.4225   | 6.02513  | 63.2683    | 138.841     | 2.19447     | 0              | 36.8908        | 207.974        | 126.513        | 104.187        | 22.789         | 498.354       | 1.6379   | 100.442     | 14.0234      | 108.926     | 15.208       | 1148.53      | 82537.5\n",
       "9        | 750004619 | 75112     | 48   | 751124888 | D        | Bassin de l'Arsenal | 15935.6 | 86.6777 | 914.185 | Paris   | T1   | 751124888 | 751124888 | 75   | 851    | 75112 | Paris 12e Arrondissement | Bassin de l'Arsenal | D        | 00         | 3        | 4.12737  | nan     | 0       | nan          | 0         | nan       | nan       | nan       | nan       | nan       | nan      | nan       | nan       | nan       | nan       | nan       | nan      | 0          | nan         | nan         | nan            | nan            | nan            | nan            | nan            | nan            | 0             | nan      | nan         | nan          | nan         | nan          | 1516.61      | 41269.1\n",
       "10       | 750004708 | 75112     | 48   | 751124899 | D        | Seine et Berges     | 28187.1 | 358.546 | 7701.76 | Paris   | T1   | 751124899 | 751124899 | 75   | 851    | 75112 | Paris 12e Arrondissement | Seine et Berges     | D        | 00         | 3        | 13.0191  | nan     | 0       | nan          | 0         | nan       | nan       | nan       | nan       | nan       | nan      | nan       | nan       | nan       | nan       | nan       | nan      | 0          | nan         | nan         | nan            | nan            | nan            | nan            | nan            | nan            | 0             | nan      | nan         | nan          | nan         | nan          | 2061.05      | 130175\n",
       "... (982 rows omitted)"
      ]
     },
     "execution_count": 99,
     "metadata": {},
     "output_type": "execute_result"
    }
   ],
   "source": [
    "dem_data_paris = dem_data.where(\"NOM_EPT\", are.equal_to(\"Paris\"))\n",
    "dem_data_paris"
   ]
  },
  {
   "cell_type": "code",
   "execution_count": 100,
   "metadata": {},
   "outputs": [
    {
     "data": {
      "text/html": [
       "<table border=\"1\" class=\"dataframe\">\n",
       "    <thead>\n",
       "        <tr>\n",
       "            <th>OBJECTID</th> <th>N_SQ_IR</th> <th>C_CAINSEE</th> <th>N_QU</th> <th>C_IR</th> <th>C_TYPEIR</th> <th>L_IR</th> <th>M2_IP</th> <th>M2_POP</th> <th>M2_EMP</th> <th>NOM_EPT</th> <th>EPT</th> <th>IRIS</th> <th>IRIS_NUM</th> <th>DEP</th> <th>UU2010</th> <th>COM</th> <th>LIBCOM</th> <th>LIBIRIS</th> <th>TYP_IRIS</th> <th>MODIF_IRIS</th> <th>LAB_IRIS</th> <th>SHAPE_ha</th> <th>P12_RP_VOIT1P</th> <th>TX12_RP_VOIT1P</th> <th>C12_MEN</th> <th>C12_MENPSEUL</th> <th>TX12_MENPSEUL</th> <th>C12_NE24F1</th> <th>C12_NE24F2</th> <th>C12_NE24F3</th> <th>C12_NE24F4P</th> <th>C12_NE24F</th> <th>TX12_NE24F</th> <th>SHAPE_Length</th> <th>SHAPE_Area</th>\n",
       "        </tr>\n",
       "    </thead>\n",
       "    <tbody>\n",
       "        <tr>\n",
       "            <td>1       </td> <td>750004511</td> <td>75101    </td> <td>1   </td> <td>751010101</td> <td>H       </td> <td>Saint-Germain L'Auxerrois 1</td> <td>35395.5</td> <td>22312.5 </td> <td>33459.7 </td> <td>Paris  </td> <td>T1  </td> <td>751010101</td> <td>751010101</td> <td>75  </td> <td>851   </td> <td>75101</td> <td>Paris 1er Arrondissement</td> <td>Saint-Germain l'Auxerrois 1</td> <td>H       </td> <td>00        </td> <td>1       </td> <td>6.44942 </td> <td>193.142      </td> <td>nan           </td> <td>501.223</td> <td>249.284     </td> <td>49.7352      </td> <td>63.2679   </td> <td>42.0458   </td> <td>4.10618   </td> <td>0          </td> <td>109.42   </td> <td>21.8306   </td> <td>1083.99     </td> <td>64488.1   </td>\n",
       "        </tr>\n",
       "        <tr>\n",
       "            <td>2       </td> <td>750004559</td> <td>75101    </td> <td>1   </td> <td>751010102</td> <td>A       </td> <td>Saint-Germain l'Auxerrois 2</td> <td>45971.8</td> <td>4728.31 </td> <td>42976.7 </td> <td>Paris  </td> <td>T1  </td> <td>751010102</td> <td>751010102</td> <td>75  </td> <td>851   </td> <td>75101</td> <td>Paris 1er Arrondissement</td> <td>Saint-Germain l'Auxerrois 2</td> <td>A       </td> <td>00        </td> <td>3       </td> <td>6.19873 </td> <td>45.0733      </td> <td>nan           </td> <td>84.4898</td> <td>50.0393     </td> <td>59.2253      </td> <td>6.54643   </td> <td>0         </td> <td>2.54837   </td> <td>0          </td> <td>9.09479  </td> <td>10.7644   </td> <td>1057.13     </td> <td>61981.2   </td>\n",
       "        </tr>\n",
       "        <tr>\n",
       "            <td>3       </td> <td>750004497</td> <td>75101    </td> <td>1   </td> <td>751010103</td> <td>A       </td> <td>Saint-Germain L'Auxerrois 3</td> <td>29246.6</td> <td>17775.1 </td> <td>26203.9 </td> <td>Paris  </td> <td>T1  </td> <td>751010103</td> <td>751010103</td> <td>75  </td> <td>851   </td> <td>75101</td> <td>Paris 1er Arrondissement</td> <td>Saint-Germain l'Auxerrois 3</td> <td>A       </td> <td>00        </td> <td>3       </td> <td>4.60627 </td> <td>75.0171      </td> <td>nan           </td> <td>201.637</td> <td>112.363     </td> <td>55.7254      </td> <td>26.0243   </td> <td>7.99613   </td> <td>8.88347   </td> <td>0          </td> <td>42.9039  </td> <td>21.2777   </td> <td>877.312     </td> <td>46058.5   </td>\n",
       "        </tr>\n",
       "        <tr>\n",
       "            <td>4       </td> <td>750004460</td> <td>75101    </td> <td>1   </td> <td>751010104</td> <td>A       </td> <td>Saint-Germain L'Auxerrois 4</td> <td>181709 </td> <td>26416.3 </td> <td>109150  </td> <td>Paris  </td> <td>T1  </td> <td>751010104</td> <td>751010104</td> <td>75  </td> <td>851   </td> <td>75101</td> <td>Paris 1er Arrondissement</td> <td>Saint-Germain l'Auxerrois 4</td> <td>A       </td> <td>00        </td> <td>3       </td> <td>22.4808 </td> <td>3.54936      </td> <td>nan           </td> <td>4.4367 </td> <td>1.77468     </td> <td>40           </td> <td>0.88734   </td> <td>0         </td> <td>0         </td> <td>0          </td> <td>0.88734  </td> <td>20        </td> <td>2052.89     </td> <td>224788    </td>\n",
       "        </tr>\n",
       "        <tr>\n",
       "            <td>5       </td> <td>750004388</td> <td>75101    </td> <td>1   </td> <td>751010105</td> <td>D       </td> <td>Tuileries                  </td> <td>225540 </td> <td>11.5994 </td> <td>2736.06 </td> <td>Paris  </td> <td>T1  </td> <td>751010105</td> <td>751010105</td> <td>75  </td> <td>851   </td> <td>75101</td> <td>Paris 1er Arrondissement</td> <td>Tuileries                  </td> <td>D       </td> <td>00        </td> <td>3       </td> <td>24.8896 </td> <td>nan          </td> <td>nan           </td> <td>nan    </td> <td>nan         </td> <td>nan          </td> <td>nan       </td> <td>nan       </td> <td>nan       </td> <td>nan        </td> <td>0        </td> <td>nan       </td> <td>2112.53     </td> <td>248875    </td>\n",
       "        </tr>\n",
       "        <tr>\n",
       "            <td>6       </td> <td>750004461</td> <td>75101    </td> <td>1   </td> <td>751010199</td> <td>D       </td> <td>Seine et Berges            </td> <td>21293.3</td> <td>0.209782</td> <td>0.209782</td> <td>Paris  </td> <td>T1  </td> <td>751010199</td> <td>751010199</td> <td>75  </td> <td>851   </td> <td>75101</td> <td>Paris 1er Arrondissement</td> <td>Seine et Berges            </td> <td>D       </td> <td>00        </td> <td>3       </td> <td>22.2792 </td> <td>nan          </td> <td>nan           </td> <td>nan    </td> <td>nan         </td> <td>nan          </td> <td>nan       </td> <td>nan       </td> <td>nan       </td> <td>nan        </td> <td>0        </td> <td>nan       </td> <td>5146.54     </td> <td>222771    </td>\n",
       "        </tr>\n",
       "        <tr>\n",
       "            <td>7       </td> <td>750004421</td> <td>75101    </td> <td>2   </td> <td>751010201</td> <td>H       </td> <td>Les Halles 1               </td> <td>44086.6</td> <td>40507.3 </td> <td>41712.2 </td> <td>Paris  </td> <td>T1  </td> <td>751010201</td> <td>751010201</td> <td>75  </td> <td>851   </td> <td>75101</td> <td>Paris 1er Arrondissement</td> <td>Les Halles 1               </td> <td>H       </td> <td>00        </td> <td>1       </td> <td>7.83812 </td> <td>266.519      </td> <td>nan           </td> <td>1530.2 </td> <td>981.135     </td> <td>64.1181      </td> <td>65.5406   </td> <td>65.7735   </td> <td>15.9704   </td> <td>0          </td> <td>147.284  </td> <td>9.62519   </td> <td>1483.01     </td> <td>78374.2   </td>\n",
       "        </tr>\n",
       "        <tr>\n",
       "            <td>8       </td> <td>750004483</td> <td>75101    </td> <td>2   </td> <td>751010202</td> <td>H       </td> <td>Les Halles 2               </td> <td>46064.5</td> <td>41030.7 </td> <td>45448   </td> <td>Paris  </td> <td>T1  </td> <td>751010202</td> <td>751010202</td> <td>75  </td> <td>851   </td> <td>75101</td> <td>Paris 1er Arrondissement</td> <td>Les Halles 2               </td> <td>H       </td> <td>00        </td> <td>1       </td> <td>7.0183  </td> <td>267.455      </td> <td>nan           </td> <td>1035.95</td> <td>615.693     </td> <td>59.4324      </td> <td>62.1218   </td> <td>71.7292   </td> <td>14.6645   </td> <td>0          </td> <td>148.515  </td> <td>14.3361   </td> <td>1509.74     </td> <td>70176.7   </td>\n",
       "        </tr>\n",
       "        <tr>\n",
       "            <td>9       </td> <td>750004406</td> <td>75101    </td> <td>2   </td> <td>751010203</td> <td>H       </td> <td>Les Halles 3               </td> <td>55295.9</td> <td>54574.5 </td> <td>55024.4 </td> <td>Paris  </td> <td>T1  </td> <td>751010203</td> <td>751010203</td> <td>75  </td> <td>851   </td> <td>75101</td> <td>Paris 1er Arrondissement</td> <td>Les Halles 3               </td> <td>H       </td> <td>00        </td> <td>1       </td> <td>8.99698 </td> <td>372.092      </td> <td>nan           </td> <td>1405.89</td> <td>836.911     </td> <td>59.5289      </td> <td>110.564   </td> <td>86.4571   </td> <td>14.6706   </td> <td>2.85019    </td> <td>214.542  </td> <td>15.2602   </td> <td>1915.56     </td> <td>89961.9   </td>\n",
       "        </tr>\n",
       "        <tr>\n",
       "            <td>10      </td> <td>750004404</td> <td>75101    </td> <td>2   </td> <td>751010204</td> <td>H       </td> <td>Les Halles 4               </td> <td>43697.1</td> <td>38179.1 </td> <td>43578.7 </td> <td>Paris  </td> <td>T1  </td> <td>751010204</td> <td>751010204</td> <td>75  </td> <td>851   </td> <td>75101</td> <td>Paris 1er Arrondissement</td> <td>Les Halles 4               </td> <td>H       </td> <td>00        </td> <td>2       </td> <td>6.59916 </td> <td>350.386      </td> <td>nan           </td> <td>1260.72</td> <td>659.555     </td> <td>52.3157      </td> <td>143.562   </td> <td>98.0972   </td> <td>42.7924   </td> <td>5.4563     </td> <td>289.908  </td> <td>22.9954   </td> <td>1136.64     </td> <td>65986     </td>\n",
       "        </tr>\n",
       "    </tbody>\n",
       "</table>\n",
       "<p>... (982 rows omitted)</p>"
      ],
      "text/plain": [
       "OBJECTID | N_SQ_IR   | C_CAINSEE | N_QU | C_IR      | C_TYPEIR | L_IR                        | M2_IP   | M2_POP   | M2_EMP   | NOM_EPT | EPT  | IRIS      | IRIS_NUM  | DEP  | UU2010 | COM   | LIBCOM                   | LIBIRIS                     | TYP_IRIS | MODIF_IRIS | LAB_IRIS | SHAPE_ha | P12_RP_VOIT1P | TX12_RP_VOIT1P | C12_MEN | C12_MENPSEUL | TX12_MENPSEUL | C12_NE24F1 | C12_NE24F2 | C12_NE24F3 | C12_NE24F4P | C12_NE24F | TX12_NE24F | SHAPE_Length | SHAPE_Area\n",
       "1        | 750004511 | 75101     | 1    | 751010101 | H        | Saint-Germain L'Auxerrois 1 | 35395.5 | 22312.5  | 33459.7  | Paris   | T1   | 751010101 | 751010101 | 75   | 851    | 75101 | Paris 1er Arrondissement | Saint-Germain l'Auxerrois 1 | H        | 00         | 1        | 6.44942  | 193.142       | nan            | 501.223 | 249.284      | 49.7352       | 63.2679    | 42.0458    | 4.10618    | 0           | 109.42    | 21.8306    | 1083.99      | 64488.1\n",
       "2        | 750004559 | 75101     | 1    | 751010102 | A        | Saint-Germain l'Auxerrois 2 | 45971.8 | 4728.31  | 42976.7  | Paris   | T1   | 751010102 | 751010102 | 75   | 851    | 75101 | Paris 1er Arrondissement | Saint-Germain l'Auxerrois 2 | A        | 00         | 3        | 6.19873  | 45.0733       | nan            | 84.4898 | 50.0393      | 59.2253       | 6.54643    | 0          | 2.54837    | 0           | 9.09479   | 10.7644    | 1057.13      | 61981.2\n",
       "3        | 750004497 | 75101     | 1    | 751010103 | A        | Saint-Germain L'Auxerrois 3 | 29246.6 | 17775.1  | 26203.9  | Paris   | T1   | 751010103 | 751010103 | 75   | 851    | 75101 | Paris 1er Arrondissement | Saint-Germain l'Auxerrois 3 | A        | 00         | 3        | 4.60627  | 75.0171       | nan            | 201.637 | 112.363      | 55.7254       | 26.0243    | 7.99613    | 8.88347    | 0           | 42.9039   | 21.2777    | 877.312      | 46058.5\n",
       "4        | 750004460 | 75101     | 1    | 751010104 | A        | Saint-Germain L'Auxerrois 4 | 181709  | 26416.3  | 109150   | Paris   | T1   | 751010104 | 751010104 | 75   | 851    | 75101 | Paris 1er Arrondissement | Saint-Germain l'Auxerrois 4 | A        | 00         | 3        | 22.4808  | 3.54936       | nan            | 4.4367  | 1.77468      | 40            | 0.88734    | 0          | 0          | 0           | 0.88734   | 20         | 2052.89      | 224788\n",
       "5        | 750004388 | 75101     | 1    | 751010105 | D        | Tuileries                   | 225540  | 11.5994  | 2736.06  | Paris   | T1   | 751010105 | 751010105 | 75   | 851    | 75101 | Paris 1er Arrondissement | Tuileries                   | D        | 00         | 3        | 24.8896  | nan           | nan            | nan     | nan          | nan           | nan        | nan        | nan        | nan         | 0         | nan        | 2112.53      | 248875\n",
       "6        | 750004461 | 75101     | 1    | 751010199 | D        | Seine et Berges             | 21293.3 | 0.209782 | 0.209782 | Paris   | T1   | 751010199 | 751010199 | 75   | 851    | 75101 | Paris 1er Arrondissement | Seine et Berges             | D        | 00         | 3        | 22.2792  | nan           | nan            | nan     | nan          | nan           | nan        | nan        | nan        | nan         | 0         | nan        | 5146.54      | 222771\n",
       "7        | 750004421 | 75101     | 2    | 751010201 | H        | Les Halles 1                | 44086.6 | 40507.3  | 41712.2  | Paris   | T1   | 751010201 | 751010201 | 75   | 851    | 75101 | Paris 1er Arrondissement | Les Halles 1                | H        | 00         | 1        | 7.83812  | 266.519       | nan            | 1530.2  | 981.135      | 64.1181       | 65.5406    | 65.7735    | 15.9704    | 0           | 147.284   | 9.62519    | 1483.01      | 78374.2\n",
       "8        | 750004483 | 75101     | 2    | 751010202 | H        | Les Halles 2                | 46064.5 | 41030.7  | 45448    | Paris   | T1   | 751010202 | 751010202 | 75   | 851    | 75101 | Paris 1er Arrondissement | Les Halles 2                | H        | 00         | 1        | 7.0183   | 267.455       | nan            | 1035.95 | 615.693      | 59.4324       | 62.1218    | 71.7292    | 14.6645    | 0           | 148.515   | 14.3361    | 1509.74      | 70176.7\n",
       "9        | 750004406 | 75101     | 2    | 751010203 | H        | Les Halles 3                | 55295.9 | 54574.5  | 55024.4  | Paris   | T1   | 751010203 | 751010203 | 75   | 851    | 75101 | Paris 1er Arrondissement | Les Halles 3                | H        | 00         | 1        | 8.99698  | 372.092       | nan            | 1405.89 | 836.911      | 59.5289       | 110.564    | 86.4571    | 14.6706    | 2.85019     | 214.542   | 15.2602    | 1915.56      | 89961.9\n",
       "10       | 750004404 | 75101     | 2    | 751010204 | H        | Les Halles 4                | 43697.1 | 38179.1  | 43578.7  | Paris   | T1   | 751010204 | 751010204 | 75   | 851    | 75101 | Paris 1er Arrondissement | Les Halles 4                | H        | 00         | 2        | 6.59916  | 350.386       | nan            | 1260.72 | 659.555      | 52.3157       | 143.562    | 98.0972    | 42.7924    | 5.4563      | 289.908   | 22.9954    | 1136.64      | 65986\n",
       "... (982 rows omitted)"
      ]
     },
     "execution_count": 100,
     "metadata": {},
     "output_type": "execute_result"
    }
   ],
   "source": [
    "soc_data_paris = soc_data.where(\"NOM_EPT\", are.equal_to(\"Paris\"))\n",
    "soc_data_paris"
   ]
  },
  {
   "cell_type": "markdown",
   "metadata": {},
   "source": [
    "---\n",
    "\n",
    "### Tables Essentials!\n",
    "\n",
    "For your reference, here's a table of useful `Table` functions:\n",
    "\n",
    "|Name|Example|Purpose|\n",
    "|-|-|-|\n",
    "|`Table`|`Table()`|Create an empty table, usually to extend with data|\n",
    "|`Table.read_table`|`Table.read_table(\"my_data.csv\")`|Create a table from a data file|\n",
    "|`with_columns`|`tbl = Table().with_columns(\"N\", np.arange(5), \"2*N\", np.arange(0, 10, 2))`|Create a copy of a table with more columns|\n",
    "|`column`|`tbl.column(\"N\")`|Create an array containing the elements of a column|\n",
    "|`sort`|`tbl.sort(\"N\")`|Create a copy of a table sorted by the values in a column|\n",
    "|`where`|`tbl.where(\"N\", are.above(2))`|Create a copy of a table with only the rows that match some *predicate*|\n",
    "|`num_rows`|`tbl.num_rows`|Compute the number of rows in a table|\n",
    "|`num_columns`|`tbl.num_columns`|Compute the number of columns in a table|\n",
    "|`select`|`tbl.select(\"N\")`|Create a copy of a table with only some of the columns|\n",
    "|`drop`|`tbl.drop(\"2*N\")`|Create a copy of a table without some of the columns|\n",
    "|`take`|`tbl.take(np.arange(0, 6, 2))`|Create a copy of the table with only the rows whose indices are in the given array|\n",
    "|`join`|`tbl1.join(\"shared_column_name\", tbl2)`|Join together two tables with a common column name\n",
    "|`are.equal_to()`|`tbl.where(\"SEX\", are.equal_to(0))`|find values equal to that indicated|\n",
    "|`are.not_equal_to()`|`tbl.where(\"SEX\", are.not_equal_to(0))` | find values not including the one indicated|\n",
    "|`are.above()`| `tbl.where(\"AGE\", are.above(30))` | find values greater to that indicated|\n",
    "|`are.below()`| `tbl.where(\"AGE\", are.below(40))` | find values less than that indicated |\n",
    "|`are.between()`| `tbl.where(\"SEX\", are.between(18, 60))` | find values between the two indicated |\n",
    "\n",
    "---"
   ]
  },
  {
   "cell_type": "markdown",
   "metadata": {},
   "source": [
    "## Visualizations \n",
    "\n",
    "Now that we have a manageable table we can start making visualizations! Due to the numerical nature of the census table above, let's first try a scatter plot. \n",
    "\n",
    "To create a scatter plot, we need to use the `scatter()` function. The general form is:\n",
    "\n",
    "```python\n",
    "table.scatter(\"column for x axis\", \"column for y axis\")\n",
    "```\n",
    "\n",
    "An example is shown below:"
   ]
  },
  {
   "cell_type": "markdown",
   "metadata": {},
   "source": [
    "We are going to first select the columns we want to compare. Now we will create a new table with more readable column names."
   ]
  },
  {
   "cell_type": "code",
   "execution_count": 101,
   "metadata": {
    "scrolled": true
   },
   "outputs": [
    {
     "data": {
      "text/html": [
       "<table border=\"1\" class=\"dataframe\">\n",
       "    <thead>\n",
       "        <tr>\n",
       "            <th>Household 1 or more car</th> <th>Fam 2 or more under 25</th>\n",
       "        </tr>\n",
       "    </thead>\n",
       "    <tbody>\n",
       "        <tr>\n",
       "            <td>193.142                </td> <td>42.0458               </td>\n",
       "        </tr>\n",
       "        <tr>\n",
       "            <td>45.0733                </td> <td>0                     </td>\n",
       "        </tr>\n",
       "        <tr>\n",
       "            <td>75.0171                </td> <td>7.99613               </td>\n",
       "        </tr>\n",
       "        <tr>\n",
       "            <td>3.54936                </td> <td>0                     </td>\n",
       "        </tr>\n",
       "        <tr>\n",
       "            <td>nan                    </td> <td>nan                   </td>\n",
       "        </tr>\n",
       "        <tr>\n",
       "            <td>nan                    </td> <td>nan                   </td>\n",
       "        </tr>\n",
       "        <tr>\n",
       "            <td>266.519                </td> <td>65.7735               </td>\n",
       "        </tr>\n",
       "        <tr>\n",
       "            <td>267.455                </td> <td>71.7292               </td>\n",
       "        </tr>\n",
       "        <tr>\n",
       "            <td>372.092                </td> <td>86.4571               </td>\n",
       "        </tr>\n",
       "        <tr>\n",
       "            <td>350.386                </td> <td>98.0972               </td>\n",
       "        </tr>\n",
       "    </tbody>\n",
       "</table>\n",
       "<p>... (982 rows omitted)</p>"
      ],
      "text/plain": [
       "Household 1 or more car | Fam 2 or more under 25\n",
       "193.142                 | 42.0458\n",
       "45.0733                 | 0\n",
       "75.0171                 | 7.99613\n",
       "3.54936                 | 0\n",
       "nan                     | nan\n",
       "nan                     | nan\n",
       "266.519                 | 65.7735\n",
       "267.455                 | 71.7292\n",
       "372.092                 | 86.4571\n",
       "350.386                 | 98.0972\n",
       "... (982 rows omitted)"
      ]
     },
     "execution_count": 101,
     "metadata": {},
     "output_type": "execute_result"
    }
   ],
   "source": [
    "new_soc_data = Table().with_column(\"Household 1 or more car\", soc_data_paris.column(\"P12_RP_VOIT1P\"),\n",
    "                                   \"Fam 2 or more under 25\", soc_data_paris.column(\"C12_NE24F2\"))\n",
    "new_soc_data"
   ]
  },
  {
   "cell_type": "markdown",
   "metadata": {},
   "source": [
    "This scatter plot is going to be the number of families with 2 or more children under 25 vs. the number of households with one or more cars."
   ]
  },
  {
   "cell_type": "code",
   "execution_count": 102,
   "metadata": {
    "scrolled": true
   },
   "outputs": [
    {
     "data": {
      "image/png": "[encoded data removed]",
      "text/plain": [
       "<Figure size 360x360 with 1 Axes>"
      ]
     },
     "metadata": {
      "needs_background": "light"
     },
     "output_type": "display_data"
    }
   ],
   "source": [
    "new_soc_data.scatter(\"Household 1 or more car\", \"Fam 2 or more under 25\")"
   ]
  },
  {
   "cell_type": "markdown",
   "metadata": {},
   "source": [
    "In this scatter plot, we can see that there is a positive association between the **households in Paris with 1 or more cars** and the **families in Paris with 2 or more children under 25 years old**. From visualizing the data, we can get a better sense of relationships and associations but we cannot get a clear causation without more evidence. This helps us make inferences in order to narrow down research."
   ]
  },
  {
   "cell_type": "code",
   "execution_count": 103,
   "metadata": {},
   "outputs": [
    {
     "data": {
      "text/html": [
       "<table border=\"1\" class=\"dataframe\">\n",
       "    <thead>\n",
       "        <tr>\n",
       "            <th>Household 1 or more car</th> <th>Fam 2 or more under 25</th> <th>Num immigrant</th> <th>Num ent 15 to 64</th>\n",
       "        </tr>\n",
       "    </thead>\n",
       "    <tbody>\n",
       "        <tr>\n",
       "            <td>193.142                </td> <td>42.0458               </td> <td>326.122      </td> <td>41.0005         </td>\n",
       "        </tr>\n",
       "        <tr>\n",
       "            <td>45.0733                </td> <td>0                     </td> <td>505.602      </td> <td>2.44385         </td>\n",
       "        </tr>\n",
       "        <tr>\n",
       "            <td>75.0171                </td> <td>7.99613               </td> <td>378.304      </td> <td>19.571          </td>\n",
       "        </tr>\n",
       "        <tr>\n",
       "            <td>3.54936                </td> <td>0                     </td> <td>513.75       </td> <td>0               </td>\n",
       "        </tr>\n",
       "        <tr>\n",
       "            <td>nan                    </td> <td>nan                   </td> <td>649.501      </td> <td>nan             </td>\n",
       "        </tr>\n",
       "        <tr>\n",
       "            <td>nan                    </td> <td>nan                   </td> <td>nan          </td> <td>nan             </td>\n",
       "        </tr>\n",
       "        <tr>\n",
       "            <td>266.519                </td> <td>65.7735               </td> <td>286.174      </td> <td>105.192         </td>\n",
       "        </tr>\n",
       "        <tr>\n",
       "            <td>267.455                </td> <td>71.7292               </td> <td>108.926      </td> <td>83.109          </td>\n",
       "        </tr>\n",
       "        <tr>\n",
       "            <td>372.092                </td> <td>86.4571               </td> <td>nan          </td> <td>108.081         </td>\n",
       "        </tr>\n",
       "        <tr>\n",
       "            <td>350.386                </td> <td>98.0972               </td> <td>nan          </td> <td>57.3445         </td>\n",
       "        </tr>\n",
       "    </tbody>\n",
       "</table>\n",
       "<p>... (982 rows omitted)</p>"
      ],
      "text/plain": [
       "Household 1 or more car | Fam 2 or more under 25 | Num immigrant | Num ent 15 to 64\n",
       "193.142                 | 42.0458                | 326.122       | 41.0005\n",
       "45.0733                 | 0                      | 505.602       | 2.44385\n",
       "75.0171                 | 7.99613                | 378.304       | 19.571\n",
       "3.54936                 | 0                      | 513.75        | 0\n",
       "nan                     | nan                    | 649.501       | nan\n",
       "nan                     | nan                    | nan           | nan\n",
       "266.519                 | 65.7735                | 286.174       | 105.192\n",
       "267.455                 | 71.7292                | 108.926       | 83.109\n",
       "372.092                 | 86.4571                | nan           | 108.081\n",
       "350.386                 | 98.0972                | nan           | 57.3445\n",
       "... (982 rows omitted)"
      ]
     },
     "execution_count": 103,
     "metadata": {},
     "output_type": "execute_result"
    }
   ],
   "source": [
    "act_dem = new_soc_data.with_column(\"Num immigrant\", dem_data_paris.column(\"P12_POP_IMM\"),\n",
    "                                   \"Num ent 15 to 64\", act_data_paris.column(\"C12_ACT1564_CS2\"))\n",
    "act_dem"
   ]
  },
  {
   "cell_type": "code",
   "execution_count": 104,
   "metadata": {},
   "outputs": [
    {
     "data": {
      "image/png": "[encoded data removed]",
      "text/plain": [
       "<Figure size 360x360 with 1 Axes>"
      ]
     },
     "metadata": {
      "needs_background": "light"
     },
     "output_type": "display_data"
    }
   ],
   "source": [
    "act_dem.scatter(\"Num ent 15 to 64\" ,\"Num immigrant\")"
   ]
  },
  {
   "cell_type": "markdown",
   "metadata": {
    "collapsed": true
   },
   "source": [
    "In this case, we do not see any clear association between the **the number of entrepreneurs between ages 15 to 64** and **the number of immigrants** in Paris. Sometimes we assume data will provide a certain result, but by visualizing it, we can get a more clear sense of the accuracy of our assumptions. "
   ]
  },
  {
   "cell_type": "code",
   "execution_count": 105,
   "metadata": {
    "scrolled": true
   },
   "outputs": [
    {
     "data": {
      "text/html": [
       "<table border=\"1\" class=\"dataframe\">\n",
       "    <thead>\n",
       "        <tr>\n",
       "            <th>Household 1 or more car</th> <th>Fam 2 or more under 25</th> <th>Num immigrant</th> <th>Num ent 15 to 64</th> <th>Num families 3 or more</th>\n",
       "        </tr>\n",
       "    </thead>\n",
       "    <tbody>\n",
       "        <tr>\n",
       "            <td>193.142                </td> <td>42.0458               </td> <td>326.122      </td> <td>41.0005         </td> <td>4.10618               </td>\n",
       "        </tr>\n",
       "        <tr>\n",
       "            <td>45.0733                </td> <td>0                     </td> <td>505.602      </td> <td>2.44385         </td> <td>2.54837               </td>\n",
       "        </tr>\n",
       "        <tr>\n",
       "            <td>75.0171                </td> <td>7.99613               </td> <td>378.304      </td> <td>19.571          </td> <td>8.88347               </td>\n",
       "        </tr>\n",
       "        <tr>\n",
       "            <td>3.54936                </td> <td>0                     </td> <td>513.75       </td> <td>0               </td> <td>0                     </td>\n",
       "        </tr>\n",
       "        <tr>\n",
       "            <td>nan                    </td> <td>nan                   </td> <td>649.501      </td> <td>nan             </td> <td>nan                   </td>\n",
       "        </tr>\n",
       "        <tr>\n",
       "            <td>nan                    </td> <td>nan                   </td> <td>nan          </td> <td>nan             </td> <td>nan                   </td>\n",
       "        </tr>\n",
       "        <tr>\n",
       "            <td>266.519                </td> <td>65.7735               </td> <td>286.174      </td> <td>105.192         </td> <td>15.9704               </td>\n",
       "        </tr>\n",
       "        <tr>\n",
       "            <td>267.455                </td> <td>71.7292               </td> <td>108.926      </td> <td>83.109          </td> <td>14.6645               </td>\n",
       "        </tr>\n",
       "        <tr>\n",
       "            <td>372.092                </td> <td>86.4571               </td> <td>nan          </td> <td>108.081         </td> <td>14.6706               </td>\n",
       "        </tr>\n",
       "        <tr>\n",
       "            <td>350.386                </td> <td>98.0972               </td> <td>nan          </td> <td>57.3445         </td> <td>42.7924               </td>\n",
       "        </tr>\n",
       "    </tbody>\n",
       "</table>\n",
       "<p>... (982 rows omitted)</p>"
      ],
      "text/plain": [
       "Household 1 or more car | Fam 2 or more under 25 | Num immigrant | Num ent 15 to 64 | Num families 3 or more\n",
       "193.142                 | 42.0458                | 326.122       | 41.0005          | 4.10618\n",
       "45.0733                 | 0                      | 505.602       | 2.44385          | 2.54837\n",
       "75.0171                 | 7.99613                | 378.304       | 19.571           | 8.88347\n",
       "3.54936                 | 0                      | 513.75        | 0                | 0\n",
       "nan                     | nan                    | 649.501       | nan              | nan\n",
       "nan                     | nan                    | nan           | nan              | nan\n",
       "266.519                 | 65.7735                | 286.174       | 105.192          | 15.9704\n",
       "267.455                 | 71.7292                | 108.926       | 83.109           | 14.6645\n",
       "372.092                 | 86.4571                | nan           | 108.081          | 14.6706\n",
       "350.386                 | 98.0972                | nan           | 57.3445          | 42.7924\n",
       "... (982 rows omitted)"
      ]
     },
     "execution_count": 105,
     "metadata": {},
     "output_type": "execute_result"
    }
   ],
   "source": [
    "imm_fam = act_dem.with_column(\"Num immigrant\", dem_data_paris.column(\"P12_POP_IMM\"),\n",
    "                                   \"Num families 3 or more\", soc_data_paris.column(\"C12_NE24F3\"))\n",
    "imm_fam"
   ]
  },
  {
   "cell_type": "markdown",
   "metadata": {},
   "source": [
    "Number of immigrants vs. number of families with 3 or more kids under 25"
   ]
  },
  {
   "cell_type": "code",
   "execution_count": 106,
   "metadata": {
    "scrolled": true
   },
   "outputs": [
    {
     "data": {
      "image/png": "[encoded data removed]",
      "text/plain": [
       "<Figure size 360x360 with 1 Axes>"
      ]
     },
     "metadata": {
      "needs_background": "light"
     },
     "output_type": "display_data"
    }
   ],
   "source": [
    "imm_fam.scatter(\"Num immigrant\", \"Num families 3 or more\")"
   ]
  },
  {
   "cell_type": "markdown",
   "metadata": {},
   "source": [
    "Similarly, there is no clear association between **the number of immigrants** and the **number of families with 3 or more children** in Paris. However, we can do further statistical testing in order to get more information. If you would like to learn more about this, it is taught in depth in Data 8 and other data science courses. "
   ]
  },
  {
   "cell_type": "markdown",
   "metadata": {},
   "source": [
    "## Defining Functions"
   ]
  },
  {
   "cell_type": "markdown",
   "metadata": {},
   "source": [
    "So far, we have gone over multiple table functions that can manipulate data sets. A large part of programming is defining functions so we can use it in other instances. The way we do this is with a \"def\" and \"return\" statement. See the example below!"
   ]
  },
  {
   "cell_type": "code",
   "execution_count": 107,
   "metadata": {},
   "outputs": [
    {
     "data": {
      "text/plain": [
       "5"
      ]
     },
     "execution_count": 107,
     "metadata": {},
     "output_type": "execute_result"
    }
   ],
   "source": [
    "def add(a, b):\n",
    "    return a + b\n",
    "\n",
    "sums = add(2, 3)\n",
    "sums"
   ]
  },
  {
   "cell_type": "markdown",
   "metadata": {},
   "source": [
    "---\n",
    "\n",
    "## Summary\n",
    "\n",
    "### You've learned a lot in this module! Let's look back on the key parts. \n",
    "\n",
    "- To import data from a .csv/.txt file, we write `Table.read_table(\"file_name\")`.\n",
    "\n",
    "- To create our own table, we write `Table( ).with_columns(\"Column Name\", array_name, . . .)` . \n",
    "\n",
    "- To count number of rows, we use `table_name.num_rows`.\n",
    "\n",
    "- To count number of columns, we use `table_name.num_columns`.\n",
    "\n",
    "- To create a new table with only the columns indicated in the parameters, we use `table_name.select(\"COLUMN NAME\", ...)`. \n",
    "\n",
    "- To create a new table without the columns indicated in the parameters, we use `table_name.drop(\"COLUMN NAME\", ...)`. \n",
    "\n",
    "- To create a table with only certain values, we can use `table_name.where(column_name, predicate)`.\n",
    "\n",
    "- To create a new table with indicated rows from the original table, we use `table_name.take([index 1, index 2, . . . ])`. Remember in Python indices start at 0!\n",
    "\n",
    "- To create a scatter plot, we use `table.scatter(column for x axis, column for y axis)`.\n",
    "\n",
    "- To create a line plot, we use `table.plot(x column, y column)`.\n",
    "\n",
    "- To make a bar graphs, we can use either `table.bar(x column, y column)` or `table.barh(x column, y column)`. \n",
    "\n",
    "- To make a histogram, we use `table.hist(x axis, bins(optional), unit(optional))`. \n",
    "\n",
    "- To merge tables, we use either `append` or `append_column`.\n",
    "\n",
    "- To merge two tables with a common column name we use the `join` method.\n",
    "\n",
    "---\n",
    "\n",
    "With just some simple code, we were able to do an incredible amount of data analysis! Play around with the examples until you feel comfortable with the content of this notebook. "
   ]
  },
  {
   "cell_type": "code",
   "execution_count": 108,
   "metadata": {},
   "outputs": [
    {
     "data": {
      "text/plain": [
       "'0.8.3'"
      ]
     },
     "execution_count": 108,
     "metadata": {},
     "output_type": "execute_result"
    }
   ],
   "source": [
    "# sanity check- should be 0.8.3\n",
    "folium.__version__"
   ]
  },
  {
   "cell_type": "code",
   "execution_count": 109,
   "metadata": {},
   "outputs": [
    {
     "name": "stdout",
     "output_type": "stream",
     "text": [
      " Final_Notebook.ipynb\t\t\t    IRIS_DEMOGRAPHIE-2.csv\r\n",
      " French43_AbdoulAziz_Graph_Version2.ipynb   IRIS_SOCIOLOGIE.csv\r\n",
      " French43_Graphs.ipynb\t\t\t    iris-sociologie.geojson\r\n",
      "'French-43 Notebook.ipynb'\t\t    map-test.ipynb\r\n",
      " Intro_w_new_graphs.ipynb\t\t    README.md\r\n",
      " IRIS_ACTIVITE.csv\t\t\t    Untitled.ipynb\r\n"
     ]
    }
   ],
   "source": [
    "!ls"
   ]
  },
  {
   "cell_type": "code",
   "execution_count": 110,
   "metadata": {
    "scrolled": true
   },
   "outputs": [
    {
     "data": {
      "text/html": [
       "<div>\n",
       "<style scoped>\n",
       "    .dataframe tbody tr th:only-of-type {\n",
       "        vertical-align: middle;\n",
       "    }\n",
       "\n",
       "    .dataframe tbody tr th {\n",
       "        vertical-align: top;\n",
       "    }\n",
       "\n",
       "    .dataframe thead th {\n",
       "        text-align: right;\n",
       "    }\n",
       "</style>\n",
       "<table border=\"1\" class=\"dataframe\">\n",
       "  <thead>\n",
       "    <tr style=\"text-align: right;\">\n",
       "      <th></th>\n",
       "      <th>N_SQ_IR</th>\n",
       "      <th>C_CAINSEE</th>\n",
       "      <th>N_QU</th>\n",
       "      <th>C_IR</th>\n",
       "      <th>C_TYPEIR</th>\n",
       "      <th>L_IR</th>\n",
       "      <th>M2_IP</th>\n",
       "      <th>M2_POP</th>\n",
       "      <th>M2_EMP</th>\n",
       "      <th>NOM_EPT</th>\n",
       "      <th>...</th>\n",
       "      <th>C12_ACTOCC15P_TCOM</th>\n",
       "      <th>TX12_ACTOCC15P_TCOM</th>\n",
       "      <th>C12_ACT1564_CS1</th>\n",
       "      <th>C12_ACT1564_CS2</th>\n",
       "      <th>C12_ACT1564_CS3</th>\n",
       "      <th>C12_ACT1564_CS4</th>\n",
       "      <th>C12_ACT1564_CS5</th>\n",
       "      <th>C12_ACT1564_CS6</th>\n",
       "      <th>SHAPE_Length</th>\n",
       "      <th>SHAPE_Area</th>\n",
       "    </tr>\n",
       "    <tr>\n",
       "      <th>OBJECTID</th>\n",
       "      <th></th>\n",
       "      <th></th>\n",
       "      <th></th>\n",
       "      <th></th>\n",
       "      <th></th>\n",
       "      <th></th>\n",
       "      <th></th>\n",
       "      <th></th>\n",
       "      <th></th>\n",
       "      <th></th>\n",
       "      <th></th>\n",
       "      <th></th>\n",
       "      <th></th>\n",
       "      <th></th>\n",
       "      <th></th>\n",
       "      <th></th>\n",
       "      <th></th>\n",
       "      <th></th>\n",
       "      <th></th>\n",
       "      <th></th>\n",
       "      <th></th>\n",
       "    </tr>\n",
       "  </thead>\n",
       "  <tbody>\n",
       "    <tr>\n",
       "      <th>1</th>\n",
       "      <td>750004511</td>\n",
       "      <td>75101</td>\n",
       "      <td>1.0</td>\n",
       "      <td>751010101</td>\n",
       "      <td>H</td>\n",
       "      <td>Saint-Germain L'Auxerrois 1</td>\n",
       "      <td>35395.547336</td>\n",
       "      <td>22312.521652</td>\n",
       "      <td>33459.689307</td>\n",
       "      <td>Paris</td>\n",
       "      <td>...</td>\n",
       "      <td>369.906283</td>\n",
       "      <td>72.230939</td>\n",
       "      <td>0.0</td>\n",
       "      <td>41.000451</td>\n",
       "      <td>315.837954</td>\n",
       "      <td>107.448657</td>\n",
       "      <td>73.229108</td>\n",
       "      <td>7.388138</td>\n",
       "      <td>1083.988805</td>\n",
       "      <td>64488.144150</td>\n",
       "    </tr>\n",
       "    <tr>\n",
       "      <th>2</th>\n",
       "      <td>750004559</td>\n",
       "      <td>75101</td>\n",
       "      <td>1.0</td>\n",
       "      <td>751010102</td>\n",
       "      <td>A</td>\n",
       "      <td>Saint-Germain l'Auxerrois 2</td>\n",
       "      <td>45971.817707</td>\n",
       "      <td>4728.312240</td>\n",
       "      <td>42976.731425</td>\n",
       "      <td>Paris</td>\n",
       "      <td>...</td>\n",
       "      <td>16.721081</td>\n",
       "      <td>32.235950</td>\n",
       "      <td>0.0</td>\n",
       "      <td>2.443847</td>\n",
       "      <td>28.898146</td>\n",
       "      <td>9.180503</td>\n",
       "      <td>5.335891</td>\n",
       "      <td>0.000000</td>\n",
       "      <td>1057.130418</td>\n",
       "      <td>61981.155490</td>\n",
       "    </tr>\n",
       "    <tr>\n",
       "      <th>3</th>\n",
       "      <td>750004497</td>\n",
       "      <td>75101</td>\n",
       "      <td>1.0</td>\n",
       "      <td>751010103</td>\n",
       "      <td>A</td>\n",
       "      <td>Saint-Germain L'Auxerrois 3</td>\n",
       "      <td>29246.550230</td>\n",
       "      <td>17775.054727</td>\n",
       "      <td>26203.942322</td>\n",
       "      <td>Paris</td>\n",
       "      <td>...</td>\n",
       "      <td>113.987490</td>\n",
       "      <td>56.742403</td>\n",
       "      <td>0.0</td>\n",
       "      <td>19.571038</td>\n",
       "      <td>100.646806</td>\n",
       "      <td>45.637212</td>\n",
       "      <td>25.518704</td>\n",
       "      <td>9.624016</td>\n",
       "      <td>877.312123</td>\n",
       "      <td>46058.484053</td>\n",
       "    </tr>\n",
       "    <tr>\n",
       "      <th>4</th>\n",
       "      <td>750004460</td>\n",
       "      <td>75101</td>\n",
       "      <td>1.0</td>\n",
       "      <td>751010104</td>\n",
       "      <td>A</td>\n",
       "      <td>Saint-Germain L'Auxerrois 4</td>\n",
       "      <td>181708.577351</td>\n",
       "      <td>26416.300456</td>\n",
       "      <td>109150.202714</td>\n",
       "      <td>Paris</td>\n",
       "      <td>...</td>\n",
       "      <td>3.549360</td>\n",
       "      <td>40.000000</td>\n",
       "      <td>0.0</td>\n",
       "      <td>0.000000</td>\n",
       "      <td>7.098720</td>\n",
       "      <td>2.662020</td>\n",
       "      <td>0.000000</td>\n",
       "      <td>0.000000</td>\n",
       "      <td>2052.894266</td>\n",
       "      <td>224788.065372</td>\n",
       "    </tr>\n",
       "    <tr>\n",
       "      <th>5</th>\n",
       "      <td>750004388</td>\n",
       "      <td>75101</td>\n",
       "      <td>1.0</td>\n",
       "      <td>751010105</td>\n",
       "      <td>D</td>\n",
       "      <td>Tuileries</td>\n",
       "      <td>225540.072976</td>\n",
       "      <td>11.599440</td>\n",
       "      <td>2736.060142</td>\n",
       "      <td>Paris</td>\n",
       "      <td>...</td>\n",
       "      <td>NaN</td>\n",
       "      <td>NaN</td>\n",
       "      <td>NaN</td>\n",
       "      <td>NaN</td>\n",
       "      <td>NaN</td>\n",
       "      <td>NaN</td>\n",
       "      <td>NaN</td>\n",
       "      <td>NaN</td>\n",
       "      <td>2112.531964</td>\n",
       "      <td>248874.958259</td>\n",
       "    </tr>\n",
       "  </tbody>\n",
       "</table>\n",
       "<p>5 rows × 38 columns</p>\n",
       "</div>"
      ],
      "text/plain": [
       "            N_SQ_IR  C_CAINSEE  N_QU       C_IR C_TYPEIR  \\\n",
       "OBJECTID                                                   \n",
       "1         750004511      75101   1.0  751010101        H   \n",
       "2         750004559      75101   1.0  751010102        A   \n",
       "3         750004497      75101   1.0  751010103        A   \n",
       "4         750004460      75101   1.0  751010104        A   \n",
       "5         750004388      75101   1.0  751010105        D   \n",
       "\n",
       "                                 L_IR          M2_IP        M2_POP  \\\n",
       "OBJECTID                                                             \n",
       "1         Saint-Germain L'Auxerrois 1   35395.547336  22312.521652   \n",
       "2         Saint-Germain l'Auxerrois 2   45971.817707   4728.312240   \n",
       "3         Saint-Germain L'Auxerrois 3   29246.550230  17775.054727   \n",
       "4         Saint-Germain L'Auxerrois 4  181708.577351  26416.300456   \n",
       "5                           Tuileries  225540.072976     11.599440   \n",
       "\n",
       "                 M2_EMP NOM_EPT      ...       C12_ACTOCC15P_TCOM  \\\n",
       "OBJECTID                             ...                            \n",
       "1          33459.689307   Paris      ...               369.906283   \n",
       "2          42976.731425   Paris      ...                16.721081   \n",
       "3          26203.942322   Paris      ...               113.987490   \n",
       "4         109150.202714   Paris      ...                 3.549360   \n",
       "5           2736.060142   Paris      ...                      NaN   \n",
       "\n",
       "         TX12_ACTOCC15P_TCOM  C12_ACT1564_CS1  C12_ACT1564_CS2  \\\n",
       "OBJECTID                                                         \n",
       "1                  72.230939              0.0        41.000451   \n",
       "2                  32.235950              0.0         2.443847   \n",
       "3                  56.742403              0.0        19.571038   \n",
       "4                  40.000000              0.0         0.000000   \n",
       "5                        NaN              NaN              NaN   \n",
       "\n",
       "          C12_ACT1564_CS3  C12_ACT1564_CS4 C12_ACT1564_CS5 C12_ACT1564_CS6  \\\n",
       "OBJECTID                                                                     \n",
       "1              315.837954       107.448657       73.229108        7.388138   \n",
       "2               28.898146         9.180503        5.335891        0.000000   \n",
       "3              100.646806        45.637212       25.518704        9.624016   \n",
       "4                7.098720         2.662020        0.000000        0.000000   \n",
       "5                     NaN              NaN             NaN             NaN   \n",
       "\n",
       "         SHAPE_Length     SHAPE_Area  \n",
       "OBJECTID                              \n",
       "1         1083.988805   64488.144150  \n",
       "2         1057.130418   61981.155490  \n",
       "3          877.312123   46058.484053  \n",
       "4         2052.894266  224788.065372  \n",
       "5         2112.531964  248874.958259  \n",
       "\n",
       "[5 rows x 38 columns]"
      ]
     },
     "execution_count": 110,
     "metadata": {},
     "output_type": "execute_result"
    }
   ],
   "source": [
    "# read in csv data\n",
    "activite = pd.read_csv(\"IRIS_ACTIVITE.csv\", index_col=0)\n",
    "activite.IRIS = activite.IRIS.astype(str) # convert IRIS var to str for correct joining with geojson\n",
    "activite.head()"
   ]
  },
  {
   "cell_type": "code",
   "execution_count": 111,
   "metadata": {
    "scrolled": true
   },
   "outputs": [
    {
     "data": {
      "text/html": [
       "<div>\n",
       "<style scoped>\n",
       "    .dataframe tbody tr th:only-of-type {\n",
       "        vertical-align: middle;\n",
       "    }\n",
       "\n",
       "    .dataframe tbody tr th {\n",
       "        vertical-align: top;\n",
       "    }\n",
       "\n",
       "    .dataframe thead th {\n",
       "        text-align: right;\n",
       "    }\n",
       "</style>\n",
       "<table border=\"1\" class=\"dataframe\">\n",
       "  <thead>\n",
       "    <tr style=\"text-align: right;\">\n",
       "      <th></th>\n",
       "      <th>objectid</th>\n",
       "      <th>c12_ne24f</th>\n",
       "      <th>iris_num</th>\n",
       "      <th>libcom</th>\n",
       "      <th>m2_pop</th>\n",
       "      <th>c_cainsee</th>\n",
       "      <th>m2_ip</th>\n",
       "      <th>c12_ne24f1</th>\n",
       "      <th>c12_ne24f2</th>\n",
       "      <th>c12_ne24f3</th>\n",
       "      <th>...</th>\n",
       "      <th>dep</th>\n",
       "      <th>ept</th>\n",
       "      <th>n_sq_ir</th>\n",
       "      <th>m2_emp</th>\n",
       "      <th>c12_men</th>\n",
       "      <th>c12_menpse</th>\n",
       "      <th>com</th>\n",
       "      <th>shape_leng</th>\n",
       "      <th>n_qu</th>\n",
       "      <th>geometry</th>\n",
       "    </tr>\n",
       "  </thead>\n",
       "  <tbody>\n",
       "    <tr>\n",
       "      <th>0</th>\n",
       "      <td>2037</td>\n",
       "      <td>430.184059</td>\n",
       "      <td>930510404</td>\n",
       "      <td>Noisy-le-Grand</td>\n",
       "      <td>120993.579796</td>\n",
       "      <td>93051</td>\n",
       "      <td>137986.307600</td>\n",
       "      <td>148.675220</td>\n",
       "      <td>190.210682</td>\n",
       "      <td>66.793863</td>\n",
       "      <td>...</td>\n",
       "      <td>93</td>\n",
       "      <td>T9</td>\n",
       "      <td>930000981</td>\n",
       "      <td>133162.713781</td>\n",
       "      <td>975.314552</td>\n",
       "      <td>287.794286</td>\n",
       "      <td>93051</td>\n",
       "      <td>1683.142955</td>\n",
       "      <td>NaN</td>\n",
       "      <td>POLYGON ((2.572773194497697 48.84586444134267,...</td>\n",
       "    </tr>\n",
       "    <tr>\n",
       "      <th>1</th>\n",
       "      <td>2041</td>\n",
       "      <td>511.742349</td>\n",
       "      <td>930510503</td>\n",
       "      <td>Noisy-le-Grand</td>\n",
       "      <td>286430.403739</td>\n",
       "      <td>93051</td>\n",
       "      <td>393649.312714</td>\n",
       "      <td>227.282832</td>\n",
       "      <td>191.407556</td>\n",
       "      <td>71.129112</td>\n",
       "      <td>...</td>\n",
       "      <td>93</td>\n",
       "      <td>T9</td>\n",
       "      <td>930003667</td>\n",
       "      <td>331823.948220</td>\n",
       "      <td>1080.387551</td>\n",
       "      <td>234.761237</td>\n",
       "      <td>93051</td>\n",
       "      <td>3075.628419</td>\n",
       "      <td>NaN</td>\n",
       "      <td>POLYGON ((2.573775302054818 48.83983035309186,...</td>\n",
       "    </tr>\n",
       "    <tr>\n",
       "      <th>2</th>\n",
       "      <td>2045</td>\n",
       "      <td>347.148124</td>\n",
       "      <td>930530104</td>\n",
       "      <td>Noisy-le-Sec</td>\n",
       "      <td>132735.121888</td>\n",
       "      <td>93053</td>\n",
       "      <td>143986.385543</td>\n",
       "      <td>189.523698</td>\n",
       "      <td>113.045499</td>\n",
       "      <td>34.016199</td>\n",
       "      <td>...</td>\n",
       "      <td>93</td>\n",
       "      <td>T8</td>\n",
       "      <td>930000989</td>\n",
       "      <td>143986.385543</td>\n",
       "      <td>1106.733656</td>\n",
       "      <td>444.188995</td>\n",
       "      <td>93053</td>\n",
       "      <td>1991.207560</td>\n",
       "      <td>NaN</td>\n",
       "      <td>POLYGON ((2.469557509958308 48.89393826496879,...</td>\n",
       "    </tr>\n",
       "    <tr>\n",
       "      <th>3</th>\n",
       "      <td>2046</td>\n",
       "      <td>449.647047</td>\n",
       "      <td>930530105</td>\n",
       "      <td>Noisy-le-Sec</td>\n",
       "      <td>104480.782672</td>\n",
       "      <td>93053</td>\n",
       "      <td>125715.037380</td>\n",
       "      <td>172.645048</td>\n",
       "      <td>166.811013</td>\n",
       "      <td>91.755655</td>\n",
       "      <td>...</td>\n",
       "      <td>93</td>\n",
       "      <td>T8</td>\n",
       "      <td>930000990</td>\n",
       "      <td>121669.843590</td>\n",
       "      <td>951.608874</td>\n",
       "      <td>287.454201</td>\n",
       "      <td>93053</td>\n",
       "      <td>1626.558112</td>\n",
       "      <td>NaN</td>\n",
       "      <td>POLYGON ((2.46101714440833 48.89320595854011, ...</td>\n",
       "    </tr>\n",
       "    <tr>\n",
       "      <th>4</th>\n",
       "      <td>2073</td>\n",
       "      <td>676.255070</td>\n",
       "      <td>930550701</td>\n",
       "      <td>Pantin</td>\n",
       "      <td>134165.605307</td>\n",
       "      <td>93055</td>\n",
       "      <td>219953.235720</td>\n",
       "      <td>344.383860</td>\n",
       "      <td>266.850632</td>\n",
       "      <td>55.000554</td>\n",
       "      <td>...</td>\n",
       "      <td>93</td>\n",
       "      <td>T8</td>\n",
       "      <td>930002374</td>\n",
       "      <td>208554.795192</td>\n",
       "      <td>1998.140953</td>\n",
       "      <td>818.331324</td>\n",
       "      <td>93055</td>\n",
       "      <td>3464.308809</td>\n",
       "      <td>NaN</td>\n",
       "      <td>POLYGON ((2.409715918366365 48.89499550371073,...</td>\n",
       "    </tr>\n",
       "  </tbody>\n",
       "</table>\n",
       "<p>5 rows × 36 columns</p>\n",
       "</div>"
      ],
      "text/plain": [
       "   objectid   c12_ne24f   iris_num          libcom         m2_pop  c_cainsee  \\\n",
       "0      2037  430.184059  930510404  Noisy-le-Grand  120993.579796      93051   \n",
       "1      2041  511.742349  930510503  Noisy-le-Grand  286430.403739      93051   \n",
       "2      2045  347.148124  930530104    Noisy-le-Sec  132735.121888      93053   \n",
       "3      2046  449.647047  930530105    Noisy-le-Sec  104480.782672      93053   \n",
       "4      2073  676.255070  930550701          Pantin  134165.605307      93055   \n",
       "\n",
       "           m2_ip  c12_ne24f1  c12_ne24f2  c12_ne24f3  \\\n",
       "0  137986.307600  148.675220  190.210682   66.793863   \n",
       "1  393649.312714  227.282832  191.407556   71.129112   \n",
       "2  143986.385543  189.523698  113.045499   34.016199   \n",
       "3  125715.037380  172.645048  166.811013   91.755655   \n",
       "4  219953.235720  344.383860  266.850632   55.000554   \n",
       "\n",
       "                         ...                          dep ept    n_sq_ir  \\\n",
       "0                        ...                           93  T9  930000981   \n",
       "1                        ...                           93  T9  930003667   \n",
       "2                        ...                           93  T8  930000989   \n",
       "3                        ...                           93  T8  930000990   \n",
       "4                        ...                           93  T8  930002374   \n",
       "\n",
       "          m2_emp      c12_men  c12_menpse    com   shape_leng n_qu  \\\n",
       "0  133162.713781   975.314552  287.794286  93051  1683.142955  NaN   \n",
       "1  331823.948220  1080.387551  234.761237  93051  3075.628419  NaN   \n",
       "2  143986.385543  1106.733656  444.188995  93053  1991.207560  NaN   \n",
       "3  121669.843590   951.608874  287.454201  93053  1626.558112  NaN   \n",
       "4  208554.795192  1998.140953  818.331324  93055  3464.308809  NaN   \n",
       "\n",
       "                                            geometry  \n",
       "0  POLYGON ((2.572773194497697 48.84586444134267,...  \n",
       "1  POLYGON ((2.573775302054818 48.83983035309186,...  \n",
       "2  POLYGON ((2.469557509958308 48.89393826496879,...  \n",
       "3  POLYGON ((2.46101714440833 48.89320595854011, ...  \n",
       "4  POLYGON ((2.409715918366365 48.89499550371073,...  \n",
       "\n",
       "[5 rows x 36 columns]"
      ]
     },
     "execution_count": 111,
     "metadata": {},
     "output_type": "execute_result"
    }
   ],
   "source": [
    "geo_path = \"iris-sociologie.geojson\"\n",
    "\n",
    "# load geojson\n",
    "g = geojson.load(open(\"iris-sociologie.geojson\"))\n",
    "\n",
    "# load geojson in GeoDataFrame (for EDA)\n",
    "geo = gpd.read_file(geo_path)\n",
    "geo.head()"
   ]
  },
  {
   "cell_type": "code",
   "execution_count": 112,
   "metadata": {
    "scrolled": false
   },
   "outputs": [
    {
     "ename": "FileNotFoundError",
     "evalue": "[Errno 2] No such file or directory: 'images/simple-map.html'",
     "output_type": "error",
     "traceback": [
      "\u001b[0;31m---------------------------------------------------------------------------\u001b[0m",
      "\u001b[0;31mFileNotFoundError\u001b[0m                         Traceback (most recent call last)",
      "\u001b[0;32m<ipython-input-112-4ac1e5076382>\u001b[0m in \u001b[0;36m<module>\u001b[0;34m\u001b[0m\n\u001b[1;32m      4\u001b[0m \u001b[0mfolium\u001b[0m\u001b[0;34m.\u001b[0m\u001b[0mGeoJson\u001b[0m\u001b[0;34m(\u001b[0m\u001b[0mg\u001b[0m\u001b[0;34m)\u001b[0m\u001b[0;34m.\u001b[0m\u001b[0madd_to\u001b[0m\u001b[0;34m(\u001b[0m\u001b[0mm1\u001b[0m\u001b[0;34m)\u001b[0m\u001b[0;34m\u001b[0m\u001b[0;34m\u001b[0m\u001b[0m\n\u001b[1;32m      5\u001b[0m \u001b[0;34m\u001b[0m\u001b[0m\n\u001b[0;32m----> 6\u001b[0;31m \u001b[0mm1\u001b[0m\u001b[0;34m.\u001b[0m\u001b[0msave\u001b[0m\u001b[0;34m(\u001b[0m\u001b[0;34m'images/simple-map.html'\u001b[0m\u001b[0;34m)\u001b[0m \u001b[0;31m# save map to html file (Google Chrome bug workaround)\u001b[0m\u001b[0;34m\u001b[0m\u001b[0;34m\u001b[0m\u001b[0m\n\u001b[0m\u001b[1;32m      7\u001b[0m \u001b[0mIFrame\u001b[0m\u001b[0;34m(\u001b[0m\u001b[0;34m'images/simple-map.html'\u001b[0m\u001b[0;34m,\u001b[0m \u001b[0mwidth\u001b[0m\u001b[0;34m=\u001b[0m\u001b[0;34m'100%'\u001b[0m\u001b[0;34m,\u001b[0m \u001b[0mheight\u001b[0m\u001b[0;34m=\u001b[0m\u001b[0;34m'750px'\u001b[0m\u001b[0;34m)\u001b[0m \u001b[0;31m# display saved html file\u001b[0m\u001b[0;34m\u001b[0m\u001b[0;34m\u001b[0m\u001b[0m\n\u001b[1;32m      8\u001b[0m \u001b[0;34m\u001b[0m\u001b[0m\n",
      "\u001b[0;32m/srv/app/venv/lib/python3.6/site-packages/branca/element.py\u001b[0m in \u001b[0;36msave\u001b[0;34m(self, outfile, close_file, **kwargs)\u001b[0m\n\u001b[1;32m    162\u001b[0m         \"\"\"\n\u001b[1;32m    163\u001b[0m         \u001b[0;32mif\u001b[0m \u001b[0misinstance\u001b[0m\u001b[0;34m(\u001b[0m\u001b[0moutfile\u001b[0m\u001b[0;34m,\u001b[0m \u001b[0mtext_type\u001b[0m\u001b[0;34m)\u001b[0m \u001b[0;32mor\u001b[0m \u001b[0misinstance\u001b[0m\u001b[0;34m(\u001b[0m\u001b[0moutfile\u001b[0m\u001b[0;34m,\u001b[0m \u001b[0mbinary_type\u001b[0m\u001b[0;34m)\u001b[0m\u001b[0;34m:\u001b[0m\u001b[0;34m\u001b[0m\u001b[0;34m\u001b[0m\u001b[0m\n\u001b[0;32m--> 164\u001b[0;31m             \u001b[0mfid\u001b[0m \u001b[0;34m=\u001b[0m \u001b[0mopen\u001b[0m\u001b[0;34m(\u001b[0m\u001b[0moutfile\u001b[0m\u001b[0;34m,\u001b[0m \u001b[0;34m'wb'\u001b[0m\u001b[0;34m)\u001b[0m\u001b[0;34m\u001b[0m\u001b[0;34m\u001b[0m\u001b[0m\n\u001b[0m\u001b[1;32m    165\u001b[0m         \u001b[0;32melse\u001b[0m\u001b[0;34m:\u001b[0m\u001b[0;34m\u001b[0m\u001b[0;34m\u001b[0m\u001b[0m\n\u001b[1;32m    166\u001b[0m             \u001b[0mfid\u001b[0m \u001b[0;34m=\u001b[0m \u001b[0moutfile\u001b[0m\u001b[0;34m\u001b[0m\u001b[0;34m\u001b[0m\u001b[0m\n",
      "\u001b[0;31mFileNotFoundError\u001b[0m: [Errno 2] No such file or directory: 'images/simple-map.html'"
     ]
    }
   ],
   "source": [
    "# create simple map with geojson outlines of arondissmonts\n",
    "m1 = folium.Map(location=[48.8, 2.3], zoom_start=11)\n",
    "\n",
    "folium.GeoJson(g).add_to(m1)\n",
    "\n",
    "m1.save('images/simple-map.html') # save map to html file (Google Chrome bug workaround)\n",
    "IFrame('images/simple-map.html', width='100%', height='750px') # display saved html file\n",
    "\n",
    "# click on the whitespace to the left of the map to toggle scrolling\n"
   ]
  },
  {
   "cell_type": "code",
   "execution_count": null,
   "metadata": {
    "scrolled": false
   },
   "outputs": [],
   "source": [
    "# list of column names for choropleth reference\n",
    "activite.columns"
   ]
  },
  {
   "cell_type": "markdown",
   "metadata": {},
   "source": [
    "![title](images/pic2.png)"
   ]
  },
  {
   "cell_type": "markdown",
   "metadata": {},
   "source": [
    "Now let's see what the results would look like using our data set"
   ]
  },
  {
   "cell_type": "code",
   "execution_count": null,
   "metadata": {
    "scrolled": false
   },
   "outputs": [],
   "source": [
    "# create a choropleth overlay for C12_MEN variable\n",
    "m2 = folium.Map(location=[48.8, 2.3], zoom_start=11)\n",
    "\n",
    "folium.Choropleth(\n",
    " geo_data=g, # geojson \n",
    " data=activite, # df\n",
    " columns=['IRIS', 'C12_ACT1564_CS5'],   # first col must be IRIS, second col sets colors for overlay\n",
    " key_on='feature.properties.iris',   # key to match csv data with geojson areas\n",
    " fill_color='YlOrRd').add_to(m2)\n",
    "\n",
    "folium.LayerControl().add_to(m2)\n",
    "\n",
    "m2.save('images/choropleth-map.html') # save map to html file\n",
    "IFrame('images/choropleth-map.html', width='100%', height='750px') # display saved html file\n",
    "\n",
    "# click on the whitespace to the left of the cell to toggle scrolling\n"
   ]
  },
  {
   "cell_type": "markdown",
   "metadata": {},
   "source": [
    "![title](images/pic1.png)"
   ]
  },
  {
   "cell_type": "code",
   "execution_count": 76,
   "metadata": {},
   "outputs": [
    {
     "ename": "FileNotFoundError",
     "evalue": "[Errno 2] No such file or directory: 'images/choropleth-map.html'",
     "output_type": "error",
     "traceback": [
      "\u001b[0;31m---------------------------------------------------------------------------\u001b[0m",
      "\u001b[0;31mFileNotFoundError\u001b[0m                         Traceback (most recent call last)",
      "\u001b[0;32m<ipython-input-76-52ab57cff6d8>\u001b[0m in \u001b[0;36m<module>\u001b[0;34m\u001b[0m\n\u001b[1;32m     11\u001b[0m \u001b[0mfolium\u001b[0m\u001b[0;34m.\u001b[0m\u001b[0mLayerControl\u001b[0m\u001b[0;34m(\u001b[0m\u001b[0;34m)\u001b[0m\u001b[0;34m.\u001b[0m\u001b[0madd_to\u001b[0m\u001b[0;34m(\u001b[0m\u001b[0mm2\u001b[0m\u001b[0;34m)\u001b[0m\u001b[0;34m\u001b[0m\u001b[0;34m\u001b[0m\u001b[0m\n\u001b[1;32m     12\u001b[0m \u001b[0;34m\u001b[0m\u001b[0m\n\u001b[0;32m---> 13\u001b[0;31m \u001b[0mm2\u001b[0m\u001b[0;34m.\u001b[0m\u001b[0msave\u001b[0m\u001b[0;34m(\u001b[0m\u001b[0;34m'images/choropleth-map.html'\u001b[0m\u001b[0;34m)\u001b[0m \u001b[0;31m# save map to html file\u001b[0m\u001b[0;34m\u001b[0m\u001b[0;34m\u001b[0m\u001b[0m\n\u001b[0m\u001b[1;32m     14\u001b[0m \u001b[0mIFrame\u001b[0m\u001b[0;34m(\u001b[0m\u001b[0;34m'images/choropleth-map.html'\u001b[0m\u001b[0;34m,\u001b[0m \u001b[0mwidth\u001b[0m\u001b[0;34m=\u001b[0m\u001b[0;34m'100%'\u001b[0m\u001b[0;34m,\u001b[0m \u001b[0mheight\u001b[0m\u001b[0;34m=\u001b[0m\u001b[0;34m'750px'\u001b[0m\u001b[0;34m)\u001b[0m \u001b[0;31m# display saved html file\u001b[0m\u001b[0;34m\u001b[0m\u001b[0;34m\u001b[0m\u001b[0m\n\u001b[1;32m     15\u001b[0m \u001b[0;34m\u001b[0m\u001b[0m\n",
      "\u001b[0;32m/srv/app/venv/lib/python3.6/site-packages/branca/element.py\u001b[0m in \u001b[0;36msave\u001b[0;34m(self, outfile, close_file, **kwargs)\u001b[0m\n\u001b[1;32m    162\u001b[0m         \"\"\"\n\u001b[1;32m    163\u001b[0m         \u001b[0;32mif\u001b[0m \u001b[0misinstance\u001b[0m\u001b[0;34m(\u001b[0m\u001b[0moutfile\u001b[0m\u001b[0;34m,\u001b[0m \u001b[0mtext_type\u001b[0m\u001b[0;34m)\u001b[0m \u001b[0;32mor\u001b[0m \u001b[0misinstance\u001b[0m\u001b[0;34m(\u001b[0m\u001b[0moutfile\u001b[0m\u001b[0;34m,\u001b[0m \u001b[0mbinary_type\u001b[0m\u001b[0;34m)\u001b[0m\u001b[0;34m:\u001b[0m\u001b[0;34m\u001b[0m\u001b[0;34m\u001b[0m\u001b[0m\n\u001b[0;32m--> 164\u001b[0;31m             \u001b[0mfid\u001b[0m \u001b[0;34m=\u001b[0m \u001b[0mopen\u001b[0m\u001b[0;34m(\u001b[0m\u001b[0moutfile\u001b[0m\u001b[0;34m,\u001b[0m \u001b[0;34m'wb'\u001b[0m\u001b[0;34m)\u001b[0m\u001b[0;34m\u001b[0m\u001b[0;34m\u001b[0m\u001b[0m\n\u001b[0m\u001b[1;32m    165\u001b[0m         \u001b[0;32melse\u001b[0m\u001b[0;34m:\u001b[0m\u001b[0;34m\u001b[0m\u001b[0;34m\u001b[0m\u001b[0m\n\u001b[1;32m    166\u001b[0m             \u001b[0mfid\u001b[0m \u001b[0;34m=\u001b[0m \u001b[0moutfile\u001b[0m\u001b[0;34m\u001b[0m\u001b[0;34m\u001b[0m\u001b[0m\n",
      "\u001b[0;31mFileNotFoundError\u001b[0m: [Errno 2] No such file or directory: 'images/choropleth-map.html'"
     ]
    }
   ],
   "source": [
    "# create a choropleth overlay for C12_MEN variable\n",
    "m2 = folium.Map(location=[48.8, 2.3], zoom_start=11)\n",
    "\n",
    "folium.Choropleth(\n",
    " geo_data=g, # geojson \n",
    " data=activite, # df\n",
    " columns=['IRIS', 'C12_ACT1564_CS3'],   # first col must be IRIS, second col sets colors for overlay\n",
    " key_on='feature.properties.iris',   # key to match csv data with geojson areas\n",
    " fill_color='BuPu').add_to(m2)\n",
    "\n",
    "folium.LayerControl().add_to(m2)\n",
    "\n",
    "m2.save('images/choropleth-map.html') # save map to html file\n",
    "IFrame('images/choropleth-map.html', width='100%', height='750px') # display saved html file\n",
    "\n",
    "# click on the whitespace to the left of the cell to toggle scrolling\n"
   ]
  },
  {
   "cell_type": "code",
   "execution_count": null,
   "metadata": {
    "collapsed": true
   },
   "outputs": [],
   "source": []
  }
 ],
 "metadata": {
  "anaconda-cloud": {},
  "kernelspec": {
   "display_name": "Python 3",
   "language": "python",
   "name": "python3"
  },
  "language_info": {
   "codemirror_mode": {
    "name": "ipython",
    "version": 3
   },
   "file_extension": ".py",
   "mimetype": "text/x-python",
   "name": "python",
   "nbconvert_exporter": "python",
   "pygments_lexer": "ipython3",
   "version": "3.6.7"
  }
 },
 "nbformat": 4,
 "nbformat_minor": 2
}
