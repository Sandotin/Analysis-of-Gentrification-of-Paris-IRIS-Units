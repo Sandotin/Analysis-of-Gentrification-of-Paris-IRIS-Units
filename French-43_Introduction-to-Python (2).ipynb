{
 "cells": [
  {
   "cell_type": "markdown",
   "metadata": {},
   "source": [
    "# French 43 - Introduction to Jupyter Notebook"
   ]
  },
  {
   "cell_type": "markdown",
   "metadata": {},
   "source": [
    "## The Jupyter Notebook\n",
    "\n",
    "First of all, note that this page is divided into what are called *cells*. You can navigate cells by clicking on them or by using the up and down arrows. Cells will be highlighted as you navigate them.\n",
    "\n",
    "### Text cells\n",
    "\n",
    "Text cells (like this one) can be edited by double-clicking on them. They're written in a simple format called [Markdown](http://daringfireball.net/projects/markdown/syntax) to add formatting and section headings.  You don't need to learn Markdown, but know the difference between Text Cells and Code Cells."
   ]
  },
  {
   "cell_type": "markdown",
   "metadata": {},
   "source": [
    "### Code cells\n",
    "Other cells contain code in the Python 3 language. Don't worry -- we'll show you everything you need to know to succeed in this part of the class. \n",
    "\n",
    "The fundamental building block of Python code is an **expression**. Cells can contain multiple lines with multiple expressions.  We'll explain what exactly we mean by \"expressions\" in just a moment: first, let's learn how to \"run\" cells."
   ]
  },
  {
   "cell_type": "markdown",
   "metadata": {},
   "source": [
    "### Running cells\n",
    "\n",
    "\"Running a cell\" is equivalent to pressing \"Enter\" on a calculator once you've typed in the expression you want to evaluate: it produces an **output**. When you run a text cell, it outputs clean, organized writing. When you run a code cell, it **computes** all of the expressions you want to evaluate, and can **output** the result of the computation.\n",
    "\n",
    "<p></p>\n",
    "\n",
    "<div class=\"alert alert-info\">\n",
    "To run the code in a code cell, first click on that cell to activate it.  It'll be highlighted with a little green or blue rectangle.  Next, you can either press the <code><b>▶|</b> Run </code> button above or press <b><code>Shift + Return</code></b> or <b><code>Shift + Enter</code></b>. This will run the current cell and select the next one.\n",
    "</div>\n",
    "\n",
    "Text cells are useful for taking notes and keeping your notebook organized, but your data analysis will be done in code cells. We will focus on code cells for the rest of the class."
   ]
  },
  {
   "cell_type": "code",
   "execution_count": null,
   "metadata": {},
   "outputs": [],
   "source": [
    "print(\"Hello world!\")"
   ]
  },
  {
   "cell_type": "markdown",
   "metadata": {},
   "source": [
    "### Expressions\n",
    "\n",
    "An expression is a combination of numbers, variables, operators, and/or other Python elements that the language interprets and acts upon. Expressions act as a set of **instructions** to be followed, with the goal of generating specific outcomes.\n",
    "\n",
    "You can start by thinking of code cells as really smart calculators that computes these expressions. For instance, code cells can evaluate simple arithmetic:"
   ]
  },
  {
   "cell_type": "code",
   "execution_count": 3,
   "metadata": {},
   "outputs": [
    {
     "data": {
      "text/plain": [
       "20"
      ]
     },
     "execution_count": 3,
     "metadata": {},
     "output_type": "execute_result"
    }
   ],
   "source": [
    "#Run me!\n",
    "#This is an expression\n",
    "10 + 10"
   ]
  },
  {
   "cell_type": "code",
   "execution_count": 1,
   "metadata": {},
   "outputs": [
    {
     "data": {
      "text/plain": [
       "4.0"
      ]
     },
     "execution_count": 1,
     "metadata": {},
     "output_type": "execute_result"
    }
   ],
   "source": [
    "#Run me too!\n",
    "#This is another expression\n",
    "(10 + 10) / 5"
   ]
  },
  {
   "cell_type": "markdown",
   "metadata": {},
   "source": [
    "### Variables!\n",
    "\n",
    "But the point of coding is that you can save these outputs to be used later without computing it again. So, we set **variables** to these values! Just like in your standard algebra class, you can set the letter `x` to be 10. You can set letter `y` to be 5. You can add variables `x` and `y` to get 15."
   ]
  },
  {
   "cell_type": "code",
   "execution_count": null,
   "metadata": {},
   "outputs": [],
   "source": [
    "#this won't output anything: you're just telling the cell to set x to 10\n",
    "x = 10"
   ]
  },
  {
   "cell_type": "code",
   "execution_count": null,
   "metadata": {},
   "outputs": [],
   "source": [
    "y = 5"
   ]
  },
  {
   "cell_type": "code",
   "execution_count": 3,
   "metadata": {},
   "outputs": [
    {
     "data": {
      "text/plain": [
       "11"
      ]
     },
     "execution_count": 3,
     "metadata": {},
     "output_type": "execute_result"
    }
   ],
   "source": [
    "#This will output the answer to the addition: you're asking it to compute the number\n",
    "x + y"
   ]
  },
  {
   "cell_type": "markdown",
   "metadata": {},
   "source": [
    "You can then **redefine** variables you have used before to hold **new** values; in other words, it replaces the old values. If you run the following cell, `x` and `y` will now hold different values:"
   ]
  },
  {
   "cell_type": "code",
   "execution_count": 2,
   "metadata": {},
   "outputs": [
    {
     "data": {
      "text/plain": [
       "11"
      ]
     },
     "execution_count": 2,
     "metadata": {},
     "output_type": "execute_result"
    }
   ],
   "source": [
    "#You can put all of the different expressions above into one code cell.\n",
    "#When you run this code cell, everything will be evaluated in order, from top to bottom.\n",
    "x = 3\n",
    "y = 8\n",
    "x+y"
   ]
  },
  {
   "cell_type": "code",
   "execution_count": 6,
   "metadata": {},
   "outputs": [
    {
     "data": {
      "text/plain": [
       "4"
      ]
     },
     "execution_count": 6,
     "metadata": {},
     "output_type": "execute_result"
    }
   ],
   "source": [
    "#Adding the variable name on the line below prints it out!\n",
    "test = 4\n",
    "test"
   ]
  },
  {
   "cell_type": "code",
   "execution_count": 7,
   "metadata": {},
   "outputs": [
    {
     "data": {
      "text/plain": [
       "234"
      ]
     },
     "execution_count": 7,
     "metadata": {},
     "output_type": "execute_result"
    }
   ],
   "source": [
    "another_test = 234\n",
    "another_test"
   ]
  },
  {
   "cell_type": "markdown",
   "metadata": {},
   "source": [
    "Variables are assigned to some value. This means everything to the right side of the equals sign is **first evaluated** and **then saved** as the variable:"
   ]
  },
  {
   "cell_type": "code",
   "execution_count": 8,
   "metadata": {},
   "outputs": [
    {
     "data": {
      "text/plain": [
       "12"
      ]
     },
     "execution_count": 8,
     "metadata": {},
     "output_type": "execute_result"
    }
   ],
   "source": [
    "#Notice y is still the same value as before\n",
    "# test + y is evaluated to 12\n",
    "# 12 is set to the varible answer_to_above\n",
    "\n",
    "answer_to_above = test+y\n",
    "answer_to_above"
   ]
  },
  {
   "cell_type": "markdown",
   "metadata": {},
   "source": [
    "**You Try:** What should be the answer to \"2 times `test` plus `answer_to_above`\"? \n",
    "\n",
    "*Hint:* the astrisk symbol \\* is used for the multiplication sign"
   ]
  },
  {
   "cell_type": "code",
   "execution_count": 10,
   "metadata": {},
   "outputs": [],
   "source": [
    "#Calculate your answer in this code block\n"
   ]
  },
  {
   "cell_type": "markdown",
   "metadata": {},
   "source": [
    "Does your answer make sense?"
   ]
  },
  {
   "cell_type": "markdown",
   "metadata": {},
   "source": [
    "### Variables vs. Strings\n",
    "We have to be careful when working with words in a code cell. Words carry different meanings and uses when they are **in quotes** and **not in quotes**.\n",
    "\n",
    "When words are in quotes, they often signify some sort of **identification**. In this lab (and future notebooks), you'll use identification to specify **column names of tables**. In quotes, words have meaning: Python understands these as the name of something. If a table has a column named \"Gender\", we can ask the notebook to find the column named \"Gender\" and the data contained in this column. Therefore, these quotations are **values**, just like numbers. In Python, this value type is called a **string**."
   ]
  },
  {
   "cell_type": "code",
   "execution_count": null,
   "metadata": {},
   "outputs": [],
   "source": [
    "#I output a number\n",
    "123"
   ]
  },
  {
   "cell_type": "code",
   "execution_count": null,
   "metadata": {},
   "outputs": [],
   "source": [
    "#I output a string\n",
    "\"Woohoo\""
   ]
  },
  {
   "cell_type": "markdown",
   "metadata": {},
   "source": [
    "What if we try to type a random word in a code cell **without** putting it in quotes?"
   ]
  },
  {
   "cell_type": "code",
   "execution_count": null,
   "metadata": {},
   "outputs": [],
   "source": [
    "#This will Error!\n",
    "Woohoo"
   ]
  },
  {
   "cell_type": "markdown",
   "metadata": {},
   "source": [
    "It throws out an error! Why? Because code cells think in terms of math, and any word **not** in quotes is considered to be a **variable** that stores information or means something. In this notebook, we haven't told it what `Woohoo` means -- it's just an empty variable holding no information, so it complains and says \"I don't know what `Woohoo` is supposed to be.\" It's like taking an algebra exam and telling your teacher: \"The answer is `x`\". Your teacher would write back, \"...and what, exactly, is `x`?\" That's essentially what the notebook is saying."
   ]
  },
  {
   "cell_type": "markdown",
   "metadata": {},
   "source": [
    "Now run this cell to `import` some code we'll use today, nothing will `print` out, don't worry!"
   ]
  },
  {
   "cell_type": "code",
   "execution_count": 11,
   "metadata": {},
   "outputs": [],
   "source": [
    "import numpy as np\n",
    "import matplotlib.pyplot as plt\n",
    "from datascience import *\n",
    "%matplotlib inline \n",
    "plt.style.use(\"fivethirtyeight\")"
   ]
  },
  {
   "cell_type": "markdown",
   "metadata": {},
   "source": [
    "### Importing\n",
    "\n",
    "In data analytics, there is almost always a file holding your data that already exists. There are thousands of databases online that contain information on topics from all domains. In general, to import data from a file, we write:\n",
    "\n",
    "```python\n",
    "Table.read_table(\"file_name\")\n",
    "```\n",
    "\n",
    "Most often, these file names end in `.csv` to show the data format. `.csv` format is popular for spreadsheets and can be imported/exported from programs such as Microsoft Excel, OpenOffice Calc, or Google spreadsheets. \n",
    " \n",
    "An example is shown below using [IRIS_SOCIOLOGIE](http://opendata.apur.org/datasets/iris-sociologie/data)"
   ]
  },
  {
   "cell_type": "code",
   "execution_count": 12,
   "metadata": {},
   "outputs": [
    {
     "data": {
      "text/html": [
       "<table border=\"1\" class=\"dataframe\">\n",
       "    <thead>\n",
       "        <tr>\n",
       "            <th>OBJECTID</th> <th>N_SQ_IR</th> <th>C_CAINSEE</th> <th>N_QU</th> <th>C_IR</th> <th>C_TYPEIR</th> <th>L_IR</th> <th>M2_IP</th> <th>M2_POP</th> <th>M2_EMP</th> <th>NOM_EPT</th> <th>EPT</th> <th>IRIS</th> <th>IRIS_NUM</th> <th>DEP</th> <th>UU2010</th> <th>COM</th> <th>LIBCOM</th> <th>LIBIRIS</th> <th>TYP_IRIS</th> <th>MODIF_IRIS</th> <th>LAB_IRIS</th> <th>SHAPE_ha</th> <th>P12_RP_VOIT1P</th> <th>TX12_RP_VOIT1P</th> <th>C12_MEN</th> <th>C12_MENPSEUL</th> <th>TX12_MENPSEUL</th> <th>C12_NE24F1</th> <th>C12_NE24F2</th> <th>C12_NE24F3</th> <th>C12_NE24F4P</th> <th>C12_NE24F</th> <th>TX12_NE24F</th> <th>SHAPE_Length</th> <th>SHAPE_Area</th>\n",
       "        </tr>\n",
       "    </thead>\n",
       "    <tbody>\n",
       "        <tr>\n",
       "            <td>1       </td> <td>750004511</td> <td>75101    </td> <td>1   </td> <td>751010101</td> <td>H       </td> <td>Saint-Germain L'Auxerrois 1</td> <td>35395.5</td> <td>22312.5 </td> <td>33459.7 </td> <td>Paris  </td> <td>T1  </td> <td>751010101</td> <td>751010101</td> <td>75  </td> <td>851   </td> <td>75101</td> <td>Paris 1er Arrondissement</td> <td>Saint-Germain l'Auxerrois 1</td> <td>H       </td> <td>00        </td> <td>1       </td> <td>6.44942 </td> <td>193.142      </td> <td>nan           </td> <td>501.223</td> <td>249.284     </td> <td>49.7352      </td> <td>63.2679   </td> <td>42.0458   </td> <td>4.10618   </td> <td>0          </td> <td>109.42   </td> <td>21.8306   </td> <td>1083.99     </td> <td>64488.1   </td>\n",
       "        </tr>\n",
       "        <tr>\n",
       "            <td>2       </td> <td>750004559</td> <td>75101    </td> <td>1   </td> <td>751010102</td> <td>A       </td> <td>Saint-Germain l'Auxerrois 2</td> <td>45971.8</td> <td>4728.31 </td> <td>42976.7 </td> <td>Paris  </td> <td>T1  </td> <td>751010102</td> <td>751010102</td> <td>75  </td> <td>851   </td> <td>75101</td> <td>Paris 1er Arrondissement</td> <td>Saint-Germain l'Auxerrois 2</td> <td>A       </td> <td>00        </td> <td>3       </td> <td>6.19873 </td> <td>45.0733      </td> <td>nan           </td> <td>84.4898</td> <td>50.0393     </td> <td>59.2253      </td> <td>6.54643   </td> <td>0         </td> <td>2.54837   </td> <td>0          </td> <td>9.09479  </td> <td>10.7644   </td> <td>1057.13     </td> <td>61981.2   </td>\n",
       "        </tr>\n",
       "        <tr>\n",
       "            <td>3       </td> <td>750004497</td> <td>75101    </td> <td>1   </td> <td>751010103</td> <td>A       </td> <td>Saint-Germain L'Auxerrois 3</td> <td>29246.6</td> <td>17775.1 </td> <td>26203.9 </td> <td>Paris  </td> <td>T1  </td> <td>751010103</td> <td>751010103</td> <td>75  </td> <td>851   </td> <td>75101</td> <td>Paris 1er Arrondissement</td> <td>Saint-Germain l'Auxerrois 3</td> <td>A       </td> <td>00        </td> <td>3       </td> <td>4.60627 </td> <td>75.0171      </td> <td>nan           </td> <td>201.637</td> <td>112.363     </td> <td>55.7254      </td> <td>26.0243   </td> <td>7.99613   </td> <td>8.88347   </td> <td>0          </td> <td>42.9039  </td> <td>21.2777   </td> <td>877.312     </td> <td>46058.5   </td>\n",
       "        </tr>\n",
       "        <tr>\n",
       "            <td>4       </td> <td>750004460</td> <td>75101    </td> <td>1   </td> <td>751010104</td> <td>A       </td> <td>Saint-Germain L'Auxerrois 4</td> <td>181709 </td> <td>26416.3 </td> <td>109150  </td> <td>Paris  </td> <td>T1  </td> <td>751010104</td> <td>751010104</td> <td>75  </td> <td>851   </td> <td>75101</td> <td>Paris 1er Arrondissement</td> <td>Saint-Germain l'Auxerrois 4</td> <td>A       </td> <td>00        </td> <td>3       </td> <td>22.4808 </td> <td>3.54936      </td> <td>nan           </td> <td>4.4367 </td> <td>1.77468     </td> <td>40           </td> <td>0.88734   </td> <td>0         </td> <td>0         </td> <td>0          </td> <td>0.88734  </td> <td>20        </td> <td>2052.89     </td> <td>224788    </td>\n",
       "        </tr>\n",
       "        <tr>\n",
       "            <td>5       </td> <td>750004388</td> <td>75101    </td> <td>1   </td> <td>751010105</td> <td>D       </td> <td>Tuileries                  </td> <td>225540 </td> <td>11.5994 </td> <td>2736.06 </td> <td>Paris  </td> <td>T1  </td> <td>751010105</td> <td>751010105</td> <td>75  </td> <td>851   </td> <td>75101</td> <td>Paris 1er Arrondissement</td> <td>Tuileries                  </td> <td>D       </td> <td>00        </td> <td>3       </td> <td>24.8896 </td> <td>nan          </td> <td>nan           </td> <td>nan    </td> <td>nan         </td> <td>nan          </td> <td>nan       </td> <td>nan       </td> <td>nan       </td> <td>nan        </td> <td>0        </td> <td>nan       </td> <td>2112.53     </td> <td>248875    </td>\n",
       "        </tr>\n",
       "        <tr>\n",
       "            <td>6       </td> <td>750004461</td> <td>75101    </td> <td>1   </td> <td>751010199</td> <td>D       </td> <td>Seine et Berges            </td> <td>21293.3</td> <td>0.209782</td> <td>0.209782</td> <td>Paris  </td> <td>T1  </td> <td>751010199</td> <td>751010199</td> <td>75  </td> <td>851   </td> <td>75101</td> <td>Paris 1er Arrondissement</td> <td>Seine et Berges            </td> <td>D       </td> <td>00        </td> <td>3       </td> <td>22.2792 </td> <td>nan          </td> <td>nan           </td> <td>nan    </td> <td>nan         </td> <td>nan          </td> <td>nan       </td> <td>nan       </td> <td>nan       </td> <td>nan        </td> <td>0        </td> <td>nan       </td> <td>5146.54     </td> <td>222771    </td>\n",
       "        </tr>\n",
       "        <tr>\n",
       "            <td>7       </td> <td>750004421</td> <td>75101    </td> <td>2   </td> <td>751010201</td> <td>H       </td> <td>Les Halles 1               </td> <td>44086.6</td> <td>40507.3 </td> <td>41712.2 </td> <td>Paris  </td> <td>T1  </td> <td>751010201</td> <td>751010201</td> <td>75  </td> <td>851   </td> <td>75101</td> <td>Paris 1er Arrondissement</td> <td>Les Halles 1               </td> <td>H       </td> <td>00        </td> <td>1       </td> <td>7.83812 </td> <td>266.519      </td> <td>nan           </td> <td>1530.2 </td> <td>981.135     </td> <td>64.1181      </td> <td>65.5406   </td> <td>65.7735   </td> <td>15.9704   </td> <td>0          </td> <td>147.284  </td> <td>9.62519   </td> <td>1483.01     </td> <td>78374.2   </td>\n",
       "        </tr>\n",
       "        <tr>\n",
       "            <td>8       </td> <td>750004483</td> <td>75101    </td> <td>2   </td> <td>751010202</td> <td>H       </td> <td>Les Halles 2               </td> <td>46064.5</td> <td>41030.7 </td> <td>45448   </td> <td>Paris  </td> <td>T1  </td> <td>751010202</td> <td>751010202</td> <td>75  </td> <td>851   </td> <td>75101</td> <td>Paris 1er Arrondissement</td> <td>Les Halles 2               </td> <td>H       </td> <td>00        </td> <td>1       </td> <td>7.0183  </td> <td>267.455      </td> <td>nan           </td> <td>1035.95</td> <td>615.693     </td> <td>59.4324      </td> <td>62.1218   </td> <td>71.7292   </td> <td>14.6645   </td> <td>0          </td> <td>148.515  </td> <td>14.3361   </td> <td>1509.74     </td> <td>70176.7   </td>\n",
       "        </tr>\n",
       "        <tr>\n",
       "            <td>9       </td> <td>750004406</td> <td>75101    </td> <td>2   </td> <td>751010203</td> <td>H       </td> <td>Les Halles 3               </td> <td>55295.9</td> <td>54574.5 </td> <td>55024.4 </td> <td>Paris  </td> <td>T1  </td> <td>751010203</td> <td>751010203</td> <td>75  </td> <td>851   </td> <td>75101</td> <td>Paris 1er Arrondissement</td> <td>Les Halles 3               </td> <td>H       </td> <td>00        </td> <td>1       </td> <td>8.99698 </td> <td>372.092      </td> <td>nan           </td> <td>1405.89</td> <td>836.911     </td> <td>59.5289      </td> <td>110.564   </td> <td>86.4571   </td> <td>14.6706   </td> <td>2.85019    </td> <td>214.542  </td> <td>15.2602   </td> <td>1915.56     </td> <td>89961.9   </td>\n",
       "        </tr>\n",
       "        <tr>\n",
       "            <td>10      </td> <td>750004404</td> <td>75101    </td> <td>2   </td> <td>751010204</td> <td>H       </td> <td>Les Halles 4               </td> <td>43697.1</td> <td>38179.1 </td> <td>43578.7 </td> <td>Paris  </td> <td>T1  </td> <td>751010204</td> <td>751010204</td> <td>75  </td> <td>851   </td> <td>75101</td> <td>Paris 1er Arrondissement</td> <td>Les Halles 4               </td> <td>H       </td> <td>00        </td> <td>2       </td> <td>6.59916 </td> <td>350.386      </td> <td>nan           </td> <td>1260.72</td> <td>659.555     </td> <td>52.3157      </td> <td>143.562   </td> <td>98.0972   </td> <td>42.7924   </td> <td>5.4563     </td> <td>289.908  </td> <td>22.9954   </td> <td>1136.64     </td> <td>65986     </td>\n",
       "        </tr>\n",
       "    </tbody>\n",
       "</table>\n",
       "<p>... (2831 rows omitted)</p>"
      ],
      "text/plain": [
       "OBJECTID | N_SQ_IR   | C_CAINSEE | N_QU | C_IR      | C_TYPEIR | L_IR                        | M2_IP   | M2_POP   | M2_EMP   | NOM_EPT | EPT  | IRIS      | IRIS_NUM  | DEP  | UU2010 | COM   | LIBCOM                   | LIBIRIS                     | TYP_IRIS | MODIF_IRIS | LAB_IRIS | SHAPE_ha | P12_RP_VOIT1P | TX12_RP_VOIT1P | C12_MEN | C12_MENPSEUL | TX12_MENPSEUL | C12_NE24F1 | C12_NE24F2 | C12_NE24F3 | C12_NE24F4P | C12_NE24F | TX12_NE24F | SHAPE_Length | SHAPE_Area\n",
       "1        | 750004511 | 75101     | 1    | 751010101 | H        | Saint-Germain L'Auxerrois 1 | 35395.5 | 22312.5  | 33459.7  | Paris   | T1   | 751010101 | 751010101 | 75   | 851    | 75101 | Paris 1er Arrondissement | Saint-Germain l'Auxerrois 1 | H        | 00         | 1        | 6.44942  | 193.142       | nan            | 501.223 | 249.284      | 49.7352       | 63.2679    | 42.0458    | 4.10618    | 0           | 109.42    | 21.8306    | 1083.99      | 64488.1\n",
       "2        | 750004559 | 75101     | 1    | 751010102 | A        | Saint-Germain l'Auxerrois 2 | 45971.8 | 4728.31  | 42976.7  | Paris   | T1   | 751010102 | 751010102 | 75   | 851    | 75101 | Paris 1er Arrondissement | Saint-Germain l'Auxerrois 2 | A        | 00         | 3        | 6.19873  | 45.0733       | nan            | 84.4898 | 50.0393      | 59.2253       | 6.54643    | 0          | 2.54837    | 0           | 9.09479   | 10.7644    | 1057.13      | 61981.2\n",
       "3        | 750004497 | 75101     | 1    | 751010103 | A        | Saint-Germain L'Auxerrois 3 | 29246.6 | 17775.1  | 26203.9  | Paris   | T1   | 751010103 | 751010103 | 75   | 851    | 75101 | Paris 1er Arrondissement | Saint-Germain l'Auxerrois 3 | A        | 00         | 3        | 4.60627  | 75.0171       | nan            | 201.637 | 112.363      | 55.7254       | 26.0243    | 7.99613    | 8.88347    | 0           | 42.9039   | 21.2777    | 877.312      | 46058.5\n",
       "4        | 750004460 | 75101     | 1    | 751010104 | A        | Saint-Germain L'Auxerrois 4 | 181709  | 26416.3  | 109150   | Paris   | T1   | 751010104 | 751010104 | 75   | 851    | 75101 | Paris 1er Arrondissement | Saint-Germain l'Auxerrois 4 | A        | 00         | 3        | 22.4808  | 3.54936       | nan            | 4.4367  | 1.77468      | 40            | 0.88734    | 0          | 0          | 0           | 0.88734   | 20         | 2052.89      | 224788\n",
       "5        | 750004388 | 75101     | 1    | 751010105 | D        | Tuileries                   | 225540  | 11.5994  | 2736.06  | Paris   | T1   | 751010105 | 751010105 | 75   | 851    | 75101 | Paris 1er Arrondissement | Tuileries                   | D        | 00         | 3        | 24.8896  | nan           | nan            | nan     | nan          | nan           | nan        | nan        | nan        | nan         | 0         | nan        | 2112.53      | 248875\n",
       "6        | 750004461 | 75101     | 1    | 751010199 | D        | Seine et Berges             | 21293.3 | 0.209782 | 0.209782 | Paris   | T1   | 751010199 | 751010199 | 75   | 851    | 75101 | Paris 1er Arrondissement | Seine et Berges             | D        | 00         | 3        | 22.2792  | nan           | nan            | nan     | nan          | nan           | nan        | nan        | nan        | nan         | 0         | nan        | 5146.54      | 222771\n",
       "7        | 750004421 | 75101     | 2    | 751010201 | H        | Les Halles 1                | 44086.6 | 40507.3  | 41712.2  | Paris   | T1   | 751010201 | 751010201 | 75   | 851    | 75101 | Paris 1er Arrondissement | Les Halles 1                | H        | 00         | 1        | 7.83812  | 266.519       | nan            | 1530.2  | 981.135      | 64.1181       | 65.5406    | 65.7735    | 15.9704    | 0           | 147.284   | 9.62519    | 1483.01      | 78374.2\n",
       "8        | 750004483 | 75101     | 2    | 751010202 | H        | Les Halles 2                | 46064.5 | 41030.7  | 45448    | Paris   | T1   | 751010202 | 751010202 | 75   | 851    | 75101 | Paris 1er Arrondissement | Les Halles 2                | H        | 00         | 1        | 7.0183   | 267.455       | nan            | 1035.95 | 615.693      | 59.4324       | 62.1218    | 71.7292    | 14.6645    | 0           | 148.515   | 14.3361    | 1509.74      | 70176.7\n",
       "9        | 750004406 | 75101     | 2    | 751010203 | H        | Les Halles 3                | 55295.9 | 54574.5  | 55024.4  | Paris   | T1   | 751010203 | 751010203 | 75   | 851    | 75101 | Paris 1er Arrondissement | Les Halles 3                | H        | 00         | 1        | 8.99698  | 372.092       | nan            | 1405.89 | 836.911      | 59.5289       | 110.564    | 86.4571    | 14.6706    | 2.85019     | 214.542   | 15.2602    | 1915.56      | 89961.9\n",
       "10       | 750004404 | 75101     | 2    | 751010204 | H        | Les Halles 4                | 43697.1 | 38179.1  | 43578.7  | Paris   | T1   | 751010204 | 751010204 | 75   | 851    | 75101 | Paris 1er Arrondissement | Les Halles 4                | H        | 00         | 2        | 6.59916  | 350.386       | nan            | 1260.72 | 659.555      | 52.3157       | 143.562    | 98.0972    | 42.7924    | 5.4563      | 289.908   | 22.9954    | 1136.64      | 65986\n",
       "... (2831 rows omitted)"
      ]
     },
     "execution_count": 12,
     "metadata": {},
     "output_type": "execute_result"
    }
   ],
   "source": [
    "Table.read_table(\"IRIS_SOCIOLOGIE.csv\")"
   ]
  },
  {
   "cell_type": "markdown",
   "metadata": {},
   "source": [
    "That's a lot of information. As you can see from the labels on top, this table shows location, environmental and health factors, as well as population and demographic information. ***use this section to talk about column names and renaming***"
   ]
  },
  {
   "cell_type": "markdown",
   "metadata": {},
   "source": [
    "## Using Tables\n",
    "\n",
    "We can make criteria to cut down tables. Accessing only the rows, columns, or values specfic to our purpose makes information easier understood. Analysis and conclusions can be made when data is more digestible. \n",
    "\n",
    "We need to access the census table above and name it for further use. We assign the table to a variable so that we can reference it later!"
   ]
  },
  {
   "cell_type": "code",
   "execution_count": 16,
   "metadata": {},
   "outputs": [
    {
     "data": {
      "text/html": [
       "<table border=\"1\" class=\"dataframe\">\n",
       "    <thead>\n",
       "        <tr>\n",
       "            <th>OBJECTID</th> <th>N_SQ_IR</th> <th>C_CAINSEE</th> <th>N_QU</th> <th>C_IR</th> <th>C_TYPEIR</th> <th>L_IR</th> <th>M2_IP</th> <th>M2_POP</th> <th>M2_EMP</th> <th>NOM_EPT</th> <th>EPT</th> <th>IRIS</th> <th>IRIS_NUM</th> <th>DEP</th> <th>UU2010</th> <th>COM</th> <th>LIBCOM</th> <th>LIBIRIS</th> <th>TYP_IRIS</th> <th>MODIF_IRIS</th> <th>LAB_IRIS</th> <th>SHAPE_ha</th> <th>P12_RP_VOIT1P</th> <th>TX12_RP_VOIT1P</th> <th>C12_MEN</th> <th>C12_MENPSEUL</th> <th>TX12_MENPSEUL</th> <th>C12_NE24F1</th> <th>C12_NE24F2</th> <th>C12_NE24F3</th> <th>C12_NE24F4P</th> <th>C12_NE24F</th> <th>TX12_NE24F</th> <th>SHAPE_Length</th> <th>SHAPE_Area</th>\n",
       "        </tr>\n",
       "    </thead>\n",
       "    <tbody>\n",
       "        <tr>\n",
       "            <td>1       </td> <td>750004511</td> <td>75101    </td> <td>1   </td> <td>751010101</td> <td>H       </td> <td>Saint-Germain L'Auxerrois 1</td> <td>35395.5</td> <td>22312.5 </td> <td>33459.7 </td> <td>Paris  </td> <td>T1  </td> <td>751010101</td> <td>751010101</td> <td>75  </td> <td>851   </td> <td>75101</td> <td>Paris 1er Arrondissement</td> <td>Saint-Germain l'Auxerrois 1</td> <td>H       </td> <td>00        </td> <td>1       </td> <td>6.44942 </td> <td>193.142      </td> <td>nan           </td> <td>501.223</td> <td>249.284     </td> <td>49.7352      </td> <td>63.2679   </td> <td>42.0458   </td> <td>4.10618   </td> <td>0          </td> <td>109.42   </td> <td>21.8306   </td> <td>1083.99     </td> <td>64488.1   </td>\n",
       "        </tr>\n",
       "        <tr>\n",
       "            <td>2       </td> <td>750004559</td> <td>75101    </td> <td>1   </td> <td>751010102</td> <td>A       </td> <td>Saint-Germain l'Auxerrois 2</td> <td>45971.8</td> <td>4728.31 </td> <td>42976.7 </td> <td>Paris  </td> <td>T1  </td> <td>751010102</td> <td>751010102</td> <td>75  </td> <td>851   </td> <td>75101</td> <td>Paris 1er Arrondissement</td> <td>Saint-Germain l'Auxerrois 2</td> <td>A       </td> <td>00        </td> <td>3       </td> <td>6.19873 </td> <td>45.0733      </td> <td>nan           </td> <td>84.4898</td> <td>50.0393     </td> <td>59.2253      </td> <td>6.54643   </td> <td>0         </td> <td>2.54837   </td> <td>0          </td> <td>9.09479  </td> <td>10.7644   </td> <td>1057.13     </td> <td>61981.2   </td>\n",
       "        </tr>\n",
       "        <tr>\n",
       "            <td>3       </td> <td>750004497</td> <td>75101    </td> <td>1   </td> <td>751010103</td> <td>A       </td> <td>Saint-Germain L'Auxerrois 3</td> <td>29246.6</td> <td>17775.1 </td> <td>26203.9 </td> <td>Paris  </td> <td>T1  </td> <td>751010103</td> <td>751010103</td> <td>75  </td> <td>851   </td> <td>75101</td> <td>Paris 1er Arrondissement</td> <td>Saint-Germain l'Auxerrois 3</td> <td>A       </td> <td>00        </td> <td>3       </td> <td>4.60627 </td> <td>75.0171      </td> <td>nan           </td> <td>201.637</td> <td>112.363     </td> <td>55.7254      </td> <td>26.0243   </td> <td>7.99613   </td> <td>8.88347   </td> <td>0          </td> <td>42.9039  </td> <td>21.2777   </td> <td>877.312     </td> <td>46058.5   </td>\n",
       "        </tr>\n",
       "        <tr>\n",
       "            <td>4       </td> <td>750004460</td> <td>75101    </td> <td>1   </td> <td>751010104</td> <td>A       </td> <td>Saint-Germain L'Auxerrois 4</td> <td>181709 </td> <td>26416.3 </td> <td>109150  </td> <td>Paris  </td> <td>T1  </td> <td>751010104</td> <td>751010104</td> <td>75  </td> <td>851   </td> <td>75101</td> <td>Paris 1er Arrondissement</td> <td>Saint-Germain l'Auxerrois 4</td> <td>A       </td> <td>00        </td> <td>3       </td> <td>22.4808 </td> <td>3.54936      </td> <td>nan           </td> <td>4.4367 </td> <td>1.77468     </td> <td>40           </td> <td>0.88734   </td> <td>0         </td> <td>0         </td> <td>0          </td> <td>0.88734  </td> <td>20        </td> <td>2052.89     </td> <td>224788    </td>\n",
       "        </tr>\n",
       "        <tr>\n",
       "            <td>5       </td> <td>750004388</td> <td>75101    </td> <td>1   </td> <td>751010105</td> <td>D       </td> <td>Tuileries                  </td> <td>225540 </td> <td>11.5994 </td> <td>2736.06 </td> <td>Paris  </td> <td>T1  </td> <td>751010105</td> <td>751010105</td> <td>75  </td> <td>851   </td> <td>75101</td> <td>Paris 1er Arrondissement</td> <td>Tuileries                  </td> <td>D       </td> <td>00        </td> <td>3       </td> <td>24.8896 </td> <td>nan          </td> <td>nan           </td> <td>nan    </td> <td>nan         </td> <td>nan          </td> <td>nan       </td> <td>nan       </td> <td>nan       </td> <td>nan        </td> <td>0        </td> <td>nan       </td> <td>2112.53     </td> <td>248875    </td>\n",
       "        </tr>\n",
       "        <tr>\n",
       "            <td>6       </td> <td>750004461</td> <td>75101    </td> <td>1   </td> <td>751010199</td> <td>D       </td> <td>Seine et Berges            </td> <td>21293.3</td> <td>0.209782</td> <td>0.209782</td> <td>Paris  </td> <td>T1  </td> <td>751010199</td> <td>751010199</td> <td>75  </td> <td>851   </td> <td>75101</td> <td>Paris 1er Arrondissement</td> <td>Seine et Berges            </td> <td>D       </td> <td>00        </td> <td>3       </td> <td>22.2792 </td> <td>nan          </td> <td>nan           </td> <td>nan    </td> <td>nan         </td> <td>nan          </td> <td>nan       </td> <td>nan       </td> <td>nan       </td> <td>nan        </td> <td>0        </td> <td>nan       </td> <td>5146.54     </td> <td>222771    </td>\n",
       "        </tr>\n",
       "        <tr>\n",
       "            <td>7       </td> <td>750004421</td> <td>75101    </td> <td>2   </td> <td>751010201</td> <td>H       </td> <td>Les Halles 1               </td> <td>44086.6</td> <td>40507.3 </td> <td>41712.2 </td> <td>Paris  </td> <td>T1  </td> <td>751010201</td> <td>751010201</td> <td>75  </td> <td>851   </td> <td>75101</td> <td>Paris 1er Arrondissement</td> <td>Les Halles 1               </td> <td>H       </td> <td>00        </td> <td>1       </td> <td>7.83812 </td> <td>266.519      </td> <td>nan           </td> <td>1530.2 </td> <td>981.135     </td> <td>64.1181      </td> <td>65.5406   </td> <td>65.7735   </td> <td>15.9704   </td> <td>0          </td> <td>147.284  </td> <td>9.62519   </td> <td>1483.01     </td> <td>78374.2   </td>\n",
       "        </tr>\n",
       "        <tr>\n",
       "            <td>8       </td> <td>750004483</td> <td>75101    </td> <td>2   </td> <td>751010202</td> <td>H       </td> <td>Les Halles 2               </td> <td>46064.5</td> <td>41030.7 </td> <td>45448   </td> <td>Paris  </td> <td>T1  </td> <td>751010202</td> <td>751010202</td> <td>75  </td> <td>851   </td> <td>75101</td> <td>Paris 1er Arrondissement</td> <td>Les Halles 2               </td> <td>H       </td> <td>00        </td> <td>1       </td> <td>7.0183  </td> <td>267.455      </td> <td>nan           </td> <td>1035.95</td> <td>615.693     </td> <td>59.4324      </td> <td>62.1218   </td> <td>71.7292   </td> <td>14.6645   </td> <td>0          </td> <td>148.515  </td> <td>14.3361   </td> <td>1509.74     </td> <td>70176.7   </td>\n",
       "        </tr>\n",
       "        <tr>\n",
       "            <td>9       </td> <td>750004406</td> <td>75101    </td> <td>2   </td> <td>751010203</td> <td>H       </td> <td>Les Halles 3               </td> <td>55295.9</td> <td>54574.5 </td> <td>55024.4 </td> <td>Paris  </td> <td>T1  </td> <td>751010203</td> <td>751010203</td> <td>75  </td> <td>851   </td> <td>75101</td> <td>Paris 1er Arrondissement</td> <td>Les Halles 3               </td> <td>H       </td> <td>00        </td> <td>1       </td> <td>8.99698 </td> <td>372.092      </td> <td>nan           </td> <td>1405.89</td> <td>836.911     </td> <td>59.5289      </td> <td>110.564   </td> <td>86.4571   </td> <td>14.6706   </td> <td>2.85019    </td> <td>214.542  </td> <td>15.2602   </td> <td>1915.56     </td> <td>89961.9   </td>\n",
       "        </tr>\n",
       "        <tr>\n",
       "            <td>10      </td> <td>750004404</td> <td>75101    </td> <td>2   </td> <td>751010204</td> <td>H       </td> <td>Les Halles 4               </td> <td>43697.1</td> <td>38179.1 </td> <td>43578.7 </td> <td>Paris  </td> <td>T1  </td> <td>751010204</td> <td>751010204</td> <td>75  </td> <td>851   </td> <td>75101</td> <td>Paris 1er Arrondissement</td> <td>Les Halles 4               </td> <td>H       </td> <td>00        </td> <td>2       </td> <td>6.59916 </td> <td>350.386      </td> <td>nan           </td> <td>1260.72</td> <td>659.555     </td> <td>52.3157      </td> <td>143.562   </td> <td>98.0972   </td> <td>42.7924   </td> <td>5.4563     </td> <td>289.908  </td> <td>22.9954   </td> <td>1136.64     </td> <td>65986     </td>\n",
       "        </tr>\n",
       "    </tbody>\n",
       "</table>\n",
       "<p>... (2831 rows omitted)</p>"
      ],
      "text/plain": [
       "OBJECTID | N_SQ_IR   | C_CAINSEE | N_QU | C_IR      | C_TYPEIR | L_IR                        | M2_IP   | M2_POP   | M2_EMP   | NOM_EPT | EPT  | IRIS      | IRIS_NUM  | DEP  | UU2010 | COM   | LIBCOM                   | LIBIRIS                     | TYP_IRIS | MODIF_IRIS | LAB_IRIS | SHAPE_ha | P12_RP_VOIT1P | TX12_RP_VOIT1P | C12_MEN | C12_MENPSEUL | TX12_MENPSEUL | C12_NE24F1 | C12_NE24F2 | C12_NE24F3 | C12_NE24F4P | C12_NE24F | TX12_NE24F | SHAPE_Length | SHAPE_Area\n",
       "1        | 750004511 | 75101     | 1    | 751010101 | H        | Saint-Germain L'Auxerrois 1 | 35395.5 | 22312.5  | 33459.7  | Paris   | T1   | 751010101 | 751010101 | 75   | 851    | 75101 | Paris 1er Arrondissement | Saint-Germain l'Auxerrois 1 | H        | 00         | 1        | 6.44942  | 193.142       | nan            | 501.223 | 249.284      | 49.7352       | 63.2679    | 42.0458    | 4.10618    | 0           | 109.42    | 21.8306    | 1083.99      | 64488.1\n",
       "2        | 750004559 | 75101     | 1    | 751010102 | A        | Saint-Germain l'Auxerrois 2 | 45971.8 | 4728.31  | 42976.7  | Paris   | T1   | 751010102 | 751010102 | 75   | 851    | 75101 | Paris 1er Arrondissement | Saint-Germain l'Auxerrois 2 | A        | 00         | 3        | 6.19873  | 45.0733       | nan            | 84.4898 | 50.0393      | 59.2253       | 6.54643    | 0          | 2.54837    | 0           | 9.09479   | 10.7644    | 1057.13      | 61981.2\n",
       "3        | 750004497 | 75101     | 1    | 751010103 | A        | Saint-Germain L'Auxerrois 3 | 29246.6 | 17775.1  | 26203.9  | Paris   | T1   | 751010103 | 751010103 | 75   | 851    | 75101 | Paris 1er Arrondissement | Saint-Germain l'Auxerrois 3 | A        | 00         | 3        | 4.60627  | 75.0171       | nan            | 201.637 | 112.363      | 55.7254       | 26.0243    | 7.99613    | 8.88347    | 0           | 42.9039   | 21.2777    | 877.312      | 46058.5\n",
       "4        | 750004460 | 75101     | 1    | 751010104 | A        | Saint-Germain L'Auxerrois 4 | 181709  | 26416.3  | 109150   | Paris   | T1   | 751010104 | 751010104 | 75   | 851    | 75101 | Paris 1er Arrondissement | Saint-Germain l'Auxerrois 4 | A        | 00         | 3        | 22.4808  | 3.54936       | nan            | 4.4367  | 1.77468      | 40            | 0.88734    | 0          | 0          | 0           | 0.88734   | 20         | 2052.89      | 224788\n",
       "5        | 750004388 | 75101     | 1    | 751010105 | D        | Tuileries                   | 225540  | 11.5994  | 2736.06  | Paris   | T1   | 751010105 | 751010105 | 75   | 851    | 75101 | Paris 1er Arrondissement | Tuileries                   | D        | 00         | 3        | 24.8896  | nan           | nan            | nan     | nan          | nan           | nan        | nan        | nan        | nan         | 0         | nan        | 2112.53      | 248875\n",
       "6        | 750004461 | 75101     | 1    | 751010199 | D        | Seine et Berges             | 21293.3 | 0.209782 | 0.209782 | Paris   | T1   | 751010199 | 751010199 | 75   | 851    | 75101 | Paris 1er Arrondissement | Seine et Berges             | D        | 00         | 3        | 22.2792  | nan           | nan            | nan     | nan          | nan           | nan        | nan        | nan        | nan         | 0         | nan        | 5146.54      | 222771\n",
       "7        | 750004421 | 75101     | 2    | 751010201 | H        | Les Halles 1                | 44086.6 | 40507.3  | 41712.2  | Paris   | T1   | 751010201 | 751010201 | 75   | 851    | 75101 | Paris 1er Arrondissement | Les Halles 1                | H        | 00         | 1        | 7.83812  | 266.519       | nan            | 1530.2  | 981.135      | 64.1181       | 65.5406    | 65.7735    | 15.9704    | 0           | 147.284   | 9.62519    | 1483.01      | 78374.2\n",
       "8        | 750004483 | 75101     | 2    | 751010202 | H        | Les Halles 2                | 46064.5 | 41030.7  | 45448    | Paris   | T1   | 751010202 | 751010202 | 75   | 851    | 75101 | Paris 1er Arrondissement | Les Halles 2                | H        | 00         | 1        | 7.0183   | 267.455       | nan            | 1035.95 | 615.693      | 59.4324       | 62.1218    | 71.7292    | 14.6645    | 0           | 148.515   | 14.3361    | 1509.74      | 70176.7\n",
       "9        | 750004406 | 75101     | 2    | 751010203 | H        | Les Halles 3                | 55295.9 | 54574.5  | 55024.4  | Paris   | T1   | 751010203 | 751010203 | 75   | 851    | 75101 | Paris 1er Arrondissement | Les Halles 3                | H        | 00         | 1        | 8.99698  | 372.092       | nan            | 1405.89 | 836.911      | 59.5289       | 110.564    | 86.4571    | 14.6706    | 2.85019     | 214.542   | 15.2602    | 1915.56      | 89961.9\n",
       "10       | 750004404 | 75101     | 2    | 751010204 | H        | Les Halles 4                | 43697.1 | 38179.1  | 43578.7  | Paris   | T1   | 751010204 | 751010204 | 75   | 851    | 75101 | Paris 1er Arrondissement | Les Halles 4                | H        | 00         | 2        | 6.59916  | 350.386       | nan            | 1260.72 | 659.555      | 52.3157       | 143.562    | 98.0972    | 42.7924    | 5.4563      | 289.908   | 22.9954    | 1136.64      | 65986\n",
       "... (2831 rows omitted)"
      ]
     },
     "execution_count": 16,
     "metadata": {},
     "output_type": "execute_result"
    }
   ],
   "source": [
    "soc_data = Table.read_table(\"IRIS_SOCIOLOGIE.csv\")\n",
    "soc_data"
   ]
  },
  {
   "cell_type": "markdown",
   "metadata": {},
   "source": [
    "This notebook can calculate how large this table is with two functions: num_rows and num_columns. The general form for these functions are table.num_rows and table.num_columns. \n",
    "\n",
    "Let's use these on the table above. "
   ]
  },
  {
   "cell_type": "code",
   "execution_count": 14,
   "metadata": {},
   "outputs": [
    {
     "data": {
      "text/plain": [
       "2841"
      ]
     },
     "execution_count": 14,
     "metadata": {},
     "output_type": "execute_result"
    }
   ],
   "source": [
    "soc_data.num_rows"
   ]
  },
  {
   "cell_type": "code",
   "execution_count": 15,
   "metadata": {},
   "outputs": [
    {
     "data": {
      "text/plain": [
       "36"
      ]
     },
     "execution_count": 15,
     "metadata": {},
     "output_type": "execute_result"
    }
   ],
   "source": [
    "soc_data.num_columns"
   ]
  },
  {
   "cell_type": "markdown",
   "metadata": {},
   "source": [
    "That's a 2841 x 36 table! We can first start to cut down this table using only some columns. Let's only include biological sex, age and the estimated base for 2010 census data. \n",
    "\n",
    "There are two methods to make a table with select columns included. We could either use the 'select' function or the 'drop' function. \n",
    "\n",
    "- `select` can create a new table with only the columns indicated in the parameters \n",
    "- `drop` can create a new table with columns NOT indicated in the parameters\n",
    "\n",
    "\n",
    "Here's an example of code that results in smaller tables: (keep in mind that we assign each new table to a new variable, to make organization easier). "
   ]
  },
  {
   "cell_type": "code",
   "execution_count": 12,
   "metadata": {},
   "outputs": [
    {
     "data": {
      "text/html": [
       "<table border=\"1\" class=\"dataframe\">\n",
       "    <thead>\n",
       "        <tr>\n",
       "            <th>C12_MEN</th> <th>TX12_MENPSEUL</th> <th>C12_NE24F2</th> <th>SHAPE_ha</th> <th>SHAPE_Length</th>\n",
       "        </tr>\n",
       "    </thead>\n",
       "    <tbody>\n",
       "        <tr>\n",
       "            <td>501.223</td> <td>49.7352      </td> <td>42.0458   </td> <td>6.44942 </td> <td>1083.99     </td>\n",
       "        </tr>\n",
       "        <tr>\n",
       "            <td>84.4898</td> <td>59.2253      </td> <td>0         </td> <td>6.19873 </td> <td>1057.13     </td>\n",
       "        </tr>\n",
       "        <tr>\n",
       "            <td>201.637</td> <td>55.7254      </td> <td>7.99613   </td> <td>4.60627 </td> <td>877.312     </td>\n",
       "        </tr>\n",
       "        <tr>\n",
       "            <td>4.4367 </td> <td>40           </td> <td>0         </td> <td>22.4808 </td> <td>2052.89     </td>\n",
       "        </tr>\n",
       "        <tr>\n",
       "            <td>nan    </td> <td>nan          </td> <td>nan       </td> <td>24.8896 </td> <td>2112.53     </td>\n",
       "        </tr>\n",
       "        <tr>\n",
       "            <td>nan    </td> <td>nan          </td> <td>nan       </td> <td>22.2792 </td> <td>5146.54     </td>\n",
       "        </tr>\n",
       "        <tr>\n",
       "            <td>1530.2 </td> <td>64.1181      </td> <td>65.7735   </td> <td>7.83812 </td> <td>1483.01     </td>\n",
       "        </tr>\n",
       "        <tr>\n",
       "            <td>1035.95</td> <td>59.4324      </td> <td>71.7292   </td> <td>7.0183  </td> <td>1509.74     </td>\n",
       "        </tr>\n",
       "        <tr>\n",
       "            <td>1405.89</td> <td>59.5289      </td> <td>86.4571   </td> <td>8.99698 </td> <td>1915.56     </td>\n",
       "        </tr>\n",
       "        <tr>\n",
       "            <td>1260.72</td> <td>52.3157      </td> <td>98.0972   </td> <td>6.59916 </td> <td>1136.64     </td>\n",
       "        </tr>\n",
       "    </tbody>\n",
       "</table>\n",
       "<p>... (2831 rows omitted)</p>"
      ],
      "text/plain": [
       "C12_MEN | TX12_MENPSEUL | C12_NE24F2 | SHAPE_ha | SHAPE_Length\n",
       "501.223 | 49.7352       | 42.0458    | 6.44942  | 1083.99\n",
       "84.4898 | 59.2253       | 0          | 6.19873  | 1057.13\n",
       "201.637 | 55.7254       | 7.99613    | 4.60627  | 877.312\n",
       "4.4367  | 40            | 0          | 22.4808  | 2052.89\n",
       "nan     | nan           | nan        | 24.8896  | 2112.53\n",
       "nan     | nan           | nan        | 22.2792  | 5146.54\n",
       "1530.2  | 64.1181       | 65.7735    | 7.83812  | 1483.01\n",
       "1035.95 | 59.4324       | 71.7292    | 7.0183   | 1509.74\n",
       "1405.89 | 59.5289       | 86.4571    | 8.99698  | 1915.56\n",
       "1260.72 | 52.3157       | 98.0972    | 6.59916  | 1136.64\n",
       "... (2831 rows omitted)"
      ]
     },
     "execution_count": 12,
     "metadata": {},
     "output_type": "execute_result"
    }
   ],
   "source": [
    "select_soc_data = soc_data.select(\"C12_MEN\", \"TX12_MENPSEUL\", \"C12_NE24F2\", \"SHAPE_ha\", \"SHAPE_Length\")\n",
    "select_soc_data"
   ]
  },
  {
   "cell_type": "markdown",
   "metadata": {},
   "source": [
    "As you can see underneath the table, there are still 2831 rows omitted! Our next step is to only include the data with larger populations (larger than 4000).\n",
    "\n",
    "To do this, we need to use a new function `where`. The general form of this function is:\n",
    "\n",
    "```python\n",
    "table_name.where(column_name, predicate)\n",
    "```\n",
    "\n",
    "To cut our table down to only include `sex=0`, we may use the predicate `are.equal_to()`. Note that we are assigning the new table to a new variable. We are referencing the table stored in an older variable (`select_census_data`), and modifying it. That modification is what is stored in the new variable. "
   ]
  },
  {
   "cell_type": "code",
   "execution_count": 44,
   "metadata": {},
   "outputs": [
    {
     "data": {
      "text/html": [
       "<table border=\"1\" class=\"dataframe\">\n",
       "    <thead>\n",
       "        <tr>\n",
       "            <th>Asthma</th> <th>African American (%)</th> <th>Total Population</th> <th>Unemployment</th> <th>Poverty</th> <th>Hispanic (%)</th> <th>White (%)</th>\n",
       "        </tr>\n",
       "    </thead>\n",
       "    <tbody>\n",
       "        <tr>\n",
       "            <td>60.66 </td> <td>0.7                 </td> <td>6133            </td> <td>12.3        </td> <td>72.5   </td> <td>91.1        </td> <td>5.8      </td>\n",
       "        </tr>\n",
       "        <tr>\n",
       "            <td>142.17</td> <td>12.5                </td> <td>6692            </td> <td>19.6        </td> <td>61.3   </td> <td>57.4        </td> <td>6        </td>\n",
       "        </tr>\n",
       "        <tr>\n",
       "            <td>142.28</td> <td>28.7                </td> <td>4106            </td> <td>20          </td> <td>74.5   </td> <td>52.7        </td> <td>2.7      </td>\n",
       "        </tr>\n",
       "        <tr>\n",
       "            <td>107.8 </td> <td>5.8                 </td> <td>6343            </td> <td>23.5        </td> <td>83.4   </td> <td>78          </td> <td>9.1      </td>\n",
       "        </tr>\n",
       "        <tr>\n",
       "            <td>94.54 </td> <td>2.4                 </td> <td>4165            </td> <td>19.3        </td> <td>78.3   </td> <td>66.5        </td> <td>25.6     </td>\n",
       "        </tr>\n",
       "        <tr>\n",
       "            <td>89.83 </td> <td>15.9                </td> <td>9122            </td> <td>28.5        </td> <td>73.8   </td> <td>76.7        </td> <td>5.1      </td>\n",
       "        </tr>\n",
       "        <tr>\n",
       "            <td>118.86</td> <td>6.8                 </td> <td>6161            </td> <td>21.7        </td> <td>89.5   </td> <td>70.8        </td> <td>15.2     </td>\n",
       "        </tr>\n",
       "        <tr>\n",
       "            <td>89.51 </td> <td>3.7                 </td> <td>5936            </td> <td>20.1        </td> <td>70.7   </td> <td>83.1        </td> <td>5.1      </td>\n",
       "        </tr>\n",
       "        <tr>\n",
       "            <td>142.28</td> <td>21.3                </td> <td>5252            </td> <td>21.8        </td> <td>77.5   </td> <td>57.9        </td> <td>1.5      </td>\n",
       "        </tr>\n",
       "        <tr>\n",
       "            <td>78.61 </td> <td>11.7                </td> <td>4756            </td> <td>21.6        </td> <td>77.8   </td> <td>72.5        </td> <td>2.5      </td>\n",
       "        </tr>\n",
       "    </tbody>\n",
       "</table>\n",
       "<p>... (4833 rows omitted)</p>"
      ],
      "text/plain": [
       "Asthma | African American (%) | Total Population | Unemployment | Poverty | Hispanic (%) | White (%)\n",
       "60.66  | 0.7                  | 6133             | 12.3         | 72.5    | 91.1         | 5.8\n",
       "142.17 | 12.5                 | 6692             | 19.6         | 61.3    | 57.4         | 6\n",
       "142.28 | 28.7                 | 4106             | 20           | 74.5    | 52.7         | 2.7\n",
       "107.8  | 5.8                  | 6343             | 23.5         | 83.4    | 78           | 9.1\n",
       "94.54  | 2.4                  | 4165             | 19.3         | 78.3    | 66.5         | 25.6\n",
       "89.83  | 15.9                 | 9122             | 28.5         | 73.8    | 76.7         | 5.1\n",
       "118.86 | 6.8                  | 6161             | 21.7         | 89.5    | 70.8         | 15.2\n",
       "89.51  | 3.7                  | 5936             | 20.1         | 70.7    | 83.1         | 5.1\n",
       "142.28 | 21.3                 | 5252             | 21.8         | 77.5    | 57.9         | 1.5\n",
       "78.61  | 11.7                 | 4756             | 21.6         | 77.8    | 72.5         | 2.5\n",
       "... (4833 rows omitted)"
      ]
     },
     "execution_count": 44,
     "metadata": {},
     "output_type": "execute_result"
    }
   ],
   "source": [
    "new_census_data = select_census_data.where(\"Total Population\", are.above(4000))\n",
    "new_census_data #only including Paris"
   ]
  },
  {
   "cell_type": "markdown",
   "metadata": {},
   "source": [
    "There are still 4833 rows omitted! Let's take every 10th entry to cut this table down a little more. \n",
    "\n",
    "To do this we need to use the `take` function. The `take` function creates a new table with rows from the original table whose indices(row number) are given. In Python, indices start at 0! \n",
    "\n",
    "Here's taking every 10th entry. Inside of the take parentheses is a Python list of numbers from 0 to 90, increasing by 10s. This indicates exactly which rows we want to keep (every 10th row)."
   ]
  },
  {
   "cell_type": "code",
   "execution_count": 45,
   "metadata": {
    "scrolled": true
   },
   "outputs": [
    {
     "data": {
      "text/html": [
       "<table border=\"1\" class=\"dataframe\">\n",
       "    <thead>\n",
       "        <tr>\n",
       "            <th>Asthma</th> <th>African American (%)</th> <th>Total Population</th> <th>Unemployment</th> <th>Poverty</th> <th>Hispanic (%)</th> <th>White (%)</th>\n",
       "        </tr>\n",
       "    </thead>\n",
       "    <tbody>\n",
       "        <tr>\n",
       "            <td>60.66 </td> <td>0.7                 </td> <td>6133            </td> <td>12.3        </td> <td>72.5   </td> <td>91.1        </td> <td>5.8      </td>\n",
       "        </tr>\n",
       "        <tr>\n",
       "            <td>91.39 </td> <td>16.1                </td> <td>4724            </td> <td>13.6        </td> <td>76.3   </td> <td>82.6        </td> <td>0.7      </td>\n",
       "        </tr>\n",
       "        <tr>\n",
       "            <td>94.01 </td> <td>10.9                </td> <td>5592            </td> <td>15.6        </td> <td>75.5   </td> <td>74.1        </td> <td>7.7      </td>\n",
       "        </tr>\n",
       "        <tr>\n",
       "            <td>115.44</td> <td>3.6                 </td> <td>5431            </td> <td>23.1        </td> <td>87.5   </td> <td>66.6        </td> <td>5.2      </td>\n",
       "        </tr>\n",
       "        <tr>\n",
       "            <td>69.46 </td> <td>1.8                 </td> <td>5840            </td> <td>10.4        </td> <td>50     </td> <td>88.5        </td> <td>7.6      </td>\n",
       "        </tr>\n",
       "        <tr>\n",
       "            <td>87.56 </td> <td>17.7                </td> <td>7330            </td> <td>14.8        </td> <td>52.6   </td> <td>64.5        </td> <td>7.1      </td>\n",
       "        </tr>\n",
       "        <tr>\n",
       "            <td>65.14 </td> <td>7.3                 </td> <td>4916            </td> <td>12.4        </td> <td>76.2   </td> <td>91.3        </td> <td>0.4      </td>\n",
       "        </tr>\n",
       "        <tr>\n",
       "            <td>46.23 </td> <td>0.5                 </td> <td>5516            </td> <td>12.3        </td> <td>42.3   </td> <td>94.6        </td> <td>3.7      </td>\n",
       "        </tr>\n",
       "        <tr>\n",
       "            <td>50.32 </td> <td>15.8                </td> <td>4750            </td> <td>12          </td> <td>47.9   </td> <td>75          </td> <td>4.6      </td>\n",
       "        </tr>\n",
       "        <tr>\n",
       "            <td>111.82</td> <td>14.9                </td> <td>8618            </td> <td>29.5        </td> <td>82.1   </td> <td>73.6        </td> <td>7.8      </td>\n",
       "        </tr>\n",
       "    </tbody>\n",
       "</table>\n",
       "<p>... (1 rows omitted)</p>"
      ],
      "text/plain": [
       "Asthma | African American (%) | Total Population | Unemployment | Poverty | Hispanic (%) | White (%)\n",
       "60.66  | 0.7                  | 6133             | 12.3         | 72.5    | 91.1         | 5.8\n",
       "91.39  | 16.1                 | 4724             | 13.6         | 76.3    | 82.6         | 0.7\n",
       "94.01  | 10.9                 | 5592             | 15.6         | 75.5    | 74.1         | 7.7\n",
       "115.44 | 3.6                  | 5431             | 23.1         | 87.5    | 66.6         | 5.2\n",
       "69.46  | 1.8                  | 5840             | 10.4         | 50      | 88.5         | 7.6\n",
       "87.56  | 17.7                 | 7330             | 14.8         | 52.6    | 64.5         | 7.1\n",
       "65.14  | 7.3                  | 4916             | 12.4         | 76.2    | 91.3         | 0.4\n",
       "46.23  | 0.5                  | 5516             | 12.3         | 42.3    | 94.6         | 3.7\n",
       "50.32  | 15.8                 | 4750             | 12           | 47.9    | 75           | 4.6\n",
       "111.82 | 14.9                 | 8618             | 29.5         | 82.1    | 73.6         | 7.8\n",
       "... (1 rows omitted)"
      ]
     },
     "execution_count": 45,
     "metadata": {},
     "output_type": "execute_result"
    }
   ],
   "source": [
    "census_10_year = new_census_data.take([0,10,20,30,40,50,60,70,80,90,100])\n",
    "census_10_year"
   ]
  },
  {
   "cell_type": "code",
   "execution_count": 46,
   "metadata": {},
   "outputs": [
    {
     "data": {
      "text/html": [
       "<table border=\"1\" class=\"dataframe\">\n",
       "    <thead>\n",
       "        <tr>\n",
       "            <th>Asthma</th> <th>African American (%)</th> <th>Total Population</th> <th>Unemployment</th> <th>Poverty</th> <th>Hispanic (%)</th> <th>White (%)</th>\n",
       "        </tr>\n",
       "    </thead>\n",
       "    <tbody>\n",
       "        <tr>\n",
       "            <td>60.66 </td> <td>0.7                 </td> <td>6133            </td> <td>12.3        </td> <td>72.5   </td> <td>91.1        </td> <td>5.8      </td>\n",
       "        </tr>\n",
       "        <tr>\n",
       "            <td>91.39 </td> <td>16.1                </td> <td>4724            </td> <td>13.6        </td> <td>76.3   </td> <td>82.6        </td> <td>0.7      </td>\n",
       "        </tr>\n",
       "        <tr>\n",
       "            <td>94.01 </td> <td>10.9                </td> <td>5592            </td> <td>15.6        </td> <td>75.5   </td> <td>74.1        </td> <td>7.7      </td>\n",
       "        </tr>\n",
       "        <tr>\n",
       "            <td>115.44</td> <td>3.6                 </td> <td>5431            </td> <td>23.1        </td> <td>87.5   </td> <td>66.6        </td> <td>5.2      </td>\n",
       "        </tr>\n",
       "        <tr>\n",
       "            <td>69.46 </td> <td>1.8                 </td> <td>5840            </td> <td>10.4        </td> <td>50     </td> <td>88.5        </td> <td>7.6      </td>\n",
       "        </tr>\n",
       "        <tr>\n",
       "            <td>87.56 </td> <td>17.7                </td> <td>7330            </td> <td>14.8        </td> <td>52.6   </td> <td>64.5        </td> <td>7.1      </td>\n",
       "        </tr>\n",
       "        <tr>\n",
       "            <td>65.14 </td> <td>7.3                 </td> <td>4916            </td> <td>12.4        </td> <td>76.2   </td> <td>91.3        </td> <td>0.4      </td>\n",
       "        </tr>\n",
       "        <tr>\n",
       "            <td>46.23 </td> <td>0.5                 </td> <td>5516            </td> <td>12.3        </td> <td>42.3   </td> <td>94.6        </td> <td>3.7      </td>\n",
       "        </tr>\n",
       "        <tr>\n",
       "            <td>50.32 </td> <td>15.8                </td> <td>4750            </td> <td>12          </td> <td>47.9   </td> <td>75          </td> <td>4.6      </td>\n",
       "        </tr>\n",
       "        <tr>\n",
       "            <td>111.82</td> <td>14.9                </td> <td>8618            </td> <td>29.5        </td> <td>82.1   </td> <td>73.6        </td> <td>7.8      </td>\n",
       "        </tr>\n",
       "    </tbody>\n",
       "</table>\n",
       "<p>... (1 rows omitted)</p>"
      ],
      "text/plain": [
       "Asthma | African American (%) | Total Population | Unemployment | Poverty | Hispanic (%) | White (%)\n",
       "60.66  | 0.7                  | 6133             | 12.3         | 72.5    | 91.1         | 5.8\n",
       "91.39  | 16.1                 | 4724             | 13.6         | 76.3    | 82.6         | 0.7\n",
       "94.01  | 10.9                 | 5592             | 15.6         | 75.5    | 74.1         | 7.7\n",
       "115.44 | 3.6                  | 5431             | 23.1         | 87.5    | 66.6         | 5.2\n",
       "69.46  | 1.8                  | 5840             | 10.4         | 50      | 88.5         | 7.6\n",
       "87.56  | 17.7                 | 7330             | 14.8         | 52.6    | 64.5         | 7.1\n",
       "65.14  | 7.3                  | 4916             | 12.4         | 76.2    | 91.3         | 0.4\n",
       "46.23  | 0.5                  | 5516             | 12.3         | 42.3    | 94.6         | 3.7\n",
       "50.32  | 15.8                 | 4750             | 12           | 47.9    | 75           | 4.6\n",
       "111.82 | 14.9                 | 8618             | 29.5         | 82.1    | 73.6         | 7.8\n",
       "... (1 rows omitted)"
      ]
     },
     "execution_count": 46,
     "metadata": {},
     "output_type": "execute_result"
    }
   ],
   "source": [
    "final_census_table = census_10_year\n",
    "final_census_table"
   ]
  },
  {
   "cell_type": "markdown",
   "metadata": {},
   "source": [
    "---\n",
    "\n",
    "### Tables Essentials!\n",
    "\n",
    "For your reference, here's a table of useful `Table` functions:\n",
    "\n",
    "|Name|Example|Purpose|\n",
    "|-|-|-|\n",
    "|`Table`|`Table()`|Create an empty table, usually to extend with data|\n",
    "|`Table.read_table`|`Table.read_table(\"my_data.csv\")`|Create a table from a data file|\n",
    "|`with_columns`|`tbl = Table().with_columns(\"N\", np.arange(5), \"2*N\", np.arange(0, 10, 2))`|Create a copy of a table with more columns|\n",
    "|`column`|`tbl.column(\"N\")`|Create an array containing the elements of a column|\n",
    "|`sort`|`tbl.sort(\"N\")`|Create a copy of a table sorted by the values in a column|\n",
    "|`where`|`tbl.where(\"N\", are.above(2))`|Create a copy of a table with only the rows that match some *predicate*|\n",
    "|`num_rows`|`tbl.num_rows`|Compute the number of rows in a table|\n",
    "|`num_columns`|`tbl.num_columns`|Compute the number of columns in a table|\n",
    "|`select`|`tbl.select(\"N\")`|Create a copy of a table with only some of the columns|\n",
    "|`drop`|`tbl.drop(\"2*N\")`|Create a copy of a table without some of the columns|\n",
    "|`take`|`tbl.take(np.arange(0, 6, 2))`|Create a copy of the table with only the rows whose indices are in the given array|\n",
    "|`join`|`tbl1.join(\"shared_column_name\", tbl2)`|Join together two tables with a common column name\n",
    "|`are.equal_to()`|`tbl.where(\"SEX\", are.equal_to(0))`|find values equal to that indicated|\n",
    "|`are.not_equal_to()`|`tbl.where(\"SEX\", are.not_equal_to(0))` | find values not including the one indicated|\n",
    "|`are.above()`| `tbl.where(\"AGE\", are.above(30))` | find values greater to that indicated|\n",
    "|`are.below()`| `tbl.where(\"AGE\", are.below(40))` | find values less than that indicated |\n",
    "|`are.between()`| `tbl.where(\"SEX\", are.between(18, 60))` | find values between the two indicated |\n",
    "\n",
    "---"
   ]
  },
  {
   "cell_type": "markdown",
   "metadata": {},
   "source": [
    "## Visualizations \n",
    "\n",
    "Now that we have a manageable table we can start making visualizations! Due to the numerical nature of the census table above, let's first try a scatter plot. \n",
    "\n",
    "To create a scatter plot, we need to use the `scatter()` function. The general form is:\n",
    "\n",
    "```python\n",
    "table.scatter(\"column for x axis\", \"column for y axis\")\n",
    "```\n",
    "\n",
    "An example is shown below:"
   ]
  },
  {
   "cell_type": "code",
   "execution_count": 54,
   "metadata": {
    "scrolled": true
   },
   "outputs": [
    {
     "data": {
      "image/png": "[encoded data removed]",
      "text/plain": [
       "<Figure size 360x360 with 1 Axes>"
      ]
     },
     "metadata": {
      "needs_background": "light"
     },
     "output_type": "display_data"
    }
   ],
   "source": [
    "final_census_table.scatter(\"Asthma\", \"Unemployment\") "
   ]
  },
  {
   "cell_type": "markdown",
   "metadata": {},
   "source": [
    "With this data, we can also make a line plot. To do this, we need to use the `plot()` function. This works a lot like `scatter()` where the general form is:\n",
    "\n",
    "```python\n",
    "table.plot(\"x column\", \"y column\")\n",
    "```"
   ]
  },
  {
   "cell_type": "code",
   "execution_count": 48,
   "metadata": {},
   "outputs": [
    {
     "data": {
      "image/png": "[encoded data removed]",
      "text/plain": [
       "<Figure size 432x288 with 1 Axes>"
      ]
     },
     "metadata": {
      "needs_background": "light"
     },
     "output_type": "display_data"
    }
   ],
   "source": [
    "final_census_table.plot(\"Poverty\", \"Asthma\") "
   ]
  },
  {
   "cell_type": "markdown",
   "metadata": {},
   "source": [
    "Now try plotting a graph in the next cell using any of the two columns from the table below! You can play around with different columns and either the scatter( ) or plot( ) function."
   ]
  },
  {
   "cell_type": "code",
   "execution_count": 49,
   "metadata": {},
   "outputs": [
    {
     "data": {
      "text/html": [
       "<table border=\"1\" class=\"dataframe\">\n",
       "    <thead>\n",
       "        <tr>\n",
       "            <th>Asthma</th> <th>African American (%)</th> <th>Total Population</th> <th>Unemployment</th> <th>Poverty</th> <th>Hispanic (%)</th> <th>White (%)</th>\n",
       "        </tr>\n",
       "    </thead>\n",
       "    <tbody>\n",
       "        <tr>\n",
       "            <td>60.66 </td> <td>0.7                 </td> <td>6133            </td> <td>12.3        </td> <td>72.5   </td> <td>91.1        </td> <td>5.8      </td>\n",
       "        </tr>\n",
       "        <tr>\n",
       "            <td>91.39 </td> <td>16.1                </td> <td>4724            </td> <td>13.6        </td> <td>76.3   </td> <td>82.6        </td> <td>0.7      </td>\n",
       "        </tr>\n",
       "        <tr>\n",
       "            <td>94.01 </td> <td>10.9                </td> <td>5592            </td> <td>15.6        </td> <td>75.5   </td> <td>74.1        </td> <td>7.7      </td>\n",
       "        </tr>\n",
       "        <tr>\n",
       "            <td>115.44</td> <td>3.6                 </td> <td>5431            </td> <td>23.1        </td> <td>87.5   </td> <td>66.6        </td> <td>5.2      </td>\n",
       "        </tr>\n",
       "        <tr>\n",
       "            <td>69.46 </td> <td>1.8                 </td> <td>5840            </td> <td>10.4        </td> <td>50     </td> <td>88.5        </td> <td>7.6      </td>\n",
       "        </tr>\n",
       "        <tr>\n",
       "            <td>87.56 </td> <td>17.7                </td> <td>7330            </td> <td>14.8        </td> <td>52.6   </td> <td>64.5        </td> <td>7.1      </td>\n",
       "        </tr>\n",
       "        <tr>\n",
       "            <td>65.14 </td> <td>7.3                 </td> <td>4916            </td> <td>12.4        </td> <td>76.2   </td> <td>91.3        </td> <td>0.4      </td>\n",
       "        </tr>\n",
       "        <tr>\n",
       "            <td>46.23 </td> <td>0.5                 </td> <td>5516            </td> <td>12.3        </td> <td>42.3   </td> <td>94.6        </td> <td>3.7      </td>\n",
       "        </tr>\n",
       "        <tr>\n",
       "            <td>50.32 </td> <td>15.8                </td> <td>4750            </td> <td>12          </td> <td>47.9   </td> <td>75          </td> <td>4.6      </td>\n",
       "        </tr>\n",
       "        <tr>\n",
       "            <td>111.82</td> <td>14.9                </td> <td>8618            </td> <td>29.5        </td> <td>82.1   </td> <td>73.6        </td> <td>7.8      </td>\n",
       "        </tr>\n",
       "    </tbody>\n",
       "</table>\n",
       "<p>... (1 rows omitted)</p>"
      ],
      "text/plain": [
       "Asthma | African American (%) | Total Population | Unemployment | Poverty | Hispanic (%) | White (%)\n",
       "60.66  | 0.7                  | 6133             | 12.3         | 72.5    | 91.1         | 5.8\n",
       "91.39  | 16.1                 | 4724             | 13.6         | 76.3    | 82.6         | 0.7\n",
       "94.01  | 10.9                 | 5592             | 15.6         | 75.5    | 74.1         | 7.7\n",
       "115.44 | 3.6                  | 5431             | 23.1         | 87.5    | 66.6         | 5.2\n",
       "69.46  | 1.8                  | 5840             | 10.4         | 50      | 88.5         | 7.6\n",
       "87.56  | 17.7                 | 7330             | 14.8         | 52.6    | 64.5         | 7.1\n",
       "65.14  | 7.3                  | 4916             | 12.4         | 76.2    | 91.3         | 0.4\n",
       "46.23  | 0.5                  | 5516             | 12.3         | 42.3    | 94.6         | 3.7\n",
       "50.32  | 15.8                 | 4750             | 12           | 47.9    | 75           | 4.6\n",
       "111.82 | 14.9                 | 8618             | 29.5         | 82.1    | 73.6         | 7.8\n",
       "... (1 rows omitted)"
      ]
     },
     "execution_count": 49,
     "metadata": {},
     "output_type": "execute_result"
    }
   ],
   "source": [
    "# run this cell\n",
    "final_census_table"
   ]
  },
  {
   "cell_type": "code",
   "execution_count": 50,
   "metadata": {},
   "outputs": [
    {
     "data": {
      "text/plain": [
       "Ellipsis"
      ]
     },
     "execution_count": 50,
     "metadata": {},
     "output_type": "execute_result"
    }
   ],
   "source": [
    "# Put your code here!\n",
    "your_plot = ...\n",
    "your_plot"
   ]
  },
  {
   "cell_type": "markdown",
   "metadata": {},
   "source": [
    "Though a bar may be better. Bar graphs follow the same formula as scatter plots and line graphs above, with the general form:\n",
    "\n",
    "```python\n",
    "table.bar(\"x axis\", \"y axis\")\n",
    "```"
   ]
  },
  {
   "cell_type": "code",
   "execution_count": 51,
   "metadata": {},
   "outputs": [
    {
     "data": {
      "image/png": "[encoded data removed]",
      "text/plain": [
       "<Figure size 432x288 with 1 Axes>"
      ]
     },
     "metadata": {
      "needs_background": "light"
     },
     "output_type": "display_data"
    }
   ],
   "source": [
    "final_census_table.bar(\"Asthma\", \"African American (%)\") "
   ]
  },
  {
   "cell_type": "markdown",
   "metadata": {},
   "source": [
    "You can also use the functino `barh()` instead of `bar()` in order to flip the bar graph horizontally. Sometimes, this makes for a cleaner visualization."
   ]
  },
  {
   "cell_type": "code",
   "execution_count": 52,
   "metadata": {},
   "outputs": [
    {
     "data": {
      "image/png": "[encoded data removed]",
      "text/plain": [
       "<Figure size 432x288 with 1 Axes>"
      ]
     },
     "metadata": {
      "needs_background": "light"
     },
     "output_type": "display_data"
    }
   ],
   "source": [
    "census_data.hist(\"Asthma\")"
   ]
  },
  {
   "cell_type": "markdown",
   "metadata": {},
   "source": [
    "## Defining Functions"
   ]
  },
  {
   "cell_type": "markdown",
   "metadata": {},
   "source": [
    "So far, we have gone over multiple table functions that can manipulate data sets. A large part of programming is defining functions so we can use it in other instances. The way we do this is with a \"def\" and \"return\" statement. See the example below!"
   ]
  },
  {
   "cell_type": "code",
   "execution_count": 55,
   "metadata": {},
   "outputs": [
    {
     "data": {
      "text/plain": [
       "5"
      ]
     },
     "execution_count": 55,
     "metadata": {},
     "output_type": "execute_result"
    }
   ],
   "source": [
    "def add(a, b):\n",
    "    return a + b\n",
    "\n",
    "sums = add(2, 3)\n",
    "sums"
   ]
  },
  {
   "cell_type": "markdown",
   "metadata": {},
   "source": [
    "Now try your own function except call it \"multiply\" and "
   ]
  },
  {
   "cell_type": "markdown",
   "metadata": {},
   "source": [
    "---\n",
    "\n",
    "## SUMMARY \n",
    "\n",
    "### You've learned a lot in this module! Let's look back on the key parts. \n",
    "\n",
    "- To import data from a .csv/.txt file, we write `Table.read_table(\"file_name\")`.\n",
    "\n",
    "- To create our own table, we write `Table( ).with_columns(\"Column Name\", array_name, . . .)` . \n",
    "\n",
    "- To count number of rows, we use `table_name.num_rows`.\n",
    "\n",
    "- To count number of columns, we use `table_name.num_columns`.\n",
    "\n",
    "- To create a new table with only the columns indicated in the parameters, we use `table_name.select(\"COLUMN NAME\", ...)`. \n",
    "\n",
    "- To create a new table without the columns indicated in the parameters, we use `table_name.drop(\"COLUMN NAME\", ...)`. \n",
    "\n",
    "- To create a table with only certain values, we can use `table_name.where(column_name, predicate)`.\n",
    "\n",
    "- To create a new table with indicated rows from the original table, we use `table_name.take([index 1, index 2, . . . ])`. Remember in Python indices start at 0!\n",
    "\n",
    "- To create a scatter plot, we use `table.scatter(column for x axis, column for y axis)`.\n",
    "\n",
    "- To create a line plot, we use `table.plot(x column, y column)`.\n",
    "\n",
    "- To make a bar graphs, we can use either `table.bar(x column, y column)` or `table.barh(x column, y column)`. \n",
    "\n",
    "- To make a histogram, we use `table.hist(x axis, bins(optional), unit(optional))`. \n",
    "\n",
    "- To merge tables, we use either `append` or `append_column`.\n",
    "\n",
    "- To merge two tables with a common column name we use the `join` method.\n",
    "\n",
    "---\n",
    "\n",
    "With just some simple code, we were able to do an incredible amount of data analysis! Play around with the examples until you feel comfortable with the content of this notebook. We will be using notebooks to analyze your own data sets in the future! Please ask if you have questions!\n",
    "\n",
    "\n",
    "If you need help, please consult the [Data Peers](https://data.berkeley.edu/education/data-science-community)!"
   ]
  },
  {
   "cell_type": "markdown",
   "metadata": {},
   "source": [
    "Talk about how to have a value for something such as Cardiovasular disease\n",
    "Cardiovascular vs. pollution\n",
    "(optional) analysis of something. pick one environment outcome and look at that vs. cardiovascular disease\n",
    "instead of merging tables. do histograms to get to know the data for lab 2\n"
   ]
  }
 ],
 "metadata": {
  "anaconda-cloud": {},
  "kernelspec": {
   "display_name": "Python 3",
   "language": "python",
   "name": "python3"
  },
  "language_info": {
   "codemirror_mode": {
    "name": "ipython",
    "version": 3
   },
   "file_extension": ".py",
   "mimetype": "text/x-python",
   "name": "python",
   "nbconvert_exporter": "python",
   "pygments_lexer": "ipython3",
   "version": "3.6.7"
  }
 },
 "nbformat": 4,
 "nbformat_minor": 2
}
