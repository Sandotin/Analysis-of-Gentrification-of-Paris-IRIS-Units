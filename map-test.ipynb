{
 "cells": [
  {
   "cell_type": "code",
   "execution_count": 9,
   "metadata": {
    "scrolled": true
   },
   "outputs": [],
   "source": [
    "!pip install -I -q folium==0.8.3\n",
    "import pandas as pd\n",
    "import folium\n",
    "import geojson\n",
    "import geopandas as gpd\n",
    "import warnings\n",
    "warnings.filterwarnings('ignore')\n"
   ]
  },
  {
   "cell_type": "code",
   "execution_count": null,
   "metadata": {},
   "outputs": [
    {
     "data": {
      "text/plain": [
       "'0.8.3'"
      ]
     },
     "execution_count": 10,
     "metadata": {},
     "output_type": "execute_result"
    }
   ],
   "source": [
    "# sanity check- should be 0.8.3\n",
    "folium.__version__"
   ]
  },
  {
   "cell_type": "code",
   "execution_count": null,
   "metadata": {
    "scrolled": true
   },
   "outputs": [],
   "source": [
    "# read in csv data\n",
    "socio = pd.read_csv(\"IRIS_SOCIOLOGIE.csv\", index_col=0)\n",
    "socio.IRIS = socio.IRIS.astype(str) # convert IRIS var to str for correct joining with geojson\n",
    "socio.head()"
   ]
  },
  {
   "cell_type": "code",
   "execution_count": null,
   "metadata": {
    "scrolled": true
   },
   "outputs": [],
   "source": [
    "# function to display maps\n",
    "def embed_map(m):\n",
    "    from IPython.display import IFrame\n",
    "    m.save('index.html')\n",
    "    return IFrame('index.html', width='100%', height='1000px')"
   ]
  },
  {
   "cell_type": "code",
   "execution_count": null,
   "metadata": {
    "scrolled": true
   },
   "outputs": [],
   "source": [
    "geo_path = \"iris-sociologie.geojson\"\n",
    "\n",
    "# load geojson\n",
    "g = geojson.load(open(\"iris-sociologie.geojson\"))\n",
    "\n",
    "# load geojson in GeoDataFrame (for EDA)\n",
    "geo = gpd.read_file(geo_path)\n",
    "geo.head()"
   ]
  },
  {
   "cell_type": "code",
   "execution_count": null,
   "metadata": {
    "scrolled": false
   },
   "outputs": [],
   "source": [
    "# create simple map with geojson outlines of arondissmonts\n",
    "m = folium.Map(location=[48.6, 2.4], zoom_start=10)\n",
    "\n",
    "folium.GeoJson(g).add_to(m)\n",
    "\n",
    "embed_map(m)\n",
    "\n",
    "# click on the whitespace to the left of the map to toggle scrolling\n"
   ]
  },
  {
   "cell_type": "code",
   "execution_count": null,
   "metadata": {
    "scrolled": false
   },
   "outputs": [],
   "source": [
    "# list of column names for choropleth reference\n",
    "socio.columns"
   ]
  },
  {
   "cell_type": "code",
   "execution_count": null,
   "metadata": {
    "scrolled": false
   },
   "outputs": [],
   "source": [
    "# create a choropleth overlay for C12_MEN variable\n",
    "m = folium.Map(location=[48.8, 2.3], zoom_start=11)\n",
    "\n",
    "folium.Choropleth(\n",
    " geo_data=g, # geojson \n",
    " data=socio, # df\n",
    " columns=['IRIS', 'C12_MEN'],   # first col must be IRIS, second col sets colors for overlay\n",
    " key_on='feature.properties.iris',   # key to match csv data with geojson areas\n",
    " fill_color='BuGn').add_to(m)\n",
    "\n",
    "folium.LayerControl().add_to(m)\n",
    "\n",
    "embed_map(m)\n",
    "\n",
    "# click on the whitespace to the left of the cell to toggle scrolling\n"
   ]
  }
 ],
 "metadata": {
  "kernelspec": {
   "display_name": "Python 3",
   "language": "python",
   "name": "python3"
  },
  "language_info": {
   "codemirror_mode": {
    "name": "ipython",
    "version": 3
   },
   "file_extension": ".py",
   "mimetype": "text/x-python",
   "name": "python",
   "nbconvert_exporter": "python",
   "pygments_lexer": "ipython3",
   "version": "3.6.7"
  }
 },
 "nbformat": 4,
 "nbformat_minor": 2
}
